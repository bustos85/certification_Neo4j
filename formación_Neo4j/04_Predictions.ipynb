{
  "nbformat": 4,
  "nbformat_minor": 0,
  "metadata": {
    "kernelspec": {
      "display_name": "Python 3",
      "language": "python",
      "name": "python3"
    },
    "language_info": {
      "codemirror_mode": {
        "name": "ipython",
        "version": 3
      },
      "file_extension": ".py",
      "mimetype": "text/x-python",
      "name": "python",
      "nbconvert_exporter": "python",
      "pygments_lexer": "ipython3",
      "version": "3.6.7"
    },
    "colab": {
      "name": "04_Predictions.ipynb",
      "provenance": []
    }
  },
  "cells": [
    {
      "cell_type": "markdown",
      "metadata": {
        "pycharm": {},
        "id": "icUH4Aq_zCu2",
        "colab_type": "text"
      },
      "source": [
        "# Predictions\n",
        "\n",
        "In this notebook you will learn how to build a link prediction classifier using Neo4j and scikit-learn. \n",
        "\n",
        "Import the libraries that you will need (remember to unset Reset all runtimes before running):"
      ]
    },
    {
      "cell_type": "code",
      "metadata": {
        "id": "kmZHNK8r1aGi",
        "colab_type": "code",
        "colab": {
          "base_uri": "https://localhost:8080/",
          "height": 547
        },
        "outputId": "a6a8fc1e-058a-4c88-cd28-835c8573bade"
      },
      "source": [
        "!pip install py2neo==4.1.3 pandas matplotlib sklearn"
      ],
      "execution_count": 2,
      "outputs": [
        {
          "output_type": "stream",
          "text": [
            "Requirement already satisfied: py2neo==4.1.3 in /usr/local/lib/python3.6/dist-packages (4.1.3)\n",
            "Requirement already satisfied: pandas in /usr/local/lib/python3.6/dist-packages (1.0.3)\n",
            "Requirement already satisfied: matplotlib in /usr/local/lib/python3.6/dist-packages (3.2.1)\n",
            "Requirement already satisfied: sklearn in /usr/local/lib/python3.6/dist-packages (0.0)\n",
            "Requirement already satisfied: colorama in /usr/local/lib/python3.6/dist-packages (from py2neo==4.1.3) (0.4.3)\n",
            "Requirement already satisfied: pytest in /usr/local/lib/python3.6/dist-packages (from py2neo==4.1.3) (3.6.4)\n",
            "Requirement already satisfied: prompt-toolkit==1.0.15 in /usr/local/lib/python3.6/dist-packages (from py2neo==4.1.3) (1.0.15)\n",
            "Requirement already satisfied: urllib3[secure]<1.23,>=1.21.1 in /usr/local/lib/python3.6/dist-packages (from py2neo==4.1.3) (1.22)\n",
            "Requirement already satisfied: neo4j-driver<1.7,>=1.6.2 in /usr/local/lib/python3.6/dist-packages (from py2neo==4.1.3) (1.6.3)\n",
            "Requirement already satisfied: pygments>=2.0 in /usr/local/lib/python3.6/dist-packages (from py2neo==4.1.3) (2.1.3)\n",
            "Requirement already satisfied: click>=2.0 in /usr/local/lib/python3.6/dist-packages (from py2neo==4.1.3) (7.1.1)\n",
            "Requirement already satisfied: neotime==1.0.0 in /usr/local/lib/python3.6/dist-packages (from py2neo==4.1.3) (1.0.0)\n",
            "Requirement already satisfied: python-dateutil>=2.6.1 in /usr/local/lib/python3.6/dist-packages (from pandas) (2.8.1)\n",
            "Requirement already satisfied: numpy>=1.13.3 in /usr/local/lib/python3.6/dist-packages (from pandas) (1.18.3)\n",
            "Requirement already satisfied: pytz>=2017.2 in /usr/local/lib/python3.6/dist-packages (from pandas) (2018.9)\n",
            "Requirement already satisfied: kiwisolver>=1.0.1 in /usr/local/lib/python3.6/dist-packages (from matplotlib) (1.2.0)\n",
            "Requirement already satisfied: cycler>=0.10 in /usr/local/lib/python3.6/dist-packages (from matplotlib) (0.10.0)\n",
            "Requirement already satisfied: pyparsing!=2.0.4,!=2.1.2,!=2.1.6,>=2.0.1 in /usr/local/lib/python3.6/dist-packages (from matplotlib) (2.4.7)\n",
            "Requirement already satisfied: scikit-learn in /usr/local/lib/python3.6/dist-packages (from sklearn) (0.22.2.post1)\n",
            "Requirement already satisfied: six>=1.10.0 in /usr/local/lib/python3.6/dist-packages (from pytest->py2neo==4.1.3) (1.12.0)\n",
            "Requirement already satisfied: py>=1.5.0 in /usr/local/lib/python3.6/dist-packages (from pytest->py2neo==4.1.3) (1.8.1)\n",
            "Requirement already satisfied: setuptools in /usr/local/lib/python3.6/dist-packages (from pytest->py2neo==4.1.3) (46.1.3)\n",
            "Requirement already satisfied: pluggy<0.8,>=0.5 in /usr/local/lib/python3.6/dist-packages (from pytest->py2neo==4.1.3) (0.7.1)\n",
            "Requirement already satisfied: atomicwrites>=1.0 in /usr/local/lib/python3.6/dist-packages (from pytest->py2neo==4.1.3) (1.3.0)\n",
            "Requirement already satisfied: attrs>=17.4.0 in /usr/local/lib/python3.6/dist-packages (from pytest->py2neo==4.1.3) (19.3.0)\n",
            "Requirement already satisfied: more-itertools>=4.0.0 in /usr/local/lib/python3.6/dist-packages (from pytest->py2neo==4.1.3) (8.2.0)\n",
            "Requirement already satisfied: wcwidth in /usr/local/lib/python3.6/dist-packages (from prompt-toolkit==1.0.15->py2neo==4.1.3) (0.1.9)\n",
            "Requirement already satisfied: certifi; extra == \"secure\" in /usr/local/lib/python3.6/dist-packages (from urllib3[secure]<1.23,>=1.21.1->py2neo==4.1.3) (2020.4.5.1)\n",
            "Requirement already satisfied: joblib>=0.11 in /usr/local/lib/python3.6/dist-packages (from scikit-learn->sklearn) (0.14.1)\n",
            "Requirement already satisfied: scipy>=0.17.0 in /usr/local/lib/python3.6/dist-packages (from scikit-learn->sklearn) (1.4.1)\n"
          ],
          "name": "stdout"
        }
      ]
    },
    {
      "cell_type": "code",
      "metadata": {
        "pycharm": {},
        "id": "xfn_6zDHzCu3",
        "colab_type": "code",
        "colab": {}
      },
      "source": [
        "from py2neo import Graph\n",
        "import pandas as pd\n",
        "\n",
        "import matplotlib \n",
        "import matplotlib.pyplot as plt\n",
        "\n",
        "plt.style.use('fivethirtyeight')\n",
        "pd.set_option('display.float_format', lambda x: '%.3f' % x)\n",
        "\n",
        "import pandas as pd\n",
        "from collections import Counter\n",
        "from sklearn.ensemble import RandomForestClassifier\n",
        "\n",
        "from sklearn.metrics import recall_score\n",
        "from sklearn.metrics import precision_score\n",
        "from sklearn.metrics import accuracy_score"
      ],
      "execution_count": 0,
      "outputs": []
    },
    {
      "cell_type": "markdown",
      "metadata": {
        "pycharm": {},
        "id": "xWMilihUzCu6",
        "colab_type": "text"
      },
      "source": [
        "Next, create a connection to your Neo4j Sandbox, just as you did previously when you set up your environment. \n",
        "\n",
        "\n",
        "Update the cell below to use the Bolt URL, and Password, as you did previously."
      ]
    },
    {
      "cell_type": "code",
      "metadata": {
        "pycharm": {},
        "id": "mEapk8EyzCu6",
        "colab_type": "code",
        "colab": {}
      },
      "source": [
        "# Change the line of code below to use the Bolt URL and Password of your Sandbox.\n",
        "# graph = Graph(\"bolt://<IP Address>:<Bolt Port>\", auth=(\"neo4j\", \"<Password>\")) \n",
        " \n",
        "graph = Graph(\"bolt://18.207.236.67:32919\", auth=(\"neo4j\", \"age-hangars-starboard\"))"
      ],
      "execution_count": 0,
      "outputs": []
    },
    {
      "cell_type": "markdown",
      "metadata": {
        "pycharm": {},
        "id": "exXozah1zCu9",
        "colab_type": "text"
      },
      "source": [
        "# Building a co-author graph\n",
        "\n",
        "You will build an inferred graph of co-authors based on people collaborating on the same papers. You will store a property on the relationship indicating the year of their first collaboration.\n",
        "\n",
        "Run this code to do this:"
      ]
    },
    {
      "cell_type": "code",
      "metadata": {
        "pycharm": {},
        "id": "ogq5fJk_zCu9",
        "colab_type": "code",
        "colab": {
          "base_uri": "https://localhost:8080/",
          "height": 221
        },
        "outputId": "5f314b47-cc2f-4e0b-b351-80b351bff894"
      },
      "source": [
        "query = \"\"\"\n",
        "CALL apoc.periodic.iterate(\n",
        "  \"MATCH (a1)<-[:AUTHOR]-(paper)-[:AUTHOR]->(a2:Author)\n",
        "   WITH a1, a2, paper\n",
        "   ORDER BY a1, paper.year\n",
        "   RETURN a1, a2, collect(paper)[0].year AS year, count(*) AS collaborations\",\n",
        "  \"MERGE (a1)-[coauthor:CO_AUTHOR {year: year}]-(a2)\n",
        "   SET coauthor.collaborations = collaborations\", \n",
        "  {batchSize: 100})\n",
        "\"\"\"\n",
        "\n",
        "graph.run(query).stats()"
      ],
      "execution_count": 5,
      "outputs": [
        {
          "output_type": "execute_result",
          "data": {
            "text/plain": [
              "{'constraints_added': 0,\n",
              " 'constraints_removed': 0,\n",
              " 'contains_updates': False,\n",
              " 'indexes_added': 0,\n",
              " 'indexes_removed': 0,\n",
              " 'labels_added': 0,\n",
              " 'labels_removed': 0,\n",
              " 'nodes_created': 0,\n",
              " 'nodes_deleted': 0,\n",
              " 'properties_set': 0,\n",
              " 'relationships_created': 0,\n",
              " 'relationships_deleted': 0}"
            ]
          },
          "metadata": {
            "tags": []
          },
          "execution_count": 5
        }
      ]
    },
    {
      "cell_type": "markdown",
      "metadata": {
        "pycharm": {},
        "id": "FJnaVX9XzCvA",
        "colab_type": "text"
      },
      "source": [
        "Now that you have created a co-author graph, you need an approach that will allow you to predict future links (relationships) that will be created between people. \n",
        "\n",
        "You will use the [link prediction algorithms](https://neo4j.com/docs/graph-algorithms/current/algorithms/linkprediction/) that you learned about in the previous section. Once you have computed scores with this algorithms what should you do?\n",
        "\n",
        "There are two main approaches that one can take:\n",
        "\n",
        "## Using the measures directly\n",
        "\n",
        "You can use the scores from the link predictions directly, specifying a __threshold value__ above which we predict that a link will be created between two nodes.\n",
        "\n",
        "## Supervised learning\n",
        "\n",
        "You can take a supervised learning approach where you use the scores as features to train a binary classifier. The binary classifier then predicts whether a pair of nodes will have a link.\n",
        "\n",
        "In this notebook you will apply the supervised learning approach.\n",
        "\n",
        "## Train and test datasets \n",
        "\n",
        "Next, you must create the train and test datasets on which you can build, and then evaluate a model.\n",
        "\n",
        "## Positive examples\n",
        "\n",
        "The tricky thing when working with graph data is that you cannot just randomly split the data, as this could lead to data leakage.\n",
        "\n",
        "Data leakage can occur when data outside of your training data is inadvertently used to create your model. This can easily happen when working with graphs because pairs of nodes in the training set may be connected to those in the test set.\n",
        "\n",
        "When you compute link prediction measures over that training set the __measures computed contain information from the test set__ that you will later evaluate the model against.\n",
        "\n",
        "Instead, you need to split the graph into training and test sub graphs. If the graph has a concept of time, things are easier as you can split the graph at a point in time. The training set will be from before the time, the test set after.\n",
        "\n",
        "This is still not a perfect solution and you must ensure that the general network structure in the training and test sub graphs is similar.\n",
        "\n",
        "Subsequently, pairs of nodes in our train and test datasets will have relationships between them. They will be the __positive examples__ in your machine learning model.\n",
        "\n",
        "Because the citation graph contains times, you can create train and test graphs by splitting the data on a particular year. Next, you must determine what year that should be. Determine the distribution of the first year that co-authors collaborated:"
      ]
    },
    {
      "cell_type": "code",
      "metadata": {
        "pycharm": {},
        "id": "XYz2FFvnzCvA",
        "colab_type": "code",
        "colab": {
          "base_uri": "https://localhost:8080/",
          "height": 576
        },
        "outputId": "5fddd879-c089-4501-dbb1-6f3f5e5f3dce"
      },
      "source": [
        "query = \"\"\"\n",
        "MATCH p=()-[r:CO_AUTHOR]->() \n",
        "WITH r.year AS year, count(*) AS count\n",
        "ORDER BY year\n",
        "RETURN toString(year) AS year, count\n",
        "\"\"\"\n",
        "by_year = graph.run(query).to_data_frame()\n",
        "\n",
        "ax = by_year.plot(kind='bar', x='year', y='count', legend=None, figsize=(15,8))\n",
        "ax.xaxis.set_label_text(\"\")\n",
        "plt.tight_layout()\n",
        "plt.show()"
      ],
      "execution_count": 6,
      "outputs": [
        {
          "output_type": "display_data",
          "data": {
            "image/png": "[encoded data removed]",
            "text/plain": [
              "<Figure size 1080x576 with 1 Axes>"
            ]
          },
          "metadata": {
            "tags": []
          }
        }
      ]
    },
    {
      "cell_type": "markdown",
      "metadata": {
        "pycharm": {},
        "id": "ncnxehlBzCvE",
        "colab_type": "text"
      },
      "source": [
        "It looks like 2006 would act as a good year for splitting the data. All co-authorships from 2005 and earlier as our train graph, and everything from 2006 onwards as the test graph.\n",
        "\n",
        "Create explicit `CO_AUTHOR_EARLY` and `CO_AUTHOR_LATE` relationships in the graph based on that year. The following code will create these relationships:"
      ]
    },
    {
      "cell_type": "code",
      "metadata": {
        "pycharm": {},
        "id": "yJ3Q4phVzCvE",
        "colab_type": "code",
        "colab": {
          "base_uri": "https://localhost:8080/",
          "height": 221
        },
        "outputId": "7b932c2d-416f-4f6f-e832-e1cc8a0cbf34"
      },
      "source": [
        "query = \"\"\"\n",
        "MATCH (a)-[r:CO_AUTHOR]->(b) \n",
        "where r.year < 2006\n",
        "MERGE (a)-[:CO_AUTHOR_EARLY {year: r.year}]-(b);\n",
        "\"\"\"\n",
        "\n",
        "graph.run(query).stats()"
      ],
      "execution_count": 7,
      "outputs": [
        {
          "output_type": "execute_result",
          "data": {
            "text/plain": [
              "{'constraints_added': 0,\n",
              " 'constraints_removed': 0,\n",
              " 'contains_updates': True,\n",
              " 'indexes_added': 0,\n",
              " 'indexes_removed': 0,\n",
              " 'labels_added': 0,\n",
              " 'labels_removed': 0,\n",
              " 'nodes_created': 0,\n",
              " 'nodes_deleted': 0,\n",
              " 'properties_set': 81096,\n",
              " 'relationships_created': 81096,\n",
              " 'relationships_deleted': 0}"
            ]
          },
          "metadata": {
            "tags": []
          },
          "execution_count": 7
        }
      ]
    },
    {
      "cell_type": "code",
      "metadata": {
        "pycharm": {},
        "id": "NOXFd_zNzCvK",
        "colab_type": "code",
        "colab": {
          "base_uri": "https://localhost:8080/",
          "height": 221
        },
        "outputId": "c02cae1e-c24c-48b0-f156-f01a84559de2"
      },
      "source": [
        "query = \"\"\"\n",
        "MATCH (a)-[r:CO_AUTHOR]->(b) \n",
        "where r.year >= 2006\n",
        "MERGE (a)-[:CO_AUTHOR_LATE {year: r.year}]-(b);\n",
        "\"\"\"\n",
        "\n",
        "graph.run(query).stats()"
      ],
      "execution_count": 8,
      "outputs": [
        {
          "output_type": "execute_result",
          "data": {
            "text/plain": [
              "{'constraints_added': 0,\n",
              " 'constraints_removed': 0,\n",
              " 'contains_updates': True,\n",
              " 'indexes_added': 0,\n",
              " 'indexes_removed': 0,\n",
              " 'labels_added': 0,\n",
              " 'labels_removed': 0,\n",
              " 'nodes_created': 0,\n",
              " 'nodes_deleted': 0,\n",
              " 'properties_set': 74128,\n",
              " 'relationships_created': 74128,\n",
              " 'relationships_deleted': 0}"
            ]
          },
          "metadata": {
            "tags": []
          },
          "execution_count": 8
        }
      ]
    },
    {
      "cell_type": "markdown",
      "metadata": {
        "pycharm": {},
        "id": "9HVHQM26zCvN",
        "colab_type": "text"
      },
      "source": [
        "Determine how many co-author relationship you have in each of these sub graphs:"
      ]
    },
    {
      "cell_type": "code",
      "metadata": {
        "pycharm": {},
        "id": "1_NPKLmEzCvN",
        "colab_type": "code",
        "colab": {
          "base_uri": "https://localhost:8080/",
          "height": 80
        },
        "outputId": "2789ef12-7e55-47a4-99f5-68e899cb3678"
      },
      "source": [
        "query = \"\"\"\n",
        "MATCH ()-[:CO_AUTHOR_EARLY]->()\n",
        "RETURN count(*) AS count\n",
        "\"\"\"\n",
        "\n",
        "graph.run(query).to_data_frame()"
      ],
      "execution_count": 9,
      "outputs": [
        {
          "output_type": "execute_result",
          "data": {
            "text/html": [
              "<div>\n",
              "<style scoped>\n",
              "    .dataframe tbody tr th:only-of-type {\n",
              "        vertical-align: middle;\n",
              "    }\n",
              "\n",
              "    .dataframe tbody tr th {\n",
              "        vertical-align: top;\n",
              "    }\n",
              "\n",
              "    .dataframe thead th {\n",
              "        text-align: right;\n",
              "    }\n",
              "</style>\n",
              "<table border=\"1\" class=\"dataframe\">\n",
              "  <thead>\n",
              "    <tr style=\"text-align: right;\">\n",
              "      <th></th>\n",
              "      <th>count</th>\n",
              "    </tr>\n",
              "  </thead>\n",
              "  <tbody>\n",
              "    <tr>\n",
              "      <th>0</th>\n",
              "      <td>81096</td>\n",
              "    </tr>\n",
              "  </tbody>\n",
              "</table>\n",
              "</div>"
            ],
            "text/plain": [
              "   count\n",
              "0  81096"
            ]
          },
          "metadata": {
            "tags": []
          },
          "execution_count": 9
        }
      ]
    },
    {
      "cell_type": "code",
      "metadata": {
        "pycharm": {},
        "id": "kpuxKWFVzCvQ",
        "colab_type": "code",
        "colab": {
          "base_uri": "https://localhost:8080/",
          "height": 80
        },
        "outputId": "38cc443a-5100-47a8-9fff-027c8547cc99"
      },
      "source": [
        "query = \"\"\"\n",
        "MATCH ()-[:CO_AUTHOR_LATE]->()\n",
        "RETURN count(*) AS count\n",
        "\"\"\"\n",
        "\n",
        "graph.run(query).to_data_frame()"
      ],
      "execution_count": 10,
      "outputs": [
        {
          "output_type": "execute_result",
          "data": {
            "text/html": [
              "<div>\n",
              "<style scoped>\n",
              "    .dataframe tbody tr th:only-of-type {\n",
              "        vertical-align: middle;\n",
              "    }\n",
              "\n",
              "    .dataframe tbody tr th {\n",
              "        vertical-align: top;\n",
              "    }\n",
              "\n",
              "    .dataframe thead th {\n",
              "        text-align: right;\n",
              "    }\n",
              "</style>\n",
              "<table border=\"1\" class=\"dataframe\">\n",
              "  <thead>\n",
              "    <tr style=\"text-align: right;\">\n",
              "      <th></th>\n",
              "      <th>count</th>\n",
              "    </tr>\n",
              "  </thead>\n",
              "  <tbody>\n",
              "    <tr>\n",
              "      <th>0</th>\n",
              "      <td>74128</td>\n",
              "    </tr>\n",
              "  </tbody>\n",
              "</table>\n",
              "</div>"
            ],
            "text/plain": [
              "   count\n",
              "0  74128"
            ]
          },
          "metadata": {
            "tags": []
          },
          "execution_count": 10
        }
      ]
    },
    {
      "cell_type": "markdown",
      "metadata": {
        "pycharm": {},
        "id": "W59934dIzCvT",
        "colab_type": "text"
      },
      "source": [
        "This graph has a split of 52-48, which is a bit on the high side, but should be ok. Next, we create our __negative examples__.\n",
        "\n",
        "\n",
        "## Negative examples\n",
        "\n",
        "The simplest approach is to use all pair of nodes that don’t have a relationship. __The problem with this approach is that there are significantly more examples of pairs of nodes that don’t have a relationship than there are pairs of nodes that do__.\n",
        "\n",
        "The maximum number of negative examples is equal to:\n",
        "\n",
        "```\n",
        "# negative examples = (# nodes)² - (# relationships) - (# nodes)\n",
        "```\n",
        "\n",
        "i.e. the number of nodes squared, minus the relationships that the graph has, minus self relationships.\n",
        "\n",
        "If you were to use all of these negative examples in your training set, you would have a massive class imbalance — there are many negative examples and relatively few positive ones.\n",
        "\n",
        "A model trained using data that is this imbalanced will achieve very high accuracy by __predicting that any pair of nodes don’t have a relationship__ between them, which is not quite what we want!\n",
        "\n",
        "You need to reduce the number of negative examples. An approach described in several link prediction papers is to use pairs of nodes that are a __specific number of hops away from each other__.\n",
        "\n",
        "This will significantly reduce the number of negative examples, although there will still be a lot more negative examples than positive.\n",
        "\n",
        "To solve this problem, you either need to down sample the negative examples or up sample the positive examples.\n",
        "\n",
        "You will take the down sampling approach. The following function will do this:"
      ]
    },
    {
      "cell_type": "code",
      "metadata": {
        "pycharm": {},
        "id": "bR4yv-SOzCvT",
        "colab_type": "code",
        "colab": {}
      },
      "source": [
        "def down_sample(df):\n",
        "    copy = df.copy()\n",
        "    zero = Counter(copy.label.values)[0]\n",
        "    un = Counter(copy.label.values)[1]\n",
        "    n = zero - un\n",
        "    copy = copy.drop(copy[copy.label == 0].sample(n=n, random_state=1).index)\n",
        "    return copy.sample(frac=1)"
      ],
      "execution_count": 0,
      "outputs": []
    },
    {
      "cell_type": "markdown",
      "metadata": {
        "pycharm": {},
        "id": "RRItawuBzCvW",
        "colab_type": "text"
      },
      "source": [
        "Now you are ready to build the train and test datasets based on the train and test sub graphs that you created. \n",
        "\n",
        "* The positive examples will be taken directly from the graph. \n",
        "* The negative examples will be found by looking for people who are 2 or 3 hops away from each other, excluding those that have already collaborated. You will then down sample those examples to equal the size of the positive examples. "
      ]
    },
    {
      "cell_type": "code",
      "metadata": {
        "pycharm": {},
        "id": "30DiRrHAzCvX",
        "colab_type": "code",
        "colab": {}
      },
      "source": [
        "train_existing_links = graph.run(\"\"\"\n",
        "MATCH (author:Author)-[:CO_AUTHOR_EARLY]->(other:Author)\n",
        "RETURN id(author) AS node1, id(other) AS node2, 1 AS label\n",
        "\"\"\").to_data_frame()\n",
        "\n",
        "train_missing_links = graph.run(\"\"\"\n",
        "MATCH (author:Author)\n",
        "WHERE (author)-[:CO_AUTHOR_EARLY]-()\n",
        "MATCH (author)-[:CO_AUTHOR_EARLY*2..3]-(other)\n",
        "WHERE not((author)-[:CO_AUTHOR_EARLY]-(other))\n",
        "RETURN id(author) AS node1, id(other) AS node2, 0 AS label\n",
        "\"\"\").to_data_frame()\n",
        "train_missing_links = train_missing_links.drop_duplicates()"
      ],
      "execution_count": 0,
      "outputs": []
    },
    {
      "cell_type": "code",
      "metadata": {
        "pycharm": {},
        "id": "F4M3LqD0zCva",
        "colab_type": "code",
        "colab": {}
      },
      "source": [
        "training_df = train_missing_links.append(train_existing_links, ignore_index=True)\n",
        "training_df['label'] = training_df['label'].astype('category')\n",
        "training_df = down_sample(training_df)"
      ],
      "execution_count": 0,
      "outputs": []
    },
    {
      "cell_type": "markdown",
      "metadata": {
        "pycharm": {},
        "id": "-6CjQDEtzCvc",
        "colab_type": "text"
      },
      "source": [
        "Now let's have a look what our train DataFrame contains:"
      ]
    },
    {
      "cell_type": "code",
      "metadata": {
        "pycharm": {},
        "id": "nAYPeSPpzCvd",
        "colab_type": "code",
        "colab": {
          "base_uri": "https://localhost:8080/",
          "height": 204
        },
        "outputId": "c70e276d-bf5b-41a9-adb9-36d916274696"
      },
      "source": [
        "training_df.head()"
      ],
      "execution_count": 14,
      "outputs": [
        {
          "output_type": "execute_result",
          "data": {
            "text/html": [
              "<div>\n",
              "<style scoped>\n",
              "    .dataframe tbody tr th:only-of-type {\n",
              "        vertical-align: middle;\n",
              "    }\n",
              "\n",
              "    .dataframe tbody tr th {\n",
              "        vertical-align: top;\n",
              "    }\n",
              "\n",
              "    .dataframe thead th {\n",
              "        text-align: right;\n",
              "    }\n",
              "</style>\n",
              "<table border=\"1\" class=\"dataframe\">\n",
              "  <thead>\n",
              "    <tr style=\"text-align: right;\">\n",
              "      <th></th>\n",
              "      <th>node1</th>\n",
              "      <th>node2</th>\n",
              "      <th>label</th>\n",
              "    </tr>\n",
              "  </thead>\n",
              "  <tbody>\n",
              "    <tr>\n",
              "      <th>455615</th>\n",
              "      <td>84017</td>\n",
              "      <td>71429</td>\n",
              "      <td>0</td>\n",
              "    </tr>\n",
              "    <tr>\n",
              "      <th>1037777</th>\n",
              "      <td>51252</td>\n",
              "      <td>209725</td>\n",
              "      <td>1</td>\n",
              "    </tr>\n",
              "    <tr>\n",
              "      <th>28256</th>\n",
              "      <td>1892</td>\n",
              "      <td>84804</td>\n",
              "      <td>0</td>\n",
              "    </tr>\n",
              "    <tr>\n",
              "      <th>1021499</th>\n",
              "      <td>27550</td>\n",
              "      <td>134745</td>\n",
              "      <td>1</td>\n",
              "    </tr>\n",
              "    <tr>\n",
              "      <th>1049566</th>\n",
              "      <td>255533</td>\n",
              "      <td>255534</td>\n",
              "      <td>1</td>\n",
              "    </tr>\n",
              "  </tbody>\n",
              "</table>\n",
              "</div>"
            ],
            "text/plain": [
              "          node1   node2 label\n",
              "455615    84017   71429     0\n",
              "1037777   51252  209725     1\n",
              "28256      1892   84804     0\n",
              "1021499   27550  134745     1\n",
              "1049566  255533  255534     1"
            ]
          },
          "metadata": {
            "tags": []
          },
          "execution_count": 14
        }
      ]
    },
    {
      "cell_type": "markdown",
      "metadata": {
        "pycharm": {},
        "id": "nKW4m7EFzCvf",
        "colab_type": "text"
      },
      "source": [
        "Let's repeat the process for the test set:"
      ]
    },
    {
      "cell_type": "code",
      "metadata": {
        "pycharm": {},
        "id": "KKUmnx_yzCvf",
        "colab_type": "code",
        "colab": {}
      },
      "source": [
        "test_existing_links = graph.run(\"\"\"\n",
        "MATCH (author:Author)-[:CO_AUTHOR_LATE]->(other:Author)\n",
        "RETURN id(author) AS node1, id(other) AS node2, 1 AS label\n",
        "\"\"\").to_data_frame()\n",
        "\n",
        "test_missing_links = graph.run(\"\"\"\n",
        "MATCH (author:Author)\n",
        "WHERE (author)-[:CO_AUTHOR_LATE]-()\n",
        "MATCH (author)-[:CO_AUTHOR_LATE*2..3]-(other)\n",
        "WHERE not((author)-[:CO_AUTHOR_LATE]-(other))\n",
        "RETURN id(author) AS node1, id(other) AS node2, 0 AS label\n",
        "\"\"\").to_data_frame()\n",
        "test_missing_links = test_missing_links.drop_duplicates()"
      ],
      "execution_count": 0,
      "outputs": []
    },
    {
      "cell_type": "code",
      "metadata": {
        "pycharm": {},
        "id": "zPN7PTdizCvi",
        "colab_type": "code",
        "colab": {}
      },
      "source": [
        "test_df = test_missing_links.append(test_existing_links, ignore_index=True)\n",
        "test_df['label'] = test_df['label'].astype('category')\n",
        "test_df = down_sample(test_df)"
      ],
      "execution_count": 0,
      "outputs": []
    },
    {
      "cell_type": "markdown",
      "metadata": {
        "pycharm": {},
        "id": "zyoR_Co_zCvm",
        "colab_type": "text"
      },
      "source": [
        "And it's time to sample our test DataFrame:"
      ]
    },
    {
      "cell_type": "code",
      "metadata": {
        "pycharm": {},
        "id": "DSjroJyszCvn",
        "colab_type": "code",
        "colab": {
          "base_uri": "https://localhost:8080/",
          "height": 204
        },
        "outputId": "8da16509-c7a6-4367-d44a-37dc1695e6b1"
      },
      "source": [
        "test_df.head()"
      ],
      "execution_count": 17,
      "outputs": [
        {
          "output_type": "execute_result",
          "data": {
            "text/html": [
              "<div>\n",
              "<style scoped>\n",
              "    .dataframe tbody tr th:only-of-type {\n",
              "        vertical-align: middle;\n",
              "    }\n",
              "\n",
              "    .dataframe tbody tr th {\n",
              "        vertical-align: top;\n",
              "    }\n",
              "\n",
              "    .dataframe thead th {\n",
              "        text-align: right;\n",
              "    }\n",
              "</style>\n",
              "<table border=\"1\" class=\"dataframe\">\n",
              "  <thead>\n",
              "    <tr style=\"text-align: right;\">\n",
              "      <th></th>\n",
              "      <th>node1</th>\n",
              "      <th>node2</th>\n",
              "      <th>label</th>\n",
              "    </tr>\n",
              "  </thead>\n",
              "  <tbody>\n",
              "    <tr>\n",
              "      <th>606965</th>\n",
              "      <td>155846</td>\n",
              "      <td>205452</td>\n",
              "      <td>0</td>\n",
              "    </tr>\n",
              "    <tr>\n",
              "      <th>79799</th>\n",
              "      <td>11928</td>\n",
              "      <td>90971</td>\n",
              "      <td>0</td>\n",
              "    </tr>\n",
              "    <tr>\n",
              "      <th>1315888</th>\n",
              "      <td>124081</td>\n",
              "      <td>222389</td>\n",
              "      <td>1</td>\n",
              "    </tr>\n",
              "    <tr>\n",
              "      <th>506839</th>\n",
              "      <td>145202</td>\n",
              "      <td>218004</td>\n",
              "      <td>0</td>\n",
              "    </tr>\n",
              "    <tr>\n",
              "      <th>745479</th>\n",
              "      <td>171096</td>\n",
              "      <td>72234</td>\n",
              "      <td>0</td>\n",
              "    </tr>\n",
              "  </tbody>\n",
              "</table>\n",
              "</div>"
            ],
            "text/plain": [
              "          node1   node2 label\n",
              "606965   155846  205452     0\n",
              "79799     11928   90971     0\n",
              "1315888  124081  222389     1\n",
              "506839   145202  218004     0\n",
              "745479   171096   72234     0"
            ]
          },
          "metadata": {
            "tags": []
          },
          "execution_count": 17
        }
      ]
    },
    {
      "cell_type": "markdown",
      "metadata": {
        "pycharm": {},
        "id": "3P-pGQ8rzCvq",
        "colab_type": "text"
      },
      "source": [
        "# Choosing a machine learning algorithm\n",
        "\n",
        "Next, you will create a machine learning pipeline based on a random forest classifier. This method is well suited as this data set will be comprised of a mix of strong and weak features. While the weak features will sometimes be helpful, the random forest method will ensure that you don’t create a model that only fits the training data."
      ]
    },
    {
      "cell_type": "code",
      "metadata": {
        "pycharm": {},
        "id": "zn9zWt5izCvr",
        "colab_type": "code",
        "colab": {}
      },
      "source": [
        "classifier = RandomForestClassifier(n_estimators=30, max_depth=10, random_state=0)"
      ],
      "execution_count": 0,
      "outputs": []
    },
    {
      "cell_type": "markdown",
      "metadata": {
        "pycharm": {},
        "id": "QYMaYZP7zCvt",
        "colab_type": "text"
      },
      "source": [
        "# Generating graphy features\n",
        "\n",
        "Start by creating a simple model that tries to predict whether two authors will have a future collaboration based on features extracted from common authors, preferential attachment, and the total union of neighbors.\n",
        "\n",
        "The following function computes each of these measures for pairs of nodes:"
      ]
    },
    {
      "cell_type": "code",
      "metadata": {
        "pycharm": {},
        "id": "qn7LVmPZzCvu",
        "colab_type": "code",
        "colab": {}
      },
      "source": [
        "def apply_graphy_features(data, rel_type):\n",
        "    query = \"\"\"\n",
        "    UNWIND $pairs AS pair\n",
        "    MATCH (p1) WHERE id(p1) = pair.node1\n",
        "    MATCH (p2) WHERE id(p2) = pair.node2\n",
        "    RETURN pair.node1 AS node1,\n",
        "           pair.node2 AS node2,\n",
        "           algo.linkprediction.commonNeighbors(\n",
        "               p1, p2, {relationshipQuery: $relType}) AS cn,\n",
        "           algo.linkprediction.preferentialAttachment(\n",
        "               p1, p2, {relationshipQuery: $relType}) AS pa,\n",
        "           algo.linkprediction.totalNeighbors(\n",
        "               p1, p2, {relationshipQuery: $relType}) AS tn\n",
        "    \"\"\"\n",
        "    pairs = [{\"node1\": node1, \"node2\": node2}  for node1,node2 in data[[\"node1\", \"node2\"]].values.tolist()]\n",
        "    features = graph.run(query, {\"pairs\": pairs, \"relType\": rel_type}).to_data_frame()\n",
        "    return pd.merge(data, features, on = [\"node1\", \"node2\"])"
      ],
      "execution_count": 0,
      "outputs": []
    },
    {
      "cell_type": "markdown",
      "metadata": {
        "pycharm": {},
        "id": "RfD8ZD_1zCvw",
        "colab_type": "text"
      },
      "source": [
        "Now apply the function to the training DataFrame:"
      ]
    },
    {
      "cell_type": "code",
      "metadata": {
        "pycharm": {},
        "id": "35wo71ltzCvx",
        "colab_type": "code",
        "colab": {}
      },
      "source": [
        "training_df = apply_graphy_features(training_df, \"CO_AUTHOR_EARLY\")"
      ],
      "execution_count": 0,
      "outputs": []
    },
    {
      "cell_type": "markdown",
      "metadata": {
        "pycharm": {},
        "id": "h3ve_lJgzCv0",
        "colab_type": "text"
      },
      "source": [
        "This is what the DataFrame looks like now:"
      ]
    },
    {
      "cell_type": "code",
      "metadata": {
        "pycharm": {},
        "id": "5nqdnpWXzCv0",
        "colab_type": "code",
        "colab": {
          "base_uri": "https://localhost:8080/",
          "height": 204
        },
        "outputId": "2913fa1f-845f-4ca0-d147-f6403c308c87"
      },
      "source": [
        "training_df.head()"
      ],
      "execution_count": 21,
      "outputs": [
        {
          "output_type": "execute_result",
          "data": {
            "text/html": [
              "<div>\n",
              "<style scoped>\n",
              "    .dataframe tbody tr th:only-of-type {\n",
              "        vertical-align: middle;\n",
              "    }\n",
              "\n",
              "    .dataframe tbody tr th {\n",
              "        vertical-align: top;\n",
              "    }\n",
              "\n",
              "    .dataframe thead th {\n",
              "        text-align: right;\n",
              "    }\n",
              "</style>\n",
              "<table border=\"1\" class=\"dataframe\">\n",
              "  <thead>\n",
              "    <tr style=\"text-align: right;\">\n",
              "      <th></th>\n",
              "      <th>node1</th>\n",
              "      <th>node2</th>\n",
              "      <th>label</th>\n",
              "      <th>cn</th>\n",
              "      <th>pa</th>\n",
              "      <th>tn</th>\n",
              "    </tr>\n",
              "  </thead>\n",
              "  <tbody>\n",
              "    <tr>\n",
              "      <th>0</th>\n",
              "      <td>84017</td>\n",
              "      <td>71429</td>\n",
              "      <td>0</td>\n",
              "      <td>0.000</td>\n",
              "      <td>120.000</td>\n",
              "      <td>22.000</td>\n",
              "    </tr>\n",
              "    <tr>\n",
              "      <th>1</th>\n",
              "      <td>51252</td>\n",
              "      <td>209725</td>\n",
              "      <td>1</td>\n",
              "      <td>2.000</td>\n",
              "      <td>39.000</td>\n",
              "      <td>14.000</td>\n",
              "    </tr>\n",
              "    <tr>\n",
              "      <th>2</th>\n",
              "      <td>1892</td>\n",
              "      <td>84804</td>\n",
              "      <td>0</td>\n",
              "      <td>0.000</td>\n",
              "      <td>210.000</td>\n",
              "      <td>47.000</td>\n",
              "    </tr>\n",
              "    <tr>\n",
              "      <th>3</th>\n",
              "      <td>27550</td>\n",
              "      <td>134745</td>\n",
              "      <td>1</td>\n",
              "      <td>2.000</td>\n",
              "      <td>117.000</td>\n",
              "      <td>20.000</td>\n",
              "    </tr>\n",
              "    <tr>\n",
              "      <th>4</th>\n",
              "      <td>255533</td>\n",
              "      <td>255534</td>\n",
              "      <td>1</td>\n",
              "      <td>1.000</td>\n",
              "      <td>4.000</td>\n",
              "      <td>3.000</td>\n",
              "    </tr>\n",
              "  </tbody>\n",
              "</table>\n",
              "</div>"
            ],
            "text/plain": [
              "    node1   node2 label    cn      pa     tn\n",
              "0   84017   71429     0 0.000 120.000 22.000\n",
              "1   51252  209725     1 2.000  39.000 14.000\n",
              "2    1892   84804     0 0.000 210.000 47.000\n",
              "3   27550  134745     1 2.000 117.000 20.000\n",
              "4  255533  255534     1 1.000   4.000  3.000"
            ]
          },
          "metadata": {
            "tags": []
          },
          "execution_count": 21
        }
      ]
    },
    {
      "cell_type": "markdown",
      "metadata": {
        "pycharm": {},
        "id": "sH_4j8ngzCv3",
        "colab_type": "text"
      },
      "source": [
        "Do the same to the test DataFrame:"
      ]
    },
    {
      "cell_type": "code",
      "metadata": {
        "pycharm": {},
        "id": "jwR6BpJQzCv3",
        "colab_type": "code",
        "colab": {}
      },
      "source": [
        "test_df = apply_graphy_features(test_df, \"CO_AUTHOR\")"
      ],
      "execution_count": 0,
      "outputs": []
    },
    {
      "cell_type": "code",
      "metadata": {
        "pycharm": {},
        "id": "hFEDQnwVzCv6",
        "colab_type": "code",
        "colab": {
          "base_uri": "https://localhost:8080/",
          "height": 204
        },
        "outputId": "1a19cf21-c73e-40af-e000-1febe398329e"
      },
      "source": [
        "test_df.head()"
      ],
      "execution_count": 23,
      "outputs": [
        {
          "output_type": "execute_result",
          "data": {
            "text/html": [
              "<div>\n",
              "<style scoped>\n",
              "    .dataframe tbody tr th:only-of-type {\n",
              "        vertical-align: middle;\n",
              "    }\n",
              "\n",
              "    .dataframe tbody tr th {\n",
              "        vertical-align: top;\n",
              "    }\n",
              "\n",
              "    .dataframe thead th {\n",
              "        text-align: right;\n",
              "    }\n",
              "</style>\n",
              "<table border=\"1\" class=\"dataframe\">\n",
              "  <thead>\n",
              "    <tr style=\"text-align: right;\">\n",
              "      <th></th>\n",
              "      <th>node1</th>\n",
              "      <th>node2</th>\n",
              "      <th>label</th>\n",
              "      <th>cn</th>\n",
              "      <th>pa</th>\n",
              "      <th>tn</th>\n",
              "    </tr>\n",
              "  </thead>\n",
              "  <tbody>\n",
              "    <tr>\n",
              "      <th>0</th>\n",
              "      <td>155846</td>\n",
              "      <td>205452</td>\n",
              "      <td>0</td>\n",
              "      <td>0.000</td>\n",
              "      <td>26.000</td>\n",
              "      <td>15.000</td>\n",
              "    </tr>\n",
              "    <tr>\n",
              "      <th>1</th>\n",
              "      <td>11928</td>\n",
              "      <td>90971</td>\n",
              "      <td>0</td>\n",
              "      <td>0.000</td>\n",
              "      <td>432.000</td>\n",
              "      <td>48.000</td>\n",
              "    </tr>\n",
              "    <tr>\n",
              "      <th>2</th>\n",
              "      <td>124081</td>\n",
              "      <td>222389</td>\n",
              "      <td>1</td>\n",
              "      <td>2.000</td>\n",
              "      <td>54.000</td>\n",
              "      <td>19.000</td>\n",
              "    </tr>\n",
              "    <tr>\n",
              "      <th>3</th>\n",
              "      <td>145202</td>\n",
              "      <td>218004</td>\n",
              "      <td>0</td>\n",
              "      <td>0.000</td>\n",
              "      <td>200.000</td>\n",
              "      <td>30.000</td>\n",
              "    </tr>\n",
              "    <tr>\n",
              "      <th>4</th>\n",
              "      <td>171096</td>\n",
              "      <td>72234</td>\n",
              "      <td>0</td>\n",
              "      <td>1.000</td>\n",
              "      <td>23.000</td>\n",
              "      <td>23.000</td>\n",
              "    </tr>\n",
              "  </tbody>\n",
              "</table>\n",
              "</div>"
            ],
            "text/plain": [
              "    node1   node2 label    cn      pa     tn\n",
              "0  155846  205452     0 0.000  26.000 15.000\n",
              "1   11928   90971     0 0.000 432.000 48.000\n",
              "2  124081  222389     1 2.000  54.000 19.000\n",
              "3  145202  218004     0 0.000 200.000 30.000\n",
              "4  171096   72234     0 1.000  23.000 23.000"
            ]
          },
          "metadata": {
            "tags": []
          },
          "execution_count": 23
        }
      ]
    },
    {
      "cell_type": "markdown",
      "metadata": {
        "pycharm": {},
        "id": "xhK1r3SnzCwE",
        "colab_type": "text"
      },
      "source": [
        "Next, you will build a model based on these graphy features. You will start by just using one of the features - common neighbors. \n",
        "\n",
        "The following code builds a random forest model, evaluates it against the test dataset, and then indicates which of the features had the most importance in the model."
      ]
    },
    {
      "cell_type": "code",
      "metadata": {
        "pycharm": {},
        "id": "X1dm33C-zCwE",
        "colab_type": "code",
        "colab": {
          "base_uri": "https://localhost:8080/",
          "height": 153
        },
        "outputId": "198d2032-b9f5-4eac-a8e2-6276652f59b7"
      },
      "source": [
        "columns = [\"cn\"]\n",
        "\n",
        "X = training_df[columns]\n",
        "y = training_df[\"label\"]\n",
        "classifier.fit(X, y)"
      ],
      "execution_count": 24,
      "outputs": [
        {
          "output_type": "execute_result",
          "data": {
            "text/plain": [
              "RandomForestClassifier(bootstrap=True, ccp_alpha=0.0, class_weight=None,\n",
              "                       criterion='gini', max_depth=10, max_features='auto',\n",
              "                       max_leaf_nodes=None, max_samples=None,\n",
              "                       min_impurity_decrease=0.0, min_impurity_split=None,\n",
              "                       min_samples_leaf=1, min_samples_split=2,\n",
              "                       min_weight_fraction_leaf=0.0, n_estimators=30,\n",
              "                       n_jobs=None, oob_score=False, random_state=0, verbose=0,\n",
              "                       warm_start=False)"
            ]
          },
          "metadata": {
            "tags": []
          },
          "execution_count": 24
        }
      ]
    },
    {
      "cell_type": "markdown",
      "metadata": {
        "pycharm": {},
        "id": "GQzf94SuzCwH",
        "colab_type": "text"
      },
      "source": [
        "Next, you need to evaluate the model. You will compute its accuracy, precision, and recall. Then, you will return the importance of each feature used in the model. The following functions will help with this:"
      ]
    },
    {
      "cell_type": "code",
      "metadata": {
        "pycharm": {},
        "id": "Jq5Q0DinzCwI",
        "colab_type": "code",
        "colab": {}
      },
      "source": [
        "def evaluate_model(predictions, actual):\n",
        "    return pd.DataFrame({\n",
        "        \"Measure\": [\"Accuracy\", \"Precision\", \"Recall\"],\n",
        "        \"Score\": [accuracy_score(actual, predictions), \n",
        "                  precision_score(actual, predictions), \n",
        "                  recall_score(actual, predictions)]\n",
        "    })\n",
        "\n",
        "def feature_importance(columns, classifier):        \n",
        "    display(\"Feature Importance\")\n",
        "    df = pd.DataFrame({\n",
        "        \"Feature\": columns,\n",
        "        \"Importance\": classifier.feature_importances_\n",
        "    })\n",
        "    df = df.sort_values(\"Importance\", ascending=False)    \n",
        "    ax = df.plot(kind='bar', x='Feature', y='Importance', legend=None)\n",
        "    ax.xaxis.set_label_text(\"\")\n",
        "    plt.tight_layout()\n",
        "    plt.show()"
      ],
      "execution_count": 0,
      "outputs": []
    },
    {
      "cell_type": "code",
      "metadata": {
        "pycharm": {},
        "id": "MxV8e_GdzCwK",
        "colab_type": "code",
        "colab": {
          "base_uri": "https://localhost:8080/",
          "height": 431
        },
        "outputId": "ca36ab5b-3827-4ff6-ac10-7bac1c7469b8"
      },
      "source": [
        "predictions = classifier.predict(test_df[columns])\n",
        "y_test = test_df[\"label\"]\n",
        "\n",
        "display(evaluate_model(predictions, y_test))\n",
        "feature_importance(columns, classifier)"
      ],
      "execution_count": 26,
      "outputs": [
        {
          "output_type": "display_data",
          "data": {
            "text/html": [
              "<div>\n",
              "<style scoped>\n",
              "    .dataframe tbody tr th:only-of-type {\n",
              "        vertical-align: middle;\n",
              "    }\n",
              "\n",
              "    .dataframe tbody tr th {\n",
              "        vertical-align: top;\n",
              "    }\n",
              "\n",
              "    .dataframe thead th {\n",
              "        text-align: right;\n",
              "    }\n",
              "</style>\n",
              "<table border=\"1\" class=\"dataframe\">\n",
              "  <thead>\n",
              "    <tr style=\"text-align: right;\">\n",
              "      <th></th>\n",
              "      <th>Measure</th>\n",
              "      <th>Score</th>\n",
              "    </tr>\n",
              "  </thead>\n",
              "  <tbody>\n",
              "    <tr>\n",
              "      <th>0</th>\n",
              "      <td>Accuracy</td>\n",
              "      <td>0.854</td>\n",
              "    </tr>\n",
              "    <tr>\n",
              "      <th>1</th>\n",
              "      <td>Precision</td>\n",
              "      <td>0.942</td>\n",
              "    </tr>\n",
              "    <tr>\n",
              "      <th>2</th>\n",
              "      <td>Recall</td>\n",
              "      <td>0.753</td>\n",
              "    </tr>\n",
              "  </tbody>\n",
              "</table>\n",
              "</div>"
            ],
            "text/plain": [
              "     Measure  Score\n",
              "0   Accuracy  0.854\n",
              "1  Precision  0.942\n",
              "2     Recall  0.753"
            ]
          },
          "metadata": {
            "tags": []
          }
        },
        {
          "output_type": "display_data",
          "data": {
            "text/plain": [
              "'Feature Importance'"
            ]
          },
          "metadata": {
            "tags": []
          }
        },
        {
          "output_type": "display_data",
          "data": {
            "image/png": "[encoded data removed]",
            "text/plain": [
              "<Figure size 432x288 with 1 Axes>"
            ]
          },
          "metadata": {
            "tags": []
          }
        }
      ]
    },
    {
      "cell_type": "markdown",
      "metadata": {
        "pycharm": {},
        "id": "L8asqGD0zCwM",
        "colab_type": "text"
      },
      "source": [
        "The scores for accuracy and precision are adequate, but the recall is not very good. What happens if you include preferential attachment and total neighbors as well?"
      ]
    },
    {
      "cell_type": "code",
      "metadata": {
        "pycharm": {},
        "id": "60kaZcgzzCwN",
        "colab_type": "code",
        "colab": {
          "base_uri": "https://localhost:8080/",
          "height": 431
        },
        "outputId": "30a38962-f247-43f0-c422-1154c97e6b92"
      },
      "source": [
        "columns = [\"cn\", \"pa\", \"tn\"]\n",
        "\n",
        "X = training_df[columns]\n",
        "y = training_df[\"label\"]\n",
        "classifier.fit(X, y)\n",
        "\n",
        "predictions = classifier.predict(test_df[columns])\n",
        "y_test = test_df[\"label\"]\n",
        "\n",
        "display(evaluate_model(predictions, y_test))\n",
        "feature_importance(columns, classifier)"
      ],
      "execution_count": 27,
      "outputs": [
        {
          "output_type": "display_data",
          "data": {
            "text/html": [
              "<div>\n",
              "<style scoped>\n",
              "    .dataframe tbody tr th:only-of-type {\n",
              "        vertical-align: middle;\n",
              "    }\n",
              "\n",
              "    .dataframe tbody tr th {\n",
              "        vertical-align: top;\n",
              "    }\n",
              "\n",
              "    .dataframe thead th {\n",
              "        text-align: right;\n",
              "    }\n",
              "</style>\n",
              "<table border=\"1\" class=\"dataframe\">\n",
              "  <thead>\n",
              "    <tr style=\"text-align: right;\">\n",
              "      <th></th>\n",
              "      <th>Measure</th>\n",
              "      <th>Score</th>\n",
              "    </tr>\n",
              "  </thead>\n",
              "  <tbody>\n",
              "    <tr>\n",
              "      <th>0</th>\n",
              "      <td>Accuracy</td>\n",
              "      <td>0.918</td>\n",
              "    </tr>\n",
              "    <tr>\n",
              "      <th>1</th>\n",
              "      <td>Precision</td>\n",
              "      <td>0.920</td>\n",
              "    </tr>\n",
              "    <tr>\n",
              "      <th>2</th>\n",
              "      <td>Recall</td>\n",
              "      <td>0.917</td>\n",
              "    </tr>\n",
              "  </tbody>\n",
              "</table>\n",
              "</div>"
            ],
            "text/plain": [
              "     Measure  Score\n",
              "0   Accuracy  0.918\n",
              "1  Precision  0.920\n",
              "2     Recall  0.917"
            ]
          },
          "metadata": {
            "tags": []
          }
        },
        {
          "output_type": "display_data",
          "data": {
            "text/plain": [
              "'Feature Importance'"
            ]
          },
          "metadata": {
            "tags": []
          }
        },
        {
          "output_type": "display_data",
          "data": {
            "image/png": "[encoded data removed]",
            "text/plain": [
              "<Figure size 432x288 with 1 Axes>"
            ]
          },
          "metadata": {
            "tags": []
          }
        }
      ]
    },
    {
      "cell_type": "markdown",
      "metadata": {
        "pycharm": {},
        "id": "yyj2cqNizCwP",
        "colab_type": "text"
      },
      "source": [
        "Common Neighbors is the dominant feature, but including the two other features has improved the accuracy and recall of the model.\n",
        "\n",
        "Next, you will add some new features that are generated from graph algorithms.\n",
        "\n",
        "# Triangles and The Clustering Coefficient\n",
        "\n",
        "Start by running the [triangle count](https://neo4j.com/docs/graph-algorithms/current/algorithms/triangle-counting-clustering-coefficient/) algorithm over the test and train sub-graphs. This algorithm will return the number of triangles that each node forms, as well as each node's clustering coefficient. The clustering coefficient of a node indicates the likelihood that its neighbors are also connected."
      ]
    },
    {
      "cell_type": "code",
      "metadata": {
        "pycharm": {},
        "id": "zXEMRpiJzCwP",
        "colab_type": "code",
        "colab": {
          "base_uri": "https://localhost:8080/",
          "height": 100
        },
        "outputId": "afb5fd68-4da8-4487-c820-8e58ec2d1e87"
      },
      "source": [
        "graph.run(\"\"\"\n",
        "CALL algo.triangleCount('Author', 'CO_AUTHOR_EARLY', { write:true,\n",
        "writeProperty:'trianglesTrain', clusteringCoefficientProperty:'coefficientTrain'});\n",
        "\"\"\").to_data_frame()"
      ],
      "execution_count": 28,
      "outputs": [
        {
          "output_type": "execute_result",
          "data": {
            "text/html": [
              "<div>\n",
              "<style scoped>\n",
              "    .dataframe tbody tr th:only-of-type {\n",
              "        vertical-align: middle;\n",
              "    }\n",
              "\n",
              "    .dataframe tbody tr th {\n",
              "        vertical-align: top;\n",
              "    }\n",
              "\n",
              "    .dataframe thead th {\n",
              "        text-align: right;\n",
              "    }\n",
              "</style>\n",
              "<table border=\"1\" class=\"dataframe\">\n",
              "  <thead>\n",
              "    <tr style=\"text-align: right;\">\n",
              "      <th></th>\n",
              "      <th>loadMillis</th>\n",
              "      <th>computeMillis</th>\n",
              "      <th>writeMillis</th>\n",
              "      <th>postProcessingMillis</th>\n",
              "      <th>nodeCount</th>\n",
              "      <th>triangleCount</th>\n",
              "      <th>averageClusteringCoefficient</th>\n",
              "      <th>p1</th>\n",
              "      <th>p5</th>\n",
              "      <th>p10</th>\n",
              "      <th>p25</th>\n",
              "      <th>p50</th>\n",
              "      <th>p75</th>\n",
              "      <th>p90</th>\n",
              "      <th>p95</th>\n",
              "      <th>p99</th>\n",
              "      <th>p100</th>\n",
              "      <th>write</th>\n",
              "      <th>writeProperty</th>\n",
              "      <th>clusteringCoefficientProperty</th>\n",
              "    </tr>\n",
              "  </thead>\n",
              "  <tbody>\n",
              "    <tr>\n",
              "      <th>0</th>\n",
              "      <td>260</td>\n",
              "      <td>159</td>\n",
              "      <td>13</td>\n",
              "      <td>1055</td>\n",
              "      <td>80299</td>\n",
              "      <td>97205</td>\n",
              "      <td>0.375</td>\n",
              "      <td>0</td>\n",
              "      <td>0</td>\n",
              "      <td>0</td>\n",
              "      <td>0</td>\n",
              "      <td>0</td>\n",
              "      <td>3</td>\n",
              "      <td>7</td>\n",
              "      <td>15</td>\n",
              "      <td>45</td>\n",
              "      <td>787</td>\n",
              "      <td>True</td>\n",
              "      <td>trianglesTrain</td>\n",
              "      <td>coefficientTrain</td>\n",
              "    </tr>\n",
              "  </tbody>\n",
              "</table>\n",
              "</div>"
            ],
            "text/plain": [
              "   loadMillis  computeMillis  ...   writeProperty  clusteringCoefficientProperty\n",
              "0         260            159  ...  trianglesTrain               coefficientTrain\n",
              "\n",
              "[1 rows x 20 columns]"
            ]
          },
          "metadata": {
            "tags": []
          },
          "execution_count": 28
        }
      ]
    },
    {
      "cell_type": "code",
      "metadata": {
        "pycharm": {},
        "id": "PU2ntk8vzCwS",
        "colab_type": "code",
        "colab": {
          "base_uri": "https://localhost:8080/",
          "height": 100
        },
        "outputId": "19f3eb2d-0cbf-44ae-d3a5-148b224190d8"
      },
      "source": [
        "graph.run(\"\"\"\n",
        "CALL algo.triangleCount('Author', 'CO_AUTHOR', { write:true,\n",
        "writeProperty:'trianglesTest', clusteringCoefficientProperty:'coefficientTest'});\n",
        "\"\"\").to_data_frame()"
      ],
      "execution_count": 29,
      "outputs": [
        {
          "output_type": "execute_result",
          "data": {
            "text/html": [
              "<div>\n",
              "<style scoped>\n",
              "    .dataframe tbody tr th:only-of-type {\n",
              "        vertical-align: middle;\n",
              "    }\n",
              "\n",
              "    .dataframe tbody tr th {\n",
              "        vertical-align: top;\n",
              "    }\n",
              "\n",
              "    .dataframe thead th {\n",
              "        text-align: right;\n",
              "    }\n",
              "</style>\n",
              "<table border=\"1\" class=\"dataframe\">\n",
              "  <thead>\n",
              "    <tr style=\"text-align: right;\">\n",
              "      <th></th>\n",
              "      <th>loadMillis</th>\n",
              "      <th>computeMillis</th>\n",
              "      <th>writeMillis</th>\n",
              "      <th>postProcessingMillis</th>\n",
              "      <th>nodeCount</th>\n",
              "      <th>triangleCount</th>\n",
              "      <th>averageClusteringCoefficient</th>\n",
              "      <th>p1</th>\n",
              "      <th>p5</th>\n",
              "      <th>p10</th>\n",
              "      <th>p25</th>\n",
              "      <th>p50</th>\n",
              "      <th>p75</th>\n",
              "      <th>p90</th>\n",
              "      <th>p95</th>\n",
              "      <th>p99</th>\n",
              "      <th>p100</th>\n",
              "      <th>write</th>\n",
              "      <th>writeProperty</th>\n",
              "      <th>clusteringCoefficientProperty</th>\n",
              "    </tr>\n",
              "  </thead>\n",
              "  <tbody>\n",
              "    <tr>\n",
              "      <th>0</th>\n",
              "      <td>427</td>\n",
              "      <td>133</td>\n",
              "      <td>4</td>\n",
              "      <td>292</td>\n",
              "      <td>80299</td>\n",
              "      <td>199813</td>\n",
              "      <td>0.657</td>\n",
              "      <td>0</td>\n",
              "      <td>0</td>\n",
              "      <td>0</td>\n",
              "      <td>1</td>\n",
              "      <td>3</td>\n",
              "      <td>6</td>\n",
              "      <td>15</td>\n",
              "      <td>26</td>\n",
              "      <td>91</td>\n",
              "      <td>787</td>\n",
              "      <td>True</td>\n",
              "      <td>trianglesTest</td>\n",
              "      <td>coefficientTest</td>\n",
              "    </tr>\n",
              "  </tbody>\n",
              "</table>\n",
              "</div>"
            ],
            "text/plain": [
              "   loadMillis  computeMillis  ...  writeProperty  clusteringCoefficientProperty\n",
              "0         427            133  ...  trianglesTest                coefficientTest\n",
              "\n",
              "[1 rows x 20 columns]"
            ]
          },
          "metadata": {
            "tags": []
          },
          "execution_count": 29
        }
      ]
    },
    {
      "cell_type": "markdown",
      "metadata": {
        "pycharm": {},
        "id": "Lf3Q5K2izCwU",
        "colab_type": "text"
      },
      "source": [
        "The following function will add these features to the train and test DataFrames:"
      ]
    },
    {
      "cell_type": "code",
      "metadata": {
        "pycharm": {},
        "id": "ZjsXeEi7zCwV",
        "colab_type": "code",
        "colab": {}
      },
      "source": [
        "def apply_triangles_features(data, triangles_prop, coefficient_prop):\n",
        "    query = \"\"\"\n",
        "    UNWIND $pairs AS pair\n",
        "    MATCH (p1) WHERE id(p1) = pair.node1\n",
        "    MATCH (p2) WHERE id(p2) = pair.node2\n",
        "    RETURN pair.node1 AS node1,\n",
        "    pair.node2 AS node2,\n",
        "    apoc.coll.min([p1[$trianglesProp], p2[$trianglesProp]]) AS minTriangles,\n",
        "    apoc.coll.max([p1[$trianglesProp], p2[$trianglesProp]]) AS maxTriangles,\n",
        "    apoc.coll.min([p1[$coefficientProp], p2[$coefficientProp]]) AS minCoefficient,\n",
        "    apoc.coll.max([p1[$coefficientProp], p2[$coefficientProp]]) AS maxCoefficient\n",
        "    \"\"\"    \n",
        "    pairs = [{\"node1\": node1, \"node2\": node2}  for node1,node2 in data[[\"node1\", \"node2\"]].values.tolist()]    \n",
        "    params = {\n",
        "    \"pairs\": pairs,\n",
        "    \"trianglesProp\": triangles_prop,\n",
        "    \"coefficientProp\": coefficient_prop\n",
        "    }\n",
        "    features = graph.run(query, params).to_data_frame()    \n",
        "    return pd.merge(data, features, on = [\"node1\", \"node2\"])"
      ],
      "execution_count": 0,
      "outputs": []
    },
    {
      "cell_type": "markdown",
      "metadata": {
        "pycharm": {},
        "id": "1tGGWh-SzCwX",
        "colab_type": "text"
      },
      "source": [
        "Add the new features:"
      ]
    },
    {
      "cell_type": "code",
      "metadata": {
        "pycharm": {},
        "id": "vE9JqGuSzCwY",
        "colab_type": "code",
        "colab": {}
      },
      "source": [
        "training_df = apply_triangles_features(training_df, \"trianglesTrain\", \"coefficientTrain\")\n",
        "test_df = apply_triangles_features(test_df, \"trianglesTest\", \"coefficientTest\")"
      ],
      "execution_count": 0,
      "outputs": []
    },
    {
      "cell_type": "code",
      "metadata": {
        "pycharm": {},
        "id": "Mq3q95-7zCwa",
        "colab_type": "code",
        "colab": {
          "base_uri": "https://localhost:8080/",
          "height": 204
        },
        "outputId": "6ad122c2-64de-4c8f-9363-d1cc2da4c5ff"
      },
      "source": [
        "training_df.head()"
      ],
      "execution_count": 32,
      "outputs": [
        {
          "output_type": "execute_result",
          "data": {
            "text/html": [
              "<div>\n",
              "<style scoped>\n",
              "    .dataframe tbody tr th:only-of-type {\n",
              "        vertical-align: middle;\n",
              "    }\n",
              "\n",
              "    .dataframe tbody tr th {\n",
              "        vertical-align: top;\n",
              "    }\n",
              "\n",
              "    .dataframe thead th {\n",
              "        text-align: right;\n",
              "    }\n",
              "</style>\n",
              "<table border=\"1\" class=\"dataframe\">\n",
              "  <thead>\n",
              "    <tr style=\"text-align: right;\">\n",
              "      <th></th>\n",
              "      <th>node1</th>\n",
              "      <th>node2</th>\n",
              "      <th>label</th>\n",
              "      <th>cn</th>\n",
              "      <th>pa</th>\n",
              "      <th>tn</th>\n",
              "      <th>minTriangles</th>\n",
              "      <th>maxTriangles</th>\n",
              "      <th>minCoefficient</th>\n",
              "      <th>maxCoefficient</th>\n",
              "    </tr>\n",
              "  </thead>\n",
              "  <tbody>\n",
              "    <tr>\n",
              "      <th>0</th>\n",
              "      <td>84017</td>\n",
              "      <td>71429</td>\n",
              "      <td>0</td>\n",
              "      <td>0.000</td>\n",
              "      <td>120.000</td>\n",
              "      <td>22.000</td>\n",
              "      <td>7</td>\n",
              "      <td>12</td>\n",
              "      <td>0.106</td>\n",
              "      <td>0.267</td>\n",
              "    </tr>\n",
              "    <tr>\n",
              "      <th>1</th>\n",
              "      <td>51252</td>\n",
              "      <td>209725</td>\n",
              "      <td>1</td>\n",
              "      <td>2.000</td>\n",
              "      <td>39.000</td>\n",
              "      <td>14.000</td>\n",
              "      <td>3</td>\n",
              "      <td>19</td>\n",
              "      <td>0.244</td>\n",
              "      <td>1.000</td>\n",
              "    </tr>\n",
              "    <tr>\n",
              "      <th>2</th>\n",
              "      <td>1892</td>\n",
              "      <td>84804</td>\n",
              "      <td>0</td>\n",
              "      <td>0.000</td>\n",
              "      <td>210.000</td>\n",
              "      <td>47.000</td>\n",
              "      <td>6</td>\n",
              "      <td>71</td>\n",
              "      <td>0.082</td>\n",
              "      <td>0.600</td>\n",
              "    </tr>\n",
              "    <tr>\n",
              "      <th>3</th>\n",
              "      <td>27550</td>\n",
              "      <td>134745</td>\n",
              "      <td>1</td>\n",
              "      <td>2.000</td>\n",
              "      <td>117.000</td>\n",
              "      <td>20.000</td>\n",
              "      <td>14</td>\n",
              "      <td>24</td>\n",
              "      <td>0.179</td>\n",
              "      <td>0.667</td>\n",
              "    </tr>\n",
              "    <tr>\n",
              "      <th>4</th>\n",
              "      <td>255533</td>\n",
              "      <td>255534</td>\n",
              "      <td>1</td>\n",
              "      <td>1.000</td>\n",
              "      <td>4.000</td>\n",
              "      <td>3.000</td>\n",
              "      <td>1</td>\n",
              "      <td>1</td>\n",
              "      <td>1.000</td>\n",
              "      <td>1.000</td>\n",
              "    </tr>\n",
              "  </tbody>\n",
              "</table>\n",
              "</div>"
            ],
            "text/plain": [
              "    node1   node2 label  ...  maxTriangles  minCoefficient  maxCoefficient\n",
              "0   84017   71429     0  ...            12           0.106           0.267\n",
              "1   51252  209725     1  ...            19           0.244           1.000\n",
              "2    1892   84804     0  ...            71           0.082           0.600\n",
              "3   27550  134745     1  ...            24           0.179           0.667\n",
              "4  255533  255534     1  ...             1           1.000           1.000\n",
              "\n",
              "[5 rows x 10 columns]"
            ]
          },
          "metadata": {
            "tags": []
          },
          "execution_count": 32
        }
      ]
    },
    {
      "cell_type": "code",
      "metadata": {
        "pycharm": {},
        "id": "y69dnj5zzCwd",
        "colab_type": "code",
        "colab": {
          "base_uri": "https://localhost:8080/",
          "height": 204
        },
        "outputId": "e2106e0b-efaa-4c79-aacd-e35a2666ee70"
      },
      "source": [
        "test_df.head()"
      ],
      "execution_count": 33,
      "outputs": [
        {
          "output_type": "execute_result",
          "data": {
            "text/html": [
              "<div>\n",
              "<style scoped>\n",
              "    .dataframe tbody tr th:only-of-type {\n",
              "        vertical-align: middle;\n",
              "    }\n",
              "\n",
              "    .dataframe tbody tr th {\n",
              "        vertical-align: top;\n",
              "    }\n",
              "\n",
              "    .dataframe thead th {\n",
              "        text-align: right;\n",
              "    }\n",
              "</style>\n",
              "<table border=\"1\" class=\"dataframe\">\n",
              "  <thead>\n",
              "    <tr style=\"text-align: right;\">\n",
              "      <th></th>\n",
              "      <th>node1</th>\n",
              "      <th>node2</th>\n",
              "      <th>label</th>\n",
              "      <th>cn</th>\n",
              "      <th>pa</th>\n",
              "      <th>tn</th>\n",
              "      <th>minTriangles</th>\n",
              "      <th>maxTriangles</th>\n",
              "      <th>minCoefficient</th>\n",
              "      <th>maxCoefficient</th>\n",
              "    </tr>\n",
              "  </thead>\n",
              "  <tbody>\n",
              "    <tr>\n",
              "      <th>0</th>\n",
              "      <td>155846</td>\n",
              "      <td>205452</td>\n",
              "      <td>0</td>\n",
              "      <td>0.000</td>\n",
              "      <td>26.000</td>\n",
              "      <td>15.000</td>\n",
              "      <td>1</td>\n",
              "      <td>20</td>\n",
              "      <td>0.256</td>\n",
              "      <td>1.000</td>\n",
              "    </tr>\n",
              "    <tr>\n",
              "      <th>1</th>\n",
              "      <td>11928</td>\n",
              "      <td>90971</td>\n",
              "      <td>0</td>\n",
              "      <td>0.000</td>\n",
              "      <td>432.000</td>\n",
              "      <td>48.000</td>\n",
              "      <td>28</td>\n",
              "      <td>126</td>\n",
              "      <td>0.200</td>\n",
              "      <td>0.424</td>\n",
              "    </tr>\n",
              "    <tr>\n",
              "      <th>2</th>\n",
              "      <td>124081</td>\n",
              "      <td>222389</td>\n",
              "      <td>1</td>\n",
              "      <td>2.000</td>\n",
              "      <td>54.000</td>\n",
              "      <td>19.000</td>\n",
              "      <td>3</td>\n",
              "      <td>20</td>\n",
              "      <td>0.131</td>\n",
              "      <td>1.000</td>\n",
              "    </tr>\n",
              "    <tr>\n",
              "      <th>3</th>\n",
              "      <td>145202</td>\n",
              "      <td>218004</td>\n",
              "      <td>0</td>\n",
              "      <td>0.000</td>\n",
              "      <td>200.000</td>\n",
              "      <td>30.000</td>\n",
              "      <td>20</td>\n",
              "      <td>27</td>\n",
              "      <td>0.142</td>\n",
              "      <td>0.444</td>\n",
              "    </tr>\n",
              "    <tr>\n",
              "      <th>4</th>\n",
              "      <td>171096</td>\n",
              "      <td>72234</td>\n",
              "      <td>0</td>\n",
              "      <td>1.000</td>\n",
              "      <td>23.000</td>\n",
              "      <td>23.000</td>\n",
              "      <td>0</td>\n",
              "      <td>25</td>\n",
              "      <td>0.000</td>\n",
              "      <td>0.099</td>\n",
              "    </tr>\n",
              "  </tbody>\n",
              "</table>\n",
              "</div>"
            ],
            "text/plain": [
              "    node1   node2 label  ...  maxTriangles  minCoefficient  maxCoefficient\n",
              "0  155846  205452     0  ...            20           0.256           1.000\n",
              "1   11928   90971     0  ...           126           0.200           0.424\n",
              "2  124081  222389     1  ...            20           0.131           1.000\n",
              "3  145202  218004     0  ...            27           0.142           0.444\n",
              "4  171096   72234     0  ...            25           0.000           0.099\n",
              "\n",
              "[5 rows x 10 columns]"
            ]
          },
          "metadata": {
            "tags": []
          },
          "execution_count": 33
        }
      ]
    },
    {
      "cell_type": "markdown",
      "metadata": {
        "pycharm": {},
        "id": "K5Uv9Z4kzCwf",
        "colab_type": "text"
      },
      "source": [
        "And now let's train and evaluate a model with these features:"
      ]
    },
    {
      "cell_type": "code",
      "metadata": {
        "pycharm": {},
        "id": "pnAZFVgPzCwf",
        "colab_type": "code",
        "colab": {
          "base_uri": "https://localhost:8080/",
          "height": 431
        },
        "outputId": "3fe4eb1b-6228-42e0-a1ef-c8a5a0481052"
      },
      "source": [
        "columns = [\n",
        "    \"cn\", \"pa\", \"tn\", # graph features\n",
        "    \"minTriangles\", \"maxTriangles\", \"minCoefficient\", \"maxCoefficient\" # triangle features  \n",
        "]\n",
        "\n",
        "X = training_df[columns]\n",
        "y = training_df[\"label\"]\n",
        "classifier.fit(X, y)\n",
        "\n",
        "predictions = classifier.predict(test_df[columns])\n",
        "y_test = test_df[\"label\"]\n",
        "\n",
        "display(evaluate_model(predictions, y_test))\n",
        "feature_importance(columns, classifier)"
      ],
      "execution_count": 34,
      "outputs": [
        {
          "output_type": "display_data",
          "data": {
            "text/html": [
              "<div>\n",
              "<style scoped>\n",
              "    .dataframe tbody tr th:only-of-type {\n",
              "        vertical-align: middle;\n",
              "    }\n",
              "\n",
              "    .dataframe tbody tr th {\n",
              "        vertical-align: top;\n",
              "    }\n",
              "\n",
              "    .dataframe thead th {\n",
              "        text-align: right;\n",
              "    }\n",
              "</style>\n",
              "<table border=\"1\" class=\"dataframe\">\n",
              "  <thead>\n",
              "    <tr style=\"text-align: right;\">\n",
              "      <th></th>\n",
              "      <th>Measure</th>\n",
              "      <th>Score</th>\n",
              "    </tr>\n",
              "  </thead>\n",
              "  <tbody>\n",
              "    <tr>\n",
              "      <th>0</th>\n",
              "      <td>Accuracy</td>\n",
              "      <td>0.953</td>\n",
              "    </tr>\n",
              "    <tr>\n",
              "      <th>1</th>\n",
              "      <td>Precision</td>\n",
              "      <td>0.949</td>\n",
              "    </tr>\n",
              "    <tr>\n",
              "      <th>2</th>\n",
              "      <td>Recall</td>\n",
              "      <td>0.959</td>\n",
              "    </tr>\n",
              "  </tbody>\n",
              "</table>\n",
              "</div>"
            ],
            "text/plain": [
              "     Measure  Score\n",
              "0   Accuracy  0.953\n",
              "1  Precision  0.949\n",
              "2     Recall  0.959"
            ]
          },
          "metadata": {
            "tags": []
          }
        },
        {
          "output_type": "display_data",
          "data": {
            "text/plain": [
              "'Feature Importance'"
            ]
          },
          "metadata": {
            "tags": []
          }
        },
        {
          "output_type": "display_data",
          "data": {
            "image/png": "[encoded data removed]",
            "text/plain": [
              "<Figure size 432x288 with 1 Axes>"
            ]
          },
          "metadata": {
            "tags": []
          }
        }
      ]
    },
    {
      "cell_type": "markdown",
      "metadata": {
        "pycharm": {},
        "id": "EEeOFLyczCwh",
        "colab_type": "text"
      },
      "source": [
        "The coefficient features have not added much to our model, but the triangles are useful. Next you will see if Community Detection algorithms can help improve the model.\n",
        "\n",
        "# Community Detection\n",
        "\n",
        "Community Detection algorithms evaluate how a group is clustered or partitioned. Nodes are considered more similar to nodes that fall in their community than to nodes in other communities.\n",
        "\n",
        "You will run two Community Detection algorithms over the train and test sub-graphs - Label Propagation and Louvain. First, Label Propagation: "
      ]
    },
    {
      "cell_type": "code",
      "metadata": {
        "pycharm": {},
        "id": "Qp70i_qtzCwi",
        "colab_type": "code",
        "colab": {
          "base_uri": "https://localhost:8080/",
          "height": 100
        },
        "outputId": "c5afcc57-f577-4651-8c17-31b11eb1bce7"
      },
      "source": [
        "graph.run(\"\"\"\n",
        "CALL algo.labelPropagation(\"Author\", \"CO_AUTHOR_EARLY\", \"BOTH\",\n",
        "{partitionProperty: \"partitionTrain\"});\n",
        "\"\"\").to_data_frame()"
      ],
      "execution_count": 35,
      "outputs": [
        {
          "output_type": "execute_result",
          "data": {
            "text/html": [
              "<div>\n",
              "<style scoped>\n",
              "    .dataframe tbody tr th:only-of-type {\n",
              "        vertical-align: middle;\n",
              "    }\n",
              "\n",
              "    .dataframe tbody tr th {\n",
              "        vertical-align: top;\n",
              "    }\n",
              "\n",
              "    .dataframe thead th {\n",
              "        text-align: right;\n",
              "    }\n",
              "</style>\n",
              "<table border=\"1\" class=\"dataframe\">\n",
              "  <thead>\n",
              "    <tr style=\"text-align: right;\">\n",
              "      <th></th>\n",
              "      <th>loadMillis</th>\n",
              "      <th>computeMillis</th>\n",
              "      <th>writeMillis</th>\n",
              "      <th>postProcessingMillis</th>\n",
              "      <th>nodes</th>\n",
              "      <th>communityCount</th>\n",
              "      <th>iterations</th>\n",
              "      <th>didConverge</th>\n",
              "      <th>p1</th>\n",
              "      <th>p5</th>\n",
              "      <th>p10</th>\n",
              "      <th>p25</th>\n",
              "      <th>p50</th>\n",
              "      <th>p75</th>\n",
              "      <th>p90</th>\n",
              "      <th>p95</th>\n",
              "      <th>p99</th>\n",
              "      <th>p100</th>\n",
              "      <th>weightProperty</th>\n",
              "      <th>write</th>\n",
              "      <th>partitionProperty</th>\n",
              "      <th>writeProperty</th>\n",
              "    </tr>\n",
              "  </thead>\n",
              "  <tbody>\n",
              "    <tr>\n",
              "      <th>0</th>\n",
              "      <td>339</td>\n",
              "      <td>101</td>\n",
              "      <td>23</td>\n",
              "      <td>165</td>\n",
              "      <td>80299</td>\n",
              "      <td>47330</td>\n",
              "      <td>1</td>\n",
              "      <td>False</td>\n",
              "      <td>1</td>\n",
              "      <td>1</td>\n",
              "      <td>1</td>\n",
              "      <td>1</td>\n",
              "      <td>1</td>\n",
              "      <td>1</td>\n",
              "      <td>3</td>\n",
              "      <td>5</td>\n",
              "      <td>10</td>\n",
              "      <td>101</td>\n",
              "      <td>weight</td>\n",
              "      <td>True</td>\n",
              "      <td>partitionTrain</td>\n",
              "      <td>partitionTrain</td>\n",
              "    </tr>\n",
              "  </tbody>\n",
              "</table>\n",
              "</div>"
            ],
            "text/plain": [
              "   loadMillis  computeMillis  ...  partitionProperty   writeProperty\n",
              "0         339            101  ...     partitionTrain  partitionTrain\n",
              "\n",
              "[1 rows x 22 columns]"
            ]
          },
          "metadata": {
            "tags": []
          },
          "execution_count": 35
        }
      ]
    },
    {
      "cell_type": "code",
      "metadata": {
        "pycharm": {},
        "id": "NxZye20TzCwl",
        "colab_type": "code",
        "colab": {
          "base_uri": "https://localhost:8080/",
          "height": 100
        },
        "outputId": "0cb9c60c-2277-4da2-acf6-c0bd242db068"
      },
      "source": [
        "graph.run(\"\"\"\n",
        "CALL algo.labelPropagation(\"Author\", \"CO_AUTHOR\", \"BOTH\",\n",
        "{partitionProperty: \"partitionTest\"});\n",
        "\"\"\").to_data_frame()"
      ],
      "execution_count": 36,
      "outputs": [
        {
          "output_type": "execute_result",
          "data": {
            "text/html": [
              "<div>\n",
              "<style scoped>\n",
              "    .dataframe tbody tr th:only-of-type {\n",
              "        vertical-align: middle;\n",
              "    }\n",
              "\n",
              "    .dataframe tbody tr th {\n",
              "        vertical-align: top;\n",
              "    }\n",
              "\n",
              "    .dataframe thead th {\n",
              "        text-align: right;\n",
              "    }\n",
              "</style>\n",
              "<table border=\"1\" class=\"dataframe\">\n",
              "  <thead>\n",
              "    <tr style=\"text-align: right;\">\n",
              "      <th></th>\n",
              "      <th>loadMillis</th>\n",
              "      <th>computeMillis</th>\n",
              "      <th>writeMillis</th>\n",
              "      <th>postProcessingMillis</th>\n",
              "      <th>nodes</th>\n",
              "      <th>communityCount</th>\n",
              "      <th>iterations</th>\n",
              "      <th>didConverge</th>\n",
              "      <th>p1</th>\n",
              "      <th>p5</th>\n",
              "      <th>p10</th>\n",
              "      <th>p25</th>\n",
              "      <th>p50</th>\n",
              "      <th>p75</th>\n",
              "      <th>p90</th>\n",
              "      <th>p95</th>\n",
              "      <th>p99</th>\n",
              "      <th>p100</th>\n",
              "      <th>weightProperty</th>\n",
              "      <th>write</th>\n",
              "      <th>partitionProperty</th>\n",
              "      <th>writeProperty</th>\n",
              "    </tr>\n",
              "  </thead>\n",
              "  <tbody>\n",
              "    <tr>\n",
              "      <th>0</th>\n",
              "      <td>297</td>\n",
              "      <td>88</td>\n",
              "      <td>6</td>\n",
              "      <td>231</td>\n",
              "      <td>80299</td>\n",
              "      <td>22380</td>\n",
              "      <td>1</td>\n",
              "      <td>False</td>\n",
              "      <td>1</td>\n",
              "      <td>1</td>\n",
              "      <td>1</td>\n",
              "      <td>1</td>\n",
              "      <td>2</td>\n",
              "      <td>4</td>\n",
              "      <td>7</td>\n",
              "      <td>10</td>\n",
              "      <td>22</td>\n",
              "      <td>319</td>\n",
              "      <td>weight</td>\n",
              "      <td>True</td>\n",
              "      <td>partitionTest</td>\n",
              "      <td>partitionTest</td>\n",
              "    </tr>\n",
              "  </tbody>\n",
              "</table>\n",
              "</div>"
            ],
            "text/plain": [
              "   loadMillis  computeMillis  ...  partitionProperty  writeProperty\n",
              "0         297             88  ...      partitionTest  partitionTest\n",
              "\n",
              "[1 rows x 22 columns]"
            ]
          },
          "metadata": {
            "tags": []
          },
          "execution_count": 36
        }
      ]
    },
    {
      "cell_type": "markdown",
      "metadata": {
        "pycharm": {},
        "id": "AdNXtteAzCwo",
        "colab_type": "text"
      },
      "source": [
        "And now Louvain. The Louvain algorithm returns intermediate communities, which are useful for finding fine grained communities that exist in a graph. You will add a property to each node containing the community revealed on the first iteration of the algorithm:"
      ]
    },
    {
      "cell_type": "code",
      "metadata": {
        "pycharm": {},
        "id": "lRVy6lbdzCwo",
        "colab_type": "code",
        "colab": {
          "base_uri": "https://localhost:8080/",
          "height": 221
        },
        "outputId": "c0b91712-4c65-43e3-b0d3-ea50bea4e6cb"
      },
      "source": [
        "graph.run(\"\"\"\n",
        "CALL algo.louvain.stream(\"Author\", \"CO_AUTHOR_EARLY\", {includeIntermediateCommunities:true})\n",
        "YIELD nodeId, community, communities\n",
        "WITH algo.getNodeById(nodeId) AS node, communities[0] AS smallestCommunity\n",
        "SET node.louvainTrain = smallestCommunity;\n",
        "\"\"\").stats()"
      ],
      "execution_count": 37,
      "outputs": [
        {
          "output_type": "execute_result",
          "data": {
            "text/plain": [
              "{'constraints_added': 0,\n",
              " 'constraints_removed': 0,\n",
              " 'contains_updates': True,\n",
              " 'indexes_added': 0,\n",
              " 'indexes_removed': 0,\n",
              " 'labels_added': 0,\n",
              " 'labels_removed': 0,\n",
              " 'nodes_created': 0,\n",
              " 'nodes_deleted': 0,\n",
              " 'properties_set': 80299,\n",
              " 'relationships_created': 0,\n",
              " 'relationships_deleted': 0}"
            ]
          },
          "metadata": {
            "tags": []
          },
          "execution_count": 37
        }
      ]
    },
    {
      "cell_type": "code",
      "metadata": {
        "pycharm": {},
        "id": "EYVdi2S1zCwr",
        "colab_type": "code",
        "colab": {
          "base_uri": "https://localhost:8080/",
          "height": 221
        },
        "outputId": "a44091fe-b88a-42ee-c557-30500847816c"
      },
      "source": [
        "graph.run(\"\"\"\n",
        "CALL algo.louvain.stream(\"Author\", \"CO_AUTHOR\", {includeIntermediateCommunities:true})\n",
        "YIELD nodeId, community, communities\n",
        "WITH algo.getNodeById(nodeId) AS node, communities[0] AS smallestCommunity\n",
        "SET node.louvainTest = smallestCommunity;\n",
        "\"\"\").stats()"
      ],
      "execution_count": 38,
      "outputs": [
        {
          "output_type": "execute_result",
          "data": {
            "text/plain": [
              "{'constraints_added': 0,\n",
              " 'constraints_removed': 0,\n",
              " 'contains_updates': True,\n",
              " 'indexes_added': 0,\n",
              " 'indexes_removed': 0,\n",
              " 'labels_added': 0,\n",
              " 'labels_removed': 0,\n",
              " 'nodes_created': 0,\n",
              " 'nodes_deleted': 0,\n",
              " 'properties_set': 80299,\n",
              " 'relationships_created': 0,\n",
              " 'relationships_deleted': 0}"
            ]
          },
          "metadata": {
            "tags": []
          },
          "execution_count": 38
        }
      ]
    },
    {
      "cell_type": "markdown",
      "metadata": {
        "pycharm": {},
        "id": "h3mPPYXAzCwt",
        "colab_type": "text"
      },
      "source": [
        "The following function will add these features to the train and test DataFrames:"
      ]
    },
    {
      "cell_type": "code",
      "metadata": {
        "pycharm": {},
        "id": "HlZd47UfzCwt",
        "colab_type": "code",
        "colab": {}
      },
      "source": [
        "def apply_community_features(data, partition_prop, louvain_prop):\n",
        "    query = \"\"\"\n",
        "    UNWIND $pairs AS pair\n",
        "    MATCH (p1) WHERE id(p1) = pair.node1\n",
        "    MATCH (p2) WHERE id(p2) = pair.node2\n",
        "    RETURN pair.node1 AS node1,\n",
        "    pair.node2 AS node2,\n",
        "    algo.linkprediction.sameCommunity(p1, p2, $partitionProp) AS sp,    \n",
        "    algo.linkprediction.sameCommunity(p1, p2, $louvainProp) AS sl\n",
        "    \"\"\"\n",
        "    pairs = [{\"node1\": node1, \"node2\": node2}  for node1,node2 in data[[\"node1\", \"node2\"]].values.tolist()]\n",
        "    params = {\n",
        "    \"pairs\": pairs,\n",
        "    \"partitionProp\": partition_prop,\n",
        "    \"louvainProp\": louvain_prop\n",
        "    }\n",
        "    features = graph.run(query, params).to_data_frame()\n",
        "    return pd.merge(data, features, on = [\"node1\", \"node2\"])"
      ],
      "execution_count": 0,
      "outputs": []
    },
    {
      "cell_type": "code",
      "metadata": {
        "pycharm": {},
        "id": "XoGxRgrzzCwv",
        "colab_type": "code",
        "colab": {}
      },
      "source": [
        "training_df = apply_community_features(training_df, \"partitionTrain\", \"louvainTrain\")\n",
        "test_df = apply_community_features(test_df, \"partitionTest\", \"louvainTest\")"
      ],
      "execution_count": 0,
      "outputs": []
    },
    {
      "cell_type": "code",
      "metadata": {
        "pycharm": {},
        "id": "Z0kGSrSHzCwy",
        "colab_type": "code",
        "colab": {
          "base_uri": "https://localhost:8080/",
          "height": 204
        },
        "outputId": "0195375e-59c5-4864-cf24-8b394072ea8c"
      },
      "source": [
        "training_df.head()"
      ],
      "execution_count": 41,
      "outputs": [
        {
          "output_type": "execute_result",
          "data": {
            "text/html": [
              "<div>\n",
              "<style scoped>\n",
              "    .dataframe tbody tr th:only-of-type {\n",
              "        vertical-align: middle;\n",
              "    }\n",
              "\n",
              "    .dataframe tbody tr th {\n",
              "        vertical-align: top;\n",
              "    }\n",
              "\n",
              "    .dataframe thead th {\n",
              "        text-align: right;\n",
              "    }\n",
              "</style>\n",
              "<table border=\"1\" class=\"dataframe\">\n",
              "  <thead>\n",
              "    <tr style=\"text-align: right;\">\n",
              "      <th></th>\n",
              "      <th>node1</th>\n",
              "      <th>node2</th>\n",
              "      <th>label</th>\n",
              "      <th>cn</th>\n",
              "      <th>pa</th>\n",
              "      <th>tn</th>\n",
              "      <th>minTriangles</th>\n",
              "      <th>maxTriangles</th>\n",
              "      <th>minCoefficient</th>\n",
              "      <th>maxCoefficient</th>\n",
              "      <th>sp</th>\n",
              "      <th>sl</th>\n",
              "    </tr>\n",
              "  </thead>\n",
              "  <tbody>\n",
              "    <tr>\n",
              "      <th>0</th>\n",
              "      <td>84017</td>\n",
              "      <td>71429</td>\n",
              "      <td>0</td>\n",
              "      <td>0.000</td>\n",
              "      <td>120.000</td>\n",
              "      <td>22.000</td>\n",
              "      <td>7</td>\n",
              "      <td>12</td>\n",
              "      <td>0.106</td>\n",
              "      <td>0.267</td>\n",
              "      <td>0.000</td>\n",
              "      <td>0.000</td>\n",
              "    </tr>\n",
              "    <tr>\n",
              "      <th>1</th>\n",
              "      <td>51252</td>\n",
              "      <td>209725</td>\n",
              "      <td>1</td>\n",
              "      <td>2.000</td>\n",
              "      <td>39.000</td>\n",
              "      <td>14.000</td>\n",
              "      <td>3</td>\n",
              "      <td>19</td>\n",
              "      <td>0.244</td>\n",
              "      <td>1.000</td>\n",
              "      <td>1.000</td>\n",
              "      <td>0.000</td>\n",
              "    </tr>\n",
              "    <tr>\n",
              "      <th>2</th>\n",
              "      <td>1892</td>\n",
              "      <td>84804</td>\n",
              "      <td>0</td>\n",
              "      <td>0.000</td>\n",
              "      <td>210.000</td>\n",
              "      <td>47.000</td>\n",
              "      <td>6</td>\n",
              "      <td>71</td>\n",
              "      <td>0.082</td>\n",
              "      <td>0.600</td>\n",
              "      <td>0.000</td>\n",
              "      <td>0.000</td>\n",
              "    </tr>\n",
              "    <tr>\n",
              "      <th>3</th>\n",
              "      <td>27550</td>\n",
              "      <td>134745</td>\n",
              "      <td>1</td>\n",
              "      <td>2.000</td>\n",
              "      <td>117.000</td>\n",
              "      <td>20.000</td>\n",
              "      <td>14</td>\n",
              "      <td>24</td>\n",
              "      <td>0.179</td>\n",
              "      <td>0.667</td>\n",
              "      <td>0.000</td>\n",
              "      <td>0.000</td>\n",
              "    </tr>\n",
              "    <tr>\n",
              "      <th>4</th>\n",
              "      <td>255533</td>\n",
              "      <td>255534</td>\n",
              "      <td>1</td>\n",
              "      <td>1.000</td>\n",
              "      <td>4.000</td>\n",
              "      <td>3.000</td>\n",
              "      <td>1</td>\n",
              "      <td>1</td>\n",
              "      <td>1.000</td>\n",
              "      <td>1.000</td>\n",
              "      <td>1.000</td>\n",
              "      <td>1.000</td>\n",
              "    </tr>\n",
              "  </tbody>\n",
              "</table>\n",
              "</div>"
            ],
            "text/plain": [
              "    node1   node2 label    cn  ...  minCoefficient  maxCoefficient    sp    sl\n",
              "0   84017   71429     0 0.000  ...           0.106           0.267 0.000 0.000\n",
              "1   51252  209725     1 2.000  ...           0.244           1.000 1.000 0.000\n",
              "2    1892   84804     0 0.000  ...           0.082           0.600 0.000 0.000\n",
              "3   27550  134745     1 2.000  ...           0.179           0.667 0.000 0.000\n",
              "4  255533  255534     1 1.000  ...           1.000           1.000 1.000 1.000\n",
              "\n",
              "[5 rows x 12 columns]"
            ]
          },
          "metadata": {
            "tags": []
          },
          "execution_count": 41
        }
      ]
    },
    {
      "cell_type": "code",
      "metadata": {
        "pycharm": {},
        "id": "cDGNcfGvzCw0",
        "colab_type": "code",
        "colab": {
          "base_uri": "https://localhost:8080/",
          "height": 204
        },
        "outputId": "e2617205-a3b4-4424-bbc8-369e7e664ddb"
      },
      "source": [
        "test_df.head()"
      ],
      "execution_count": 42,
      "outputs": [
        {
          "output_type": "execute_result",
          "data": {
            "text/html": [
              "<div>\n",
              "<style scoped>\n",
              "    .dataframe tbody tr th:only-of-type {\n",
              "        vertical-align: middle;\n",
              "    }\n",
              "\n",
              "    .dataframe tbody tr th {\n",
              "        vertical-align: top;\n",
              "    }\n",
              "\n",
              "    .dataframe thead th {\n",
              "        text-align: right;\n",
              "    }\n",
              "</style>\n",
              "<table border=\"1\" class=\"dataframe\">\n",
              "  <thead>\n",
              "    <tr style=\"text-align: right;\">\n",
              "      <th></th>\n",
              "      <th>node1</th>\n",
              "      <th>node2</th>\n",
              "      <th>label</th>\n",
              "      <th>cn</th>\n",
              "      <th>pa</th>\n",
              "      <th>tn</th>\n",
              "      <th>minTriangles</th>\n",
              "      <th>maxTriangles</th>\n",
              "      <th>minCoefficient</th>\n",
              "      <th>maxCoefficient</th>\n",
              "      <th>sp</th>\n",
              "      <th>sl</th>\n",
              "    </tr>\n",
              "  </thead>\n",
              "  <tbody>\n",
              "    <tr>\n",
              "      <th>0</th>\n",
              "      <td>155846</td>\n",
              "      <td>205452</td>\n",
              "      <td>0</td>\n",
              "      <td>0.000</td>\n",
              "      <td>26.000</td>\n",
              "      <td>15.000</td>\n",
              "      <td>1</td>\n",
              "      <td>20</td>\n",
              "      <td>0.256</td>\n",
              "      <td>1.000</td>\n",
              "      <td>0.000</td>\n",
              "      <td>0.000</td>\n",
              "    </tr>\n",
              "    <tr>\n",
              "      <th>1</th>\n",
              "      <td>11928</td>\n",
              "      <td>90971</td>\n",
              "      <td>0</td>\n",
              "      <td>0.000</td>\n",
              "      <td>432.000</td>\n",
              "      <td>48.000</td>\n",
              "      <td>28</td>\n",
              "      <td>126</td>\n",
              "      <td>0.200</td>\n",
              "      <td>0.424</td>\n",
              "      <td>0.000</td>\n",
              "      <td>0.000</td>\n",
              "    </tr>\n",
              "    <tr>\n",
              "      <th>2</th>\n",
              "      <td>124081</td>\n",
              "      <td>222389</td>\n",
              "      <td>1</td>\n",
              "      <td>2.000</td>\n",
              "      <td>54.000</td>\n",
              "      <td>19.000</td>\n",
              "      <td>3</td>\n",
              "      <td>20</td>\n",
              "      <td>0.131</td>\n",
              "      <td>1.000</td>\n",
              "      <td>0.000</td>\n",
              "      <td>0.000</td>\n",
              "    </tr>\n",
              "    <tr>\n",
              "      <th>3</th>\n",
              "      <td>145202</td>\n",
              "      <td>218004</td>\n",
              "      <td>0</td>\n",
              "      <td>0.000</td>\n",
              "      <td>200.000</td>\n",
              "      <td>30.000</td>\n",
              "      <td>20</td>\n",
              "      <td>27</td>\n",
              "      <td>0.142</td>\n",
              "      <td>0.444</td>\n",
              "      <td>0.000</td>\n",
              "      <td>0.000</td>\n",
              "    </tr>\n",
              "    <tr>\n",
              "      <th>4</th>\n",
              "      <td>171096</td>\n",
              "      <td>72234</td>\n",
              "      <td>0</td>\n",
              "      <td>1.000</td>\n",
              "      <td>23.000</td>\n",
              "      <td>23.000</td>\n",
              "      <td>0</td>\n",
              "      <td>25</td>\n",
              "      <td>0.000</td>\n",
              "      <td>0.099</td>\n",
              "      <td>0.000</td>\n",
              "      <td>0.000</td>\n",
              "    </tr>\n",
              "  </tbody>\n",
              "</table>\n",
              "</div>"
            ],
            "text/plain": [
              "    node1   node2 label    cn  ...  minCoefficient  maxCoefficient    sp    sl\n",
              "0  155846  205452     0 0.000  ...           0.256           1.000 0.000 0.000\n",
              "1   11928   90971     0 0.000  ...           0.200           0.424 0.000 0.000\n",
              "2  124081  222389     1 2.000  ...           0.131           1.000 0.000 0.000\n",
              "3  145202  218004     0 0.000  ...           0.142           0.444 0.000 0.000\n",
              "4  171096   72234     0 1.000  ...           0.000           0.099 0.000 0.000\n",
              "\n",
              "[5 rows x 12 columns]"
            ]
          },
          "metadata": {
            "tags": []
          },
          "execution_count": 42
        }
      ]
    },
    {
      "cell_type": "code",
      "metadata": {
        "pycharm": {},
        "id": "3f7FWgHtzCw3",
        "colab_type": "code",
        "colab": {
          "base_uri": "https://localhost:8080/",
          "height": 431
        },
        "outputId": "b0e46c10-5e1a-4ba3-dd14-fff36d0e6a57"
      },
      "source": [
        "columns = [\n",
        "    \"cn\", \"pa\", \"tn\", # graph features\n",
        "    \"minTriangles\", \"maxTriangles\", \"minCoefficient\", \"maxCoefficient\", # triangle features  \n",
        "    \"sp\", \"sl\" # community features\n",
        "]\n",
        "\n",
        "X = training_df[columns]\n",
        "y = training_df[\"label\"]\n",
        "classifier.fit(X, y)\n",
        "\n",
        "predictions = classifier.predict(test_df[columns])\n",
        "y_test = test_df[\"label\"]\n",
        "\n",
        "display(evaluate_model(predictions, y_test))\n",
        "feature_importance(columns, classifier)"
      ],
      "execution_count": 43,
      "outputs": [
        {
          "output_type": "display_data",
          "data": {
            "text/html": [
              "<div>\n",
              "<style scoped>\n",
              "    .dataframe tbody tr th:only-of-type {\n",
              "        vertical-align: middle;\n",
              "    }\n",
              "\n",
              "    .dataframe tbody tr th {\n",
              "        vertical-align: top;\n",
              "    }\n",
              "\n",
              "    .dataframe thead th {\n",
              "        text-align: right;\n",
              "    }\n",
              "</style>\n",
              "<table border=\"1\" class=\"dataframe\">\n",
              "  <thead>\n",
              "    <tr style=\"text-align: right;\">\n",
              "      <th></th>\n",
              "      <th>Measure</th>\n",
              "      <th>Score</th>\n",
              "    </tr>\n",
              "  </thead>\n",
              "  <tbody>\n",
              "    <tr>\n",
              "      <th>0</th>\n",
              "      <td>Accuracy</td>\n",
              "      <td>0.963</td>\n",
              "    </tr>\n",
              "    <tr>\n",
              "      <th>1</th>\n",
              "      <td>Precision</td>\n",
              "      <td>0.964</td>\n",
              "    </tr>\n",
              "    <tr>\n",
              "      <th>2</th>\n",
              "      <td>Recall</td>\n",
              "      <td>0.961</td>\n",
              "    </tr>\n",
              "  </tbody>\n",
              "</table>\n",
              "</div>"
            ],
            "text/plain": [
              "     Measure  Score\n",
              "0   Accuracy  0.963\n",
              "1  Precision  0.964\n",
              "2     Recall  0.961"
            ]
          },
          "metadata": {
            "tags": []
          }
        },
        {
          "output_type": "display_data",
          "data": {
            "text/plain": [
              "'Feature Importance'"
            ]
          },
          "metadata": {
            "tags": []
          }
        },
        {
          "output_type": "display_data",
          "data": {
            "image/png": "[encoded data removed]",
            "text/plain": [
              "<Figure size 432x288 with 1 Axes>"
            ]
          },
          "metadata": {
            "tags": []
          }
        }
      ]
    }
  ]
}