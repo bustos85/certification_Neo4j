{
  "nbformat": 4,
  "nbformat_minor": 0,
  "metadata": {
    "kernelspec": {
      "display_name": "Python 3",
      "language": "python",
      "name": "python3"
    },
    "language_info": {
      "codemirror_mode": {
        "name": "ipython",
        "version": 3
      },
      "file_extension": ".py",
      "mimetype": "text/x-python",
      "name": "python",
      "nbconvert_exporter": "python",
      "pygments_lexer": "ipython3",
      "version": "3.6.7"
    },
    "colab": {
      "name": "03_Recommendations_Part1.ipynb",
      "provenance": []
    }
  },
  "cells": [
    {
      "cell_type": "markdown",
      "metadata": {
        "pycharm": {},
        "id": "EL2mRrJthn4y",
        "colab_type": "text"
      },
      "source": [
        "# Recommendations: Part 1\n",
        "\n",
        "In this notebook you will learn how to make recommendations using Neo4j. \n",
        "\n",
        "Execute the code to import the libraries (remember to unset Reset all runtimes before running):"
      ]
    },
    {
      "cell_type": "code",
      "metadata": {
        "id": "FyLVa2LUh1xG",
        "colab_type": "code",
        "colab": {
          "base_uri": "https://localhost:8080/",
          "height": 547
        },
        "outputId": "cc5e5d15-8037-4027-8878-5eb4526f9247"
      },
      "source": [
        "!pip install py2neo==4.1.3 pandas matplotlib sklearn"
      ],
      "execution_count": 2,
      "outputs": [
        {
          "output_type": "stream",
          "text": [
            "Requirement already satisfied: py2neo==4.1.3 in /usr/local/lib/python3.6/dist-packages (4.1.3)\n",
            "Requirement already satisfied: pandas in /usr/local/lib/python3.6/dist-packages (1.0.3)\n",
            "Requirement already satisfied: matplotlib in /usr/local/lib/python3.6/dist-packages (3.2.1)\n",
            "Requirement already satisfied: sklearn in /usr/local/lib/python3.6/dist-packages (0.0)\n",
            "Requirement already satisfied: pygments>=2.0 in /usr/local/lib/python3.6/dist-packages (from py2neo==4.1.3) (2.1.3)\n",
            "Requirement already satisfied: neotime==1.0.0 in /usr/local/lib/python3.6/dist-packages (from py2neo==4.1.3) (1.0.0)\n",
            "Requirement already satisfied: urllib3[secure]<1.23,>=1.21.1 in /usr/local/lib/python3.6/dist-packages (from py2neo==4.1.3) (1.22)\n",
            "Requirement already satisfied: colorama in /usr/local/lib/python3.6/dist-packages (from py2neo==4.1.3) (0.4.3)\n",
            "Requirement already satisfied: neo4j-driver<1.7,>=1.6.2 in /usr/local/lib/python3.6/dist-packages (from py2neo==4.1.3) (1.6.3)\n",
            "Requirement already satisfied: prompt-toolkit==1.0.15 in /usr/local/lib/python3.6/dist-packages (from py2neo==4.1.3) (1.0.15)\n",
            "Requirement already satisfied: click>=2.0 in /usr/local/lib/python3.6/dist-packages (from py2neo==4.1.3) (7.1.1)\n",
            "Requirement already satisfied: pytest in /usr/local/lib/python3.6/dist-packages (from py2neo==4.1.3) (3.6.4)\n",
            "Requirement already satisfied: numpy>=1.13.3 in /usr/local/lib/python3.6/dist-packages (from pandas) (1.18.3)\n",
            "Requirement already satisfied: pytz>=2017.2 in /usr/local/lib/python3.6/dist-packages (from pandas) (2018.9)\n",
            "Requirement already satisfied: python-dateutil>=2.6.1 in /usr/local/lib/python3.6/dist-packages (from pandas) (2.8.1)\n",
            "Requirement already satisfied: pyparsing!=2.0.4,!=2.1.2,!=2.1.6,>=2.0.1 in /usr/local/lib/python3.6/dist-packages (from matplotlib) (2.4.7)\n",
            "Requirement already satisfied: cycler>=0.10 in /usr/local/lib/python3.6/dist-packages (from matplotlib) (0.10.0)\n",
            "Requirement already satisfied: kiwisolver>=1.0.1 in /usr/local/lib/python3.6/dist-packages (from matplotlib) (1.2.0)\n",
            "Requirement already satisfied: scikit-learn in /usr/local/lib/python3.6/dist-packages (from sklearn) (0.22.2.post1)\n",
            "Requirement already satisfied: six in /usr/local/lib/python3.6/dist-packages (from neotime==1.0.0->py2neo==4.1.3) (1.12.0)\n",
            "Requirement already satisfied: certifi; extra == \"secure\" in /usr/local/lib/python3.6/dist-packages (from urllib3[secure]<1.23,>=1.21.1->py2neo==4.1.3) (2020.4.5.1)\n",
            "Requirement already satisfied: wcwidth in /usr/local/lib/python3.6/dist-packages (from prompt-toolkit==1.0.15->py2neo==4.1.3) (0.1.9)\n",
            "Requirement already satisfied: more-itertools>=4.0.0 in /usr/local/lib/python3.6/dist-packages (from pytest->py2neo==4.1.3) (8.2.0)\n",
            "Requirement already satisfied: py>=1.5.0 in /usr/local/lib/python3.6/dist-packages (from pytest->py2neo==4.1.3) (1.8.1)\n",
            "Requirement already satisfied: attrs>=17.4.0 in /usr/local/lib/python3.6/dist-packages (from pytest->py2neo==4.1.3) (19.3.0)\n",
            "Requirement already satisfied: pluggy<0.8,>=0.5 in /usr/local/lib/python3.6/dist-packages (from pytest->py2neo==4.1.3) (0.7.1)\n",
            "Requirement already satisfied: setuptools in /usr/local/lib/python3.6/dist-packages (from pytest->py2neo==4.1.3) (46.1.3)\n",
            "Requirement already satisfied: atomicwrites>=1.0 in /usr/local/lib/python3.6/dist-packages (from pytest->py2neo==4.1.3) (1.3.0)\n",
            "Requirement already satisfied: scipy>=0.17.0 in /usr/local/lib/python3.6/dist-packages (from scikit-learn->sklearn) (1.4.1)\n",
            "Requirement already satisfied: joblib>=0.11 in /usr/local/lib/python3.6/dist-packages (from scikit-learn->sklearn) (0.14.1)\n"
          ],
          "name": "stdout"
        }
      ]
    },
    {
      "cell_type": "code",
      "metadata": {
        "pycharm": {},
        "id": "RZXaPlYxhn4z",
        "colab_type": "code",
        "colab": {}
      },
      "source": [
        "from py2neo import Graph\n",
        "import pandas as pd\n",
        "\n",
        "import matplotlib \n",
        "import matplotlib.pyplot as plt\n",
        "\n",
        "plt.style.use('fivethirtyeight')\n",
        "pd.set_option('display.float_format', lambda x: '%.3f' % x)\n",
        "pd.set_option('display.max_colwidth', 100)"
      ],
      "execution_count": 0,
      "outputs": []
    },
    {
      "cell_type": "markdown",
      "metadata": {
        "pycharm": {},
        "id": "UghT70EXhn43",
        "colab_type": "text"
      },
      "source": [
        "Next, create a connection to your Neo4j Sandbox, just as you did previously when you set up your environment. \n",
        "\n",
        "<div align=\"left\">\n",
        "    <img src=\"https://github.com/neo4j-contrib/training-v2/blob/master/Courses/DataScience/notebooks/images/sandbox-citations.png?raw=1\" alt=\"Citation Sandbox\"/>\n",
        "</div>\n",
        "\n",
        "Update the cell below to use the IP Address, Bolt Port, and Password, as you did previously."
      ]
    },
    {
      "cell_type": "code",
      "metadata": {
        "pycharm": {},
        "id": "MWf5-kI_hn43",
        "colab_type": "code",
        "colab": {}
      },
      "source": [
        "# Change the line of code below to use the IP Address, Bolt Port, and Password of your Sandbox.\n",
        "# graph = Graph(\"bolt://<IP Address>:<Bolt Port>\", auth=(\"neo4j\", \"<Password>\")) \n",
        " \n",
        "graph = Graph(\"bolt://18.207.236.67:32919\", auth=(\"neo4j\", \"age-hangars-starboard\"))"
      ],
      "execution_count": 0,
      "outputs": []
    },
    {
      "cell_type": "markdown",
      "metadata": {
        "pycharm": {},
        "id": "q6HjiocQhn46",
        "colab_type": "text"
      },
      "source": [
        "##  Finding popular authors\n",
        "\n",
        "Since we're going to make collaborator suggestions find authors who have written the most articles so that we have some data to work with."
      ]
    },
    {
      "cell_type": "code",
      "metadata": {
        "pycharm": {},
        "id": "60nwtobChn47",
        "colab_type": "code",
        "colab": {
          "base_uri": "https://localhost:8080/",
          "height": 359
        },
        "outputId": "9697e1bc-5fbc-4784-af89-3e8c16e4e876"
      },
      "source": [
        "popular_authors_query = \"\"\"\n",
        "MATCH (author:Author)\n",
        "RETURN author.name, size((author)<-[:AUTHOR]-()) AS articlesPublished\n",
        "ORDER BY articlesPublished DESC\n",
        "LIMIT 10\n",
        "\"\"\"\n",
        "\n",
        "graph.run(popular_authors_query).to_data_frame()"
      ],
      "execution_count": 5,
      "outputs": [
        {
          "output_type": "execute_result",
          "data": {
            "text/html": [
              "<div>\n",
              "<style scoped>\n",
              "    .dataframe tbody tr th:only-of-type {\n",
              "        vertical-align: middle;\n",
              "    }\n",
              "\n",
              "    .dataframe tbody tr th {\n",
              "        vertical-align: top;\n",
              "    }\n",
              "\n",
              "    .dataframe thead th {\n",
              "        text-align: right;\n",
              "    }\n",
              "</style>\n",
              "<table border=\"1\" class=\"dataframe\">\n",
              "  <thead>\n",
              "    <tr style=\"text-align: right;\">\n",
              "      <th></th>\n",
              "      <th>author.name</th>\n",
              "      <th>articlesPublished</th>\n",
              "    </tr>\n",
              "  </thead>\n",
              "  <tbody>\n",
              "    <tr>\n",
              "      <th>0</th>\n",
              "      <td>Peter G. Neumann</td>\n",
              "      <td>89</td>\n",
              "    </tr>\n",
              "    <tr>\n",
              "      <th>1</th>\n",
              "      <td>Peter J. Denning</td>\n",
              "      <td>80</td>\n",
              "    </tr>\n",
              "    <tr>\n",
              "      <th>2</th>\n",
              "      <td>Moshe Y. Vardi</td>\n",
              "      <td>72</td>\n",
              "    </tr>\n",
              "    <tr>\n",
              "      <th>3</th>\n",
              "      <td>Pamela Samuelson</td>\n",
              "      <td>71</td>\n",
              "    </tr>\n",
              "    <tr>\n",
              "      <th>4</th>\n",
              "      <td>Bart Preneel</td>\n",
              "      <td>65</td>\n",
              "    </tr>\n",
              "    <tr>\n",
              "      <th>5</th>\n",
              "      <td>Vinton G. Cerf</td>\n",
              "      <td>56</td>\n",
              "    </tr>\n",
              "    <tr>\n",
              "      <th>6</th>\n",
              "      <td>Barry W. Boehm</td>\n",
              "      <td>53</td>\n",
              "    </tr>\n",
              "    <tr>\n",
              "      <th>7</th>\n",
              "      <td>Mark Guzdial</td>\n",
              "      <td>49</td>\n",
              "    </tr>\n",
              "    <tr>\n",
              "      <th>8</th>\n",
              "      <td>Edwin R. Hancock</td>\n",
              "      <td>47</td>\n",
              "    </tr>\n",
              "    <tr>\n",
              "      <th>9</th>\n",
              "      <td>Josef Kittler</td>\n",
              "      <td>46</td>\n",
              "    </tr>\n",
              "  </tbody>\n",
              "</table>\n",
              "</div>"
            ],
            "text/plain": [
              "        author.name  articlesPublished\n",
              "0  Peter G. Neumann                 89\n",
              "1  Peter J. Denning                 80\n",
              "2    Moshe Y. Vardi                 72\n",
              "3  Pamela Samuelson                 71\n",
              "4      Bart Preneel                 65\n",
              "5    Vinton G. Cerf                 56\n",
              "6    Barry W. Boehm                 53\n",
              "7      Mark Guzdial                 49\n",
              "8  Edwin R. Hancock                 47\n",
              "9     Josef Kittler                 46"
            ]
          },
          "metadata": {
            "tags": []
          },
          "execution_count": 5
        }
      ]
    },
    {
      "cell_type": "markdown",
      "metadata": {
        "pycharm": {},
        "id": "6uuOlyRrhn4-",
        "colab_type": "text"
      },
      "source": [
        "Pick one of these authors..."
      ]
    },
    {
      "cell_type": "code",
      "metadata": {
        "pycharm": {},
        "id": "owvGWCYXhn4-",
        "colab_type": "code",
        "colab": {}
      },
      "source": [
        "author_name = \"Peter G. Neumann\""
      ],
      "execution_count": 0,
      "outputs": []
    },
    {
      "cell_type": "markdown",
      "metadata": {
        "pycharm": {},
        "id": "sYotacd_hn5B",
        "colab_type": "text"
      },
      "source": [
        "Retrieve the articles they've published and how many citations they've received:"
      ]
    },
    {
      "cell_type": "code",
      "metadata": {
        "pycharm": {},
        "id": "df9NXLEUhn5B",
        "colab_type": "code",
        "colab": {
          "base_uri": "https://localhost:8080/",
          "height": 669
        },
        "outputId": "69d7d63f-d1a2-4e85-bc2a-c75593411337"
      },
      "source": [
        "author_articles_query = \"\"\"\n",
        "MATCH (:Author {name: $authorName})<-[:AUTHOR]-(article)\n",
        "RETURN article.title AS article, article.year AS year, size((article)<-[:CITED]-()) AS citations\n",
        "ORDER BY citations DESC\n",
        "LIMIT 20\n",
        "\"\"\"\n",
        "\n",
        "graph.run(author_articles_query,  {\"authorName\": author_name}).to_data_frame()"
      ],
      "execution_count": 7,
      "outputs": [
        {
          "output_type": "execute_result",
          "data": {
            "text/html": [
              "<div>\n",
              "<style scoped>\n",
              "    .dataframe tbody tr th:only-of-type {\n",
              "        vertical-align: middle;\n",
              "    }\n",
              "\n",
              "    .dataframe tbody tr th {\n",
              "        vertical-align: top;\n",
              "    }\n",
              "\n",
              "    .dataframe thead th {\n",
              "        text-align: right;\n",
              "    }\n",
              "</style>\n",
              "<table border=\"1\" class=\"dataframe\">\n",
              "  <thead>\n",
              "    <tr style=\"text-align: right;\">\n",
              "      <th></th>\n",
              "      <th>article</th>\n",
              "      <th>year</th>\n",
              "      <th>citations</th>\n",
              "    </tr>\n",
              "  </thead>\n",
              "  <tbody>\n",
              "    <tr>\n",
              "      <th>0</th>\n",
              "      <td>The foresight saga, redux</td>\n",
              "      <td>2012</td>\n",
              "      <td>2</td>\n",
              "    </tr>\n",
              "    <tr>\n",
              "      <th>1</th>\n",
              "      <td>Security by obscurity</td>\n",
              "      <td>2003</td>\n",
              "      <td>2</td>\n",
              "    </tr>\n",
              "    <tr>\n",
              "      <th>2</th>\n",
              "      <td>Risks of automation: a cautionary total-system perspective of our cyberfuture</td>\n",
              "      <td>2016</td>\n",
              "      <td>1</td>\n",
              "    </tr>\n",
              "    <tr>\n",
              "      <th>3</th>\n",
              "      <td>Crypto policy perspectives</td>\n",
              "      <td>1994</td>\n",
              "      <td>1</td>\n",
              "    </tr>\n",
              "    <tr>\n",
              "      <th>4</th>\n",
              "      <td>Risks of National Identity Cards</td>\n",
              "      <td>2001</td>\n",
              "      <td>1</td>\n",
              "    </tr>\n",
              "    <tr>\n",
              "      <th>5</th>\n",
              "      <td>Computers, ethics, and values</td>\n",
              "      <td>1991</td>\n",
              "      <td>1</td>\n",
              "    </tr>\n",
              "    <tr>\n",
              "      <th>6</th>\n",
              "      <td>Are dependable systems feasible</td>\n",
              "      <td>1993</td>\n",
              "      <td>1</td>\n",
              "    </tr>\n",
              "    <tr>\n",
              "      <th>7</th>\n",
              "      <td>Information system security redux</td>\n",
              "      <td>2003</td>\n",
              "      <td>1</td>\n",
              "    </tr>\n",
              "    <tr>\n",
              "      <th>8</th>\n",
              "      <td>The foresight saga</td>\n",
              "      <td>2006</td>\n",
              "      <td>1</td>\n",
              "    </tr>\n",
              "    <tr>\n",
              "      <th>9</th>\n",
              "      <td>Robust open-source software</td>\n",
              "      <td>1999</td>\n",
              "      <td>1</td>\n",
              "    </tr>\n",
              "    <tr>\n",
              "      <th>10</th>\n",
              "      <td>Friendly fire</td>\n",
              "      <td>1994</td>\n",
              "      <td>0</td>\n",
              "    </tr>\n",
              "    <tr>\n",
              "      <th>11</th>\n",
              "      <td>Animal crackers</td>\n",
              "      <td>1993</td>\n",
              "      <td>0</td>\n",
              "    </tr>\n",
              "    <tr>\n",
              "      <th>12</th>\n",
              "      <td>Alternative passwords</td>\n",
              "      <td>1994</td>\n",
              "      <td>0</td>\n",
              "    </tr>\n",
              "    <tr>\n",
              "      <th>13</th>\n",
              "      <td>Computers: boon or bane?</td>\n",
              "      <td>2001</td>\n",
              "      <td>0</td>\n",
              "    </tr>\n",
              "    <tr>\n",
              "      <th>14</th>\n",
              "      <td>Optimistic optimization</td>\n",
              "      <td>2004</td>\n",
              "      <td>0</td>\n",
              "    </tr>\n",
              "    <tr>\n",
              "      <th>15</th>\n",
              "      <td>Internet gambling</td>\n",
              "      <td>1998</td>\n",
              "      <td>0</td>\n",
              "    </tr>\n",
              "    <tr>\n",
              "      <th>16</th>\n",
              "      <td>The risks of self-auditing systems</td>\n",
              "      <td>2016</td>\n",
              "      <td>0</td>\n",
              "    </tr>\n",
              "    <tr>\n",
              "      <th>17</th>\n",
              "      <td>Anticipating disasters</td>\n",
              "      <td>2005</td>\n",
              "      <td>0</td>\n",
              "    </tr>\n",
              "    <tr>\n",
              "      <th>18</th>\n",
              "      <td>Risks of neglecting infrastructure</td>\n",
              "      <td>2008</td>\n",
              "      <td>0</td>\n",
              "    </tr>\n",
              "    <tr>\n",
              "      <th>19</th>\n",
              "      <td>Responsibilities of technologists</td>\n",
              "      <td>2005</td>\n",
              "      <td>0</td>\n",
              "    </tr>\n",
              "  </tbody>\n",
              "</table>\n",
              "</div>"
            ],
            "text/plain": [
              "                                                                          article  ...  citations\n",
              "0                                                       The foresight saga, redux  ...          2\n",
              "1                                                           Security by obscurity  ...          2\n",
              "2   Risks of automation: a cautionary total-system perspective of our cyberfuture  ...          1\n",
              "3                                                      Crypto policy perspectives  ...          1\n",
              "4                                                Risks of National Identity Cards  ...          1\n",
              "5                                                   Computers, ethics, and values  ...          1\n",
              "6                                                 Are dependable systems feasible  ...          1\n",
              "7                                               Information system security redux  ...          1\n",
              "8                                                              The foresight saga  ...          1\n",
              "9                                                     Robust open-source software  ...          1\n",
              "10                                                                  Friendly fire  ...          0\n",
              "11                                                                Animal crackers  ...          0\n",
              "12                                                          Alternative passwords  ...          0\n",
              "13                                                       Computers: boon or bane?  ...          0\n",
              "14                                                        Optimistic optimization  ...          0\n",
              "15                                                              Internet gambling  ...          0\n",
              "16                                             The risks of self-auditing systems  ...          0\n",
              "17                                                         Anticipating disasters  ...          0\n",
              "18                                             Risks of neglecting infrastructure  ...          0\n",
              "19                                              Responsibilities of technologists  ...          0\n",
              "\n",
              "[20 rows x 3 columns]"
            ]
          },
          "metadata": {
            "tags": []
          },
          "execution_count": 7
        }
      ]
    },
    {
      "cell_type": "markdown",
      "metadata": {
        "pycharm": {},
        "id": "rXoe534ohn5E",
        "colab_type": "text"
      },
      "source": [
        "Find the author's collaborators:"
      ]
    },
    {
      "cell_type": "code",
      "metadata": {
        "pycharm": {},
        "id": "RjNf2wUxhn5F",
        "colab_type": "code",
        "colab": {
          "base_uri": "https://localhost:8080/",
          "height": 359
        },
        "outputId": "a8fa489f-0eb5-4e3f-ac57-c930ba5cf623"
      },
      "source": [
        "collaborations_query = \"\"\"\n",
        "MATCH (:Author {name: $authorName})<-[:AUTHOR]-(article)-[:AUTHOR]->(coauthor)\n",
        "RETURN coauthor.name AS coauthor, count(*) AS collaborations\n",
        "ORDER BY collaborations DESC\n",
        "LIMIT 10\n",
        "\"\"\"\n",
        "\n",
        "graph.run(collaborations_query,  {\"authorName\": author_name}).to_data_frame()"
      ],
      "execution_count": 8,
      "outputs": [
        {
          "output_type": "execute_result",
          "data": {
            "text/html": [
              "<div>\n",
              "<style scoped>\n",
              "    .dataframe tbody tr th:only-of-type {\n",
              "        vertical-align: middle;\n",
              "    }\n",
              "\n",
              "    .dataframe tbody tr th {\n",
              "        vertical-align: top;\n",
              "    }\n",
              "\n",
              "    .dataframe thead th {\n",
              "        text-align: right;\n",
              "    }\n",
              "</style>\n",
              "<table border=\"1\" class=\"dataframe\">\n",
              "  <thead>\n",
              "    <tr style=\"text-align: right;\">\n",
              "      <th></th>\n",
              "      <th>coauthor</th>\n",
              "      <th>collaborations</th>\n",
              "    </tr>\n",
              "  </thead>\n",
              "  <tbody>\n",
              "    <tr>\n",
              "      <th>0</th>\n",
              "      <td>Lauren Weinstein</td>\n",
              "      <td>3</td>\n",
              "    </tr>\n",
              "    <tr>\n",
              "      <th>1</th>\n",
              "      <td>Whitfield Diffie</td>\n",
              "      <td>3</td>\n",
              "    </tr>\n",
              "    <tr>\n",
              "      <th>2</th>\n",
              "      <td>Susan Landau</td>\n",
              "      <td>3</td>\n",
              "    </tr>\n",
              "    <tr>\n",
              "      <th>3</th>\n",
              "      <td>Steven Michael Bellovin</td>\n",
              "      <td>2</td>\n",
              "    </tr>\n",
              "    <tr>\n",
              "      <th>4</th>\n",
              "      <td>Matt Blaze</td>\n",
              "      <td>2</td>\n",
              "    </tr>\n",
              "    <tr>\n",
              "      <th>5</th>\n",
              "      <td>Rebecca T. Mercuri</td>\n",
              "      <td>2</td>\n",
              "    </tr>\n",
              "    <tr>\n",
              "      <th>6</th>\n",
              "      <td>Alfred Z. Spector</td>\n",
              "      <td>1</td>\n",
              "    </tr>\n",
              "    <tr>\n",
              "      <th>7</th>\n",
              "      <td>Seymour E. Goodman</td>\n",
              "      <td>1</td>\n",
              "    </tr>\n",
              "    <tr>\n",
              "      <th>8</th>\n",
              "      <td>David Lorge Parnas</td>\n",
              "      <td>1</td>\n",
              "    </tr>\n",
              "    <tr>\n",
              "      <th>9</th>\n",
              "      <td>Douglas Miller</td>\n",
              "      <td>1</td>\n",
              "    </tr>\n",
              "  </tbody>\n",
              "</table>\n",
              "</div>"
            ],
            "text/plain": [
              "                  coauthor  collaborations\n",
              "0         Lauren Weinstein               3\n",
              "1         Whitfield Diffie               3\n",
              "2             Susan Landau               3\n",
              "3  Steven Michael Bellovin               2\n",
              "4               Matt Blaze               2\n",
              "5       Rebecca T. Mercuri               2\n",
              "6        Alfred Z. Spector               1\n",
              "7       Seymour E. Goodman               1\n",
              "8       David Lorge Parnas               1\n",
              "9           Douglas Miller               1"
            ]
          },
          "metadata": {
            "tags": []
          },
          "execution_count": 8
        }
      ]
    },
    {
      "cell_type": "markdown",
      "metadata": {
        "pycharm": {},
        "id": "gpRFdx3Whn5I",
        "colab_type": "text"
      },
      "source": [
        "How would you suggest some future collaborators for this author? One way is by looking at the collaborators of their collaborators!"
      ]
    },
    {
      "cell_type": "code",
      "metadata": {
        "pycharm": {},
        "id": "wQ-KleAHhn5I",
        "colab_type": "code",
        "colab": {
          "base_uri": "https://localhost:8080/",
          "height": 359
        },
        "outputId": "096113ac-cd50-4e21-f684-4ba213ea1aa8"
      },
      "source": [
        "collaborations_query = \"\"\"\n",
        "MATCH (author:Author {name: $authorName})<-[:AUTHOR]-(article)-[:AUTHOR]->(coauthor),\n",
        "      (coauthor)<-[:AUTHOR]-()-[:AUTHOR]->(coc)\n",
        "WHERE not((coc)<-[:AUTHOR]-()-[:AUTHOR]->(author)) AND coc <> author      \n",
        "RETURN coc.name AS coauthor, count(*) AS collaborations\n",
        "ORDER BY collaborations DESC\n",
        "LIMIT 10\n",
        "\"\"\"\n",
        "\n",
        "graph.run(collaborations_query,  {\"authorName\": author_name}).to_data_frame()"
      ],
      "execution_count": 9,
      "outputs": [
        {
          "output_type": "execute_result",
          "data": {
            "text/html": [
              "<div>\n",
              "<style scoped>\n",
              "    .dataframe tbody tr th:only-of-type {\n",
              "        vertical-align: middle;\n",
              "    }\n",
              "\n",
              "    .dataframe tbody tr th {\n",
              "        vertical-align: top;\n",
              "    }\n",
              "\n",
              "    .dataframe thead th {\n",
              "        text-align: right;\n",
              "    }\n",
              "</style>\n",
              "<table border=\"1\" class=\"dataframe\">\n",
              "  <thead>\n",
              "    <tr style=\"text-align: right;\">\n",
              "      <th></th>\n",
              "      <th>coauthor</th>\n",
              "      <th>collaborations</th>\n",
              "    </tr>\n",
              "  </thead>\n",
              "  <tbody>\n",
              "    <tr>\n",
              "      <th>0</th>\n",
              "      <td>John Ioannidis</td>\n",
              "      <td>10</td>\n",
              "    </tr>\n",
              "    <tr>\n",
              "      <th>1</th>\n",
              "      <td>Scott Bradner</td>\n",
              "      <td>9</td>\n",
              "    </tr>\n",
              "    <tr>\n",
              "      <th>2</th>\n",
              "      <td>Angelos D. Keromytis</td>\n",
              "      <td>8</td>\n",
              "    </tr>\n",
              "    <tr>\n",
              "      <th>3</th>\n",
              "      <td>John Kelsey</td>\n",
              "      <td>7</td>\n",
              "    </tr>\n",
              "    <tr>\n",
              "      <th>4</th>\n",
              "      <td>Virgil D. Gligor</td>\n",
              "      <td>5</td>\n",
              "    </tr>\n",
              "    <tr>\n",
              "      <th>5</th>\n",
              "      <td>David Wagner</td>\n",
              "      <td>4</td>\n",
              "    </tr>\n",
              "    <tr>\n",
              "      <th>6</th>\n",
              "      <td>Peter Wolcott</td>\n",
              "      <td>4</td>\n",
              "    </tr>\n",
              "    <tr>\n",
              "      <th>7</th>\n",
              "      <td>Ran Canetti</td>\n",
              "      <td>4</td>\n",
              "    </tr>\n",
              "    <tr>\n",
              "      <th>8</th>\n",
              "      <td>Gerald Jay Sussman</td>\n",
              "      <td>4</td>\n",
              "    </tr>\n",
              "    <tr>\n",
              "      <th>9</th>\n",
              "      <td>David K. Gifford</td>\n",
              "      <td>4</td>\n",
              "    </tr>\n",
              "  </tbody>\n",
              "</table>\n",
              "</div>"
            ],
            "text/plain": [
              "               coauthor  collaborations\n",
              "0        John Ioannidis              10\n",
              "1         Scott Bradner               9\n",
              "2  Angelos D. Keromytis               8\n",
              "3           John Kelsey               7\n",
              "4      Virgil D. Gligor               5\n",
              "5          David Wagner               4\n",
              "6         Peter Wolcott               4\n",
              "7           Ran Canetti               4\n",
              "8    Gerald Jay Sussman               4\n",
              "9      David K. Gifford               4"
            ]
          },
          "metadata": {
            "tags": []
          },
          "execution_count": 9
        }
      ]
    },
    {
      "cell_type": "markdown",
      "metadata": {
        "pycharm": {},
        "id": "a44fDyolhn5L",
        "colab_type": "text"
      },
      "source": [
        "Each of these people have collaborated with someone that Peter has worked with before, so they might be able to do an introduction."
      ]
    },
    {
      "cell_type": "markdown",
      "metadata": {
        "pycharm": {},
        "id": "YOKIcMzphn5M",
        "colab_type": "text"
      },
      "source": [
        "## Exercise\n",
        "\n",
        "1. Can you find the top 20 suggested collaborators for 'Brian Fitzgerald' instead of 'Peter G. Neumann'?\n",
        "2. How many of these potential collaborators have collaborated with Brian's collaborators more than 3 times?\n",
        "\n",
        "Keep the results of this exercise handy as they may be useful for the quiz at the end of this module."
      ]
    },
    {
      "cell_type": "code",
      "metadata": {
        "id": "6lHf2lh8iP1U",
        "colab_type": "code",
        "colab": {
          "base_uri": "https://localhost:8080/",
          "height": 669
        },
        "outputId": "a42f77e4-55d0-44d9-8224-2ab9385404f9"
      },
      "source": [
        "query = \"\"\"\n",
        "MATCH (author:Author {name: $authorName})<-[:AUTHOR]-(article)-[:AUTHOR]->(coauthor),\n",
        "      (coauthor)<-[:AUTHOR]-()-[:AUTHOR]->(coc)\n",
        "WHERE not((coc)<-[:AUTHOR]-()-[:AUTHOR]->(author)) AND coc <> author      \n",
        "RETURN coc.name AS coauthor, count(*) AS collaborations\n",
        "ORDER BY collaborations DESC\n",
        "LIMIT 20\n",
        "\"\"\"\n",
        "\n",
        "params = {\"authorName\": \"Brian Fitzgerald\", \"searchTerm\": \"open source\"}\n",
        "graph.run(query, params).to_data_frame()"
      ],
      "execution_count": 10,
      "outputs": [
        {
          "output_type": "execute_result",
          "data": {
            "text/html": [
              "<div>\n",
              "<style scoped>\n",
              "    .dataframe tbody tr th:only-of-type {\n",
              "        vertical-align: middle;\n",
              "    }\n",
              "\n",
              "    .dataframe tbody tr th {\n",
              "        vertical-align: top;\n",
              "    }\n",
              "\n",
              "    .dataframe thead th {\n",
              "        text-align: right;\n",
              "    }\n",
              "</style>\n",
              "<table border=\"1\" class=\"dataframe\">\n",
              "  <thead>\n",
              "    <tr style=\"text-align: right;\">\n",
              "      <th></th>\n",
              "      <th>coauthor</th>\n",
              "      <th>collaborations</th>\n",
              "    </tr>\n",
              "  </thead>\n",
              "  <tbody>\n",
              "    <tr>\n",
              "      <th>0</th>\n",
              "      <td>Holger Giese</td>\n",
              "      <td>5</td>\n",
              "    </tr>\n",
              "    <tr>\n",
              "      <th>1</th>\n",
              "      <td>Robert C. Seacord</td>\n",
              "      <td>4</td>\n",
              "    </tr>\n",
              "    <tr>\n",
              "      <th>2</th>\n",
              "      <td>Chris Jensen</td>\n",
              "      <td>4</td>\n",
              "    </tr>\n",
              "    <tr>\n",
              "      <th>3</th>\n",
              "      <td>Grace A. Lewis</td>\n",
              "      <td>4</td>\n",
              "    </tr>\n",
              "    <tr>\n",
              "      <th>4</th>\n",
              "      <td>Gabriel A. Moreno</td>\n",
              "      <td>4</td>\n",
              "    </tr>\n",
              "    <tr>\n",
              "      <th>5</th>\n",
              "      <td>Judith A. Stafford</td>\n",
              "      <td>4</td>\n",
              "    </tr>\n",
              "    <tr>\n",
              "      <th>6</th>\n",
              "      <td>Kurt C. Wallnau</td>\n",
              "      <td>4</td>\n",
              "    </tr>\n",
              "    <tr>\n",
              "      <th>7</th>\n",
              "      <td>Ivar Jacobson</td>\n",
              "      <td>3</td>\n",
              "    </tr>\n",
              "    <tr>\n",
              "      <th>8</th>\n",
              "      <td>Klaus Pohl</td>\n",
              "      <td>3</td>\n",
              "    </tr>\n",
              "    <tr>\n",
              "      <th>9</th>\n",
              "      <td>Nicolás López</td>\n",
              "      <td>3</td>\n",
              "    </tr>\n",
              "    <tr>\n",
              "      <th>10</th>\n",
              "      <td>Gerald Bortis</td>\n",
              "      <td>3</td>\n",
              "    </tr>\n",
              "    <tr>\n",
              "      <th>11</th>\n",
              "      <td>Thomas D. LaToza</td>\n",
              "      <td>3</td>\n",
              "    </tr>\n",
              "    <tr>\n",
              "      <th>12</th>\n",
              "      <td>Thuan Q. Pham</td>\n",
              "      <td>2</td>\n",
              "    </tr>\n",
              "    <tr>\n",
              "      <th>13</th>\n",
              "      <td>Neil Smith</td>\n",
              "      <td>2</td>\n",
              "    </tr>\n",
              "    <tr>\n",
              "      <th>14</th>\n",
              "      <td>Juan Fernandez-Ramil</td>\n",
              "      <td>2</td>\n",
              "    </tr>\n",
              "    <tr>\n",
              "      <th>15</th>\n",
              "      <td>Ben Shreeve</td>\n",
              "      <td>2</td>\n",
              "    </tr>\n",
              "    <tr>\n",
              "      <th>16</th>\n",
              "      <td>Stefan Henkler</td>\n",
              "      <td>2</td>\n",
              "    </tr>\n",
              "    <tr>\n",
              "      <th>17</th>\n",
              "      <td>Salah Bendifallah</td>\n",
              "      <td>2</td>\n",
              "    </tr>\n",
              "    <tr>\n",
              "      <th>18</th>\n",
              "      <td>Peiwei Mi</td>\n",
              "      <td>2</td>\n",
              "    </tr>\n",
              "    <tr>\n",
              "      <th>19</th>\n",
              "      <td>Kendra M. L. Cooper</td>\n",
              "      <td>2</td>\n",
              "    </tr>\n",
              "  </tbody>\n",
              "</table>\n",
              "</div>"
            ],
            "text/plain": [
              "                coauthor  collaborations\n",
              "0           Holger Giese               5\n",
              "1      Robert C. Seacord               4\n",
              "2           Chris Jensen               4\n",
              "3         Grace A. Lewis               4\n",
              "4      Gabriel A. Moreno               4\n",
              "5     Judith A. Stafford               4\n",
              "6        Kurt C. Wallnau               4\n",
              "7          Ivar Jacobson               3\n",
              "8             Klaus Pohl               3\n",
              "9          Nicolás López               3\n",
              "10         Gerald Bortis               3\n",
              "11      Thomas D. LaToza               3\n",
              "12         Thuan Q. Pham               2\n",
              "13            Neil Smith               2\n",
              "14  Juan Fernandez-Ramil               2\n",
              "15           Ben Shreeve               2\n",
              "16        Stefan Henkler               2\n",
              "17     Salah Bendifallah               2\n",
              "18             Peiwei Mi               2\n",
              "19   Kendra M. L. Cooper               2"
            ]
          },
          "metadata": {
            "tags": []
          },
          "execution_count": 10
        }
      ]
    },
    {
      "cell_type": "code",
      "metadata": {
        "id": "Z5FjfmsoiSMK",
        "colab_type": "code",
        "colab": {
          "base_uri": "https://localhost:8080/",
          "height": 80
        },
        "outputId": "fab0b92f-41a5-4a39-e8d8-53b0f569a910"
      },
      "source": [
        "query = \"\"\"\n",
        "MATCH (author:Author {name: $authorName})<-[:AUTHOR]-(article)-[:AUTHOR]->(coauthor),\n",
        "      (coauthor)<-[:AUTHOR]-()-[:AUTHOR]->(coc)\n",
        "WHERE not((coc)<-[:AUTHOR]-()-[:AUTHOR]->(author)) AND coc <> author      \n",
        "WITH coc, count(*) AS collaborations\n",
        "WHERE collaborations > 3\n",
        "RETURN count(*)\n",
        "\"\"\"\n",
        "graph.run(query, params).to_data_frame()"
      ],
      "execution_count": 11,
      "outputs": [
        {
          "output_type": "execute_result",
          "data": {
            "text/html": [
              "<div>\n",
              "<style scoped>\n",
              "    .dataframe tbody tr th:only-of-type {\n",
              "        vertical-align: middle;\n",
              "    }\n",
              "\n",
              "    .dataframe tbody tr th {\n",
              "        vertical-align: top;\n",
              "    }\n",
              "\n",
              "    .dataframe thead th {\n",
              "        text-align: right;\n",
              "    }\n",
              "</style>\n",
              "<table border=\"1\" class=\"dataframe\">\n",
              "  <thead>\n",
              "    <tr style=\"text-align: right;\">\n",
              "      <th></th>\n",
              "      <th>count(*)</th>\n",
              "    </tr>\n",
              "  </thead>\n",
              "  <tbody>\n",
              "    <tr>\n",
              "      <th>0</th>\n",
              "      <td>7</td>\n",
              "    </tr>\n",
              "  </tbody>\n",
              "</table>\n",
              "</div>"
            ],
            "text/plain": [
              "   count(*)\n",
              "0         7"
            ]
          },
          "metadata": {
            "tags": []
          },
          "execution_count": 11
        }
      ]
    }
  ]
}