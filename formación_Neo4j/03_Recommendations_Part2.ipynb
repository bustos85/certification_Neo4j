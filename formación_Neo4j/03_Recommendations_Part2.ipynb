{
  "nbformat": 4,
  "nbformat_minor": 0,
  "metadata": {
    "kernelspec": {
      "display_name": "Python 3",
      "language": "python",
      "name": "python3"
    },
    "language_info": {
      "codemirror_mode": {
        "name": "ipython",
        "version": 3
      },
      "file_extension": ".py",
      "mimetype": "text/x-python",
      "name": "python",
      "nbconvert_exporter": "python",
      "pygments_lexer": "ipython3",
      "version": "3.6.7"
    },
    "colab": {
      "name": "03_Recommendations_Part2.ipynb",
      "provenance": []
    }
  },
  "cells": [
    {
      "cell_type": "markdown",
      "metadata": {
        "pycharm": {},
        "id": "jtoOA0chkTLq",
        "colab_type": "text"
      },
      "source": [
        "# Recommendations: Part 2\n",
        "\n",
        "In the 2nd part of our recommendations exercise, you will use the PageRank algorithm to make article recommendations to an author. \n",
        "Execute the code to import the libraries (remember to unset Reset all runtimes before running):"
      ]
    },
    {
      "cell_type": "code",
      "metadata": {
        "id": "jIJ2RafIkVHe",
        "colab_type": "code",
        "colab": {
          "base_uri": "https://localhost:8080/",
          "height": 547
        },
        "outputId": "ea59ddb5-bb90-48b4-a45c-49b572291d9a"
      },
      "source": [
        "!pip install py2neo==4.1.3 pandas matplotlib sklearn"
      ],
      "execution_count": 2,
      "outputs": [
        {
          "output_type": "stream",
          "text": [
            "Requirement already satisfied: py2neo==4.1.3 in /usr/local/lib/python3.6/dist-packages (4.1.3)\n",
            "Requirement already satisfied: pandas in /usr/local/lib/python3.6/dist-packages (1.0.3)\n",
            "Requirement already satisfied: matplotlib in /usr/local/lib/python3.6/dist-packages (3.2.1)\n",
            "Requirement already satisfied: sklearn in /usr/local/lib/python3.6/dist-packages (0.0)\n",
            "Requirement already satisfied: neotime==1.0.0 in /usr/local/lib/python3.6/dist-packages (from py2neo==4.1.3) (1.0.0)\n",
            "Requirement already satisfied: urllib3[secure]<1.23,>=1.21.1 in /usr/local/lib/python3.6/dist-packages (from py2neo==4.1.3) (1.22)\n",
            "Requirement already satisfied: colorama in /usr/local/lib/python3.6/dist-packages (from py2neo==4.1.3) (0.4.3)\n",
            "Requirement already satisfied: click>=2.0 in /usr/local/lib/python3.6/dist-packages (from py2neo==4.1.3) (7.1.1)\n",
            "Requirement already satisfied: neo4j-driver<1.7,>=1.6.2 in /usr/local/lib/python3.6/dist-packages (from py2neo==4.1.3) (1.6.3)\n",
            "Requirement already satisfied: pygments>=2.0 in /usr/local/lib/python3.6/dist-packages (from py2neo==4.1.3) (2.1.3)\n",
            "Requirement already satisfied: pytest in /usr/local/lib/python3.6/dist-packages (from py2neo==4.1.3) (3.6.4)\n",
            "Requirement already satisfied: prompt-toolkit==1.0.15 in /usr/local/lib/python3.6/dist-packages (from py2neo==4.1.3) (1.0.15)\n",
            "Requirement already satisfied: pytz>=2017.2 in /usr/local/lib/python3.6/dist-packages (from pandas) (2018.9)\n",
            "Requirement already satisfied: python-dateutil>=2.6.1 in /usr/local/lib/python3.6/dist-packages (from pandas) (2.8.1)\n",
            "Requirement already satisfied: numpy>=1.13.3 in /usr/local/lib/python3.6/dist-packages (from pandas) (1.18.3)\n",
            "Requirement already satisfied: pyparsing!=2.0.4,!=2.1.2,!=2.1.6,>=2.0.1 in /usr/local/lib/python3.6/dist-packages (from matplotlib) (2.4.7)\n",
            "Requirement already satisfied: kiwisolver>=1.0.1 in /usr/local/lib/python3.6/dist-packages (from matplotlib) (1.2.0)\n",
            "Requirement already satisfied: cycler>=0.10 in /usr/local/lib/python3.6/dist-packages (from matplotlib) (0.10.0)\n",
            "Requirement already satisfied: scikit-learn in /usr/local/lib/python3.6/dist-packages (from sklearn) (0.22.2.post1)\n",
            "Requirement already satisfied: six in /usr/local/lib/python3.6/dist-packages (from neotime==1.0.0->py2neo==4.1.3) (1.12.0)\n",
            "Requirement already satisfied: certifi; extra == \"secure\" in /usr/local/lib/python3.6/dist-packages (from urllib3[secure]<1.23,>=1.21.1->py2neo==4.1.3) (2020.4.5.1)\n",
            "Requirement already satisfied: atomicwrites>=1.0 in /usr/local/lib/python3.6/dist-packages (from pytest->py2neo==4.1.3) (1.3.0)\n",
            "Requirement already satisfied: pluggy<0.8,>=0.5 in /usr/local/lib/python3.6/dist-packages (from pytest->py2neo==4.1.3) (0.7.1)\n",
            "Requirement already satisfied: py>=1.5.0 in /usr/local/lib/python3.6/dist-packages (from pytest->py2neo==4.1.3) (1.8.1)\n",
            "Requirement already satisfied: setuptools in /usr/local/lib/python3.6/dist-packages (from pytest->py2neo==4.1.3) (46.1.3)\n",
            "Requirement already satisfied: attrs>=17.4.0 in /usr/local/lib/python3.6/dist-packages (from pytest->py2neo==4.1.3) (19.3.0)\n",
            "Requirement already satisfied: more-itertools>=4.0.0 in /usr/local/lib/python3.6/dist-packages (from pytest->py2neo==4.1.3) (8.2.0)\n",
            "Requirement already satisfied: wcwidth in /usr/local/lib/python3.6/dist-packages (from prompt-toolkit==1.0.15->py2neo==4.1.3) (0.1.9)\n",
            "Requirement already satisfied: joblib>=0.11 in /usr/local/lib/python3.6/dist-packages (from scikit-learn->sklearn) (0.14.1)\n",
            "Requirement already satisfied: scipy>=0.17.0 in /usr/local/lib/python3.6/dist-packages (from scikit-learn->sklearn) (1.4.1)\n"
          ],
          "name": "stdout"
        }
      ]
    },
    {
      "cell_type": "code",
      "metadata": {
        "pycharm": {
          "metadata": false,
          "name": "#%%\n"
        },
        "id": "veOou9DgkTLr",
        "colab_type": "code",
        "colab": {}
      },
      "source": [
        "from py2neo import Graph\n",
        "import pandas as pd\n",
        "\n",
        "import matplotlib \n",
        "import matplotlib.pyplot as plt\n",
        "\n",
        "plt.style.use('fivethirtyeight')\n",
        "pd.set_option('display.float_format', lambda x: '%.3f' % x)\n",
        "pd.set_option('display.max_colwidth', 100)"
      ],
      "execution_count": 0,
      "outputs": []
    },
    {
      "cell_type": "markdown",
      "metadata": {
        "pycharm": {
          "metadata": false
        },
        "id": "D5TBuGJlkTLu",
        "colab_type": "text"
      },
      "source": [
        "Next, create a connection to your Neo4j Sandbox, just as you did previously when you set up your environment. \n",
        "\n",
        "<div align=\"left\">\n",
        "    <img src=\"https://github.com/neo4j-contrib/training-v2/blob/master/Courses/DataScience/notebooks/images/sandbox-citations.png?raw=1\" alt=\"Citation Sandbox\"/>\n",
        "</div>\n",
        "\n",
        "Update the cell below to use the IP Address, Bolt Port, and Password, as you did previously."
      ]
    },
    {
      "cell_type": "code",
      "metadata": {
        "pycharm": {
          "metadata": false,
          "name": "#%%\n"
        },
        "id": "ViKLWoO2kTLv",
        "colab_type": "code",
        "colab": {}
      },
      "source": [
        "# Change the line of code below to use the IP Address, Bolt Port, and Password of your Sandbox.\n",
        "# graph = Graph(\"bolt://<IP Address>:<Bolt Port>\", auth=(\"neo4j\", \"<Password>\")) \n",
        " \n",
        "graph = Graph(\"bolt://18.207.236.67:32919\", auth=(\"neo4j\", \"age-hangars-starboard\"))"
      ],
      "execution_count": 0,
      "outputs": []
    },
    {
      "cell_type": "markdown",
      "metadata": {
        "pycharm": {
          "metadata": false
        },
        "id": "dLPf3A18kTLy",
        "colab_type": "text"
      },
      "source": [
        "## PageRank\n",
        "\n",
        "PageRank is an algorithm that measures the transitive influence or connectivity of nodes. It can be computed by either iteratively distributing one node’s rank (originally based on degree) over its neighbors or by randomly traversing the graph and counting the frequency of hitting each node during these walks.\n",
        "\n",
        "Run this PageRank code over the whole graph to find out the most influential article in terms of citations:"
      ]
    },
    {
      "cell_type": "code",
      "metadata": {
        "pycharm": {},
        "id": "KfAXQFk3kTLy",
        "colab_type": "code",
        "colab": {
          "base_uri": "https://localhost:8080/",
          "height": 359
        },
        "outputId": "ed0c3fbb-4451-4386-f5c1-c572f3c43773"
      },
      "source": [
        "query = \"\"\" MATCH (a:Article) RETURN a.title as article, a.pagerank as score ORDER BY score DESC LIMIT 10 \"\"\" \n",
        "graph.run(query).to_data_frame()"
      ],
      "execution_count": 7,
      "outputs": [
        {
          "output_type": "execute_result",
          "data": {
            "text/html": [
              "<div>\n",
              "<style scoped>\n",
              "    .dataframe tbody tr th:only-of-type {\n",
              "        vertical-align: middle;\n",
              "    }\n",
              "\n",
              "    .dataframe tbody tr th {\n",
              "        vertical-align: top;\n",
              "    }\n",
              "\n",
              "    .dataframe thead th {\n",
              "        text-align: right;\n",
              "    }\n",
              "</style>\n",
              "<table border=\"1\" class=\"dataframe\">\n",
              "  <thead>\n",
              "    <tr style=\"text-align: right;\">\n",
              "      <th></th>\n",
              "      <th>article</th>\n",
              "      <th>score</th>\n",
              "    </tr>\n",
              "  </thead>\n",
              "  <tbody>\n",
              "    <tr>\n",
              "      <th>0</th>\n",
              "      <td>A method for obtaining digital signatures and public-key cryptosystems</td>\n",
              "      <td>93.943</td>\n",
              "    </tr>\n",
              "    <tr>\n",
              "      <th>1</th>\n",
              "      <td>Secure communications over insecure channels</td>\n",
              "      <td>79.869</td>\n",
              "    </tr>\n",
              "    <tr>\n",
              "      <th>2</th>\n",
              "      <td>Rough sets</td>\n",
              "      <td>25.609</td>\n",
              "    </tr>\n",
              "    <tr>\n",
              "      <th>3</th>\n",
              "      <td>An axiomatic basis for computer programming</td>\n",
              "      <td>23.029</td>\n",
              "    </tr>\n",
              "    <tr>\n",
              "      <th>4</th>\n",
              "      <td>Pastry: Scalable, Decentralized Object Location, and Routing for Large-Scale Peer-to-Peer Systems</td>\n",
              "      <td>21.470</td>\n",
              "    </tr>\n",
              "    <tr>\n",
              "      <th>5</th>\n",
              "      <td>SCRIBE: The Design of a Large-Scale Event Notification Infrastructure</td>\n",
              "      <td>19.486</td>\n",
              "    </tr>\n",
              "    <tr>\n",
              "      <th>6</th>\n",
              "      <td>A field study of the software design process for large systems</td>\n",
              "      <td>19.028</td>\n",
              "    </tr>\n",
              "    <tr>\n",
              "      <th>7</th>\n",
              "      <td>Productivity factors and programming environments</td>\n",
              "      <td>18.499</td>\n",
              "    </tr>\n",
              "    <tr>\n",
              "      <th>8</th>\n",
              "      <td>Analyzing medium-scale software development</td>\n",
              "      <td>16.453</td>\n",
              "    </tr>\n",
              "    <tr>\n",
              "      <th>9</th>\n",
              "      <td>A Calculus of Communicating Systems</td>\n",
              "      <td>15.431</td>\n",
              "    </tr>\n",
              "  </tbody>\n",
              "</table>\n",
              "</div>"
            ],
            "text/plain": [
              "                                                                                             article  score\n",
              "0                             A method for obtaining digital signatures and public-key cryptosystems 93.943\n",
              "1                                                       Secure communications over insecure channels 79.869\n",
              "2                                                                                         Rough sets 25.609\n",
              "3                                                        An axiomatic basis for computer programming 23.029\n",
              "4  Pastry: Scalable, Decentralized Object Location, and Routing for Large-Scale Peer-to-Peer Systems 21.470\n",
              "5                              SCRIBE: The Design of a Large-Scale Event Notification Infrastructure 19.486\n",
              "6                                     A field study of the software design process for large systems 19.028\n",
              "7                                                  Productivity factors and programming environments 18.499\n",
              "8                                                        Analyzing medium-scale software development 16.453\n",
              "9                                                                A Calculus of Communicating Systems 15.431"
            ]
          },
          "metadata": {
            "tags": []
          },
          "execution_count": 7
        }
      ]
    },
    {
      "cell_type": "markdown",
      "metadata": {
        "pycharm": {},
        "id": "RBje5F6OkTL0",
        "colab_type": "text"
      },
      "source": [
        "This query stores a 'pagerank' property on each node. Execute this code to view the most influential articles:"
      ]
    },
    {
      "cell_type": "markdown",
      "metadata": {
        "pycharm": {},
        "id": "_MV3lda-kTL1",
        "colab_type": "text"
      },
      "source": [
        "query = \"\"\"\n",
        "MATCH (a:Article)\n",
        "RETURN a.title as article,\n",
        "       a.pagerank as score\n",
        "ORDER BY score DESC \n",
        "LIMIT 10\n",
        "\"\"\"\n",
        "graph.run(query).to_data_frame()"
      ]
    },
    {
      "cell_type": "markdown",
      "metadata": {
        "pycharm": {},
        "id": "MG5vrBSNkTL2",
        "colab_type": "text"
      },
      "source": [
        "## Personalized PageRank\n",
        "\n",
        "Personalized PageRank is a variant of PageRank that allows us to find influential nodes based on a set of source nodes.\n",
        "\n",
        "For example, rather than finding the overall most influential articles, we could instead, find the most influential articles with respect to a given author.\n",
        "Execute this code to use a personalized PageRank algorithm:"
      ]
    },
    {
      "cell_type": "code",
      "metadata": {
        "pycharm": {},
        "id": "BJZT1b-dkTL2",
        "colab_type": "code",
        "colab": {
          "base_uri": "https://localhost:8080/",
          "height": 359
        },
        "outputId": "e026ba25-c944-471c-c989-3b3294e0b9a2"
      },
      "source": [
        "query = \"\"\"\n",
        "MATCH (a:Author {name: $author})<-[:AUTHOR]-(article)-[:CITED]->(other)\n",
        "WITH collect(article) + collect(other) AS sourceNodes\n",
        "CALL algo.pageRank.stream('Article', 'CITED', {sourceNodes: sourceNodes})\n",
        "YIELD nodeId, score\n",
        "RETURN algo.getNodeById(nodeId).title AS article, score\n",
        "ORDER BY score DESC\n",
        "LIMIT 10\n",
        "\"\"\"\n",
        "\n",
        "author_name = \"Peter G. Neumann\"\n",
        "graph.run(query, {\"author\": author_name}).to_data_frame()"
      ],
      "execution_count": 8,
      "outputs": [
        {
          "output_type": "execute_result",
          "data": {
            "text/html": [
              "<div>\n",
              "<style scoped>\n",
              "    .dataframe tbody tr th:only-of-type {\n",
              "        vertical-align: middle;\n",
              "    }\n",
              "\n",
              "    .dataframe tbody tr th {\n",
              "        vertical-align: top;\n",
              "    }\n",
              "\n",
              "    .dataframe thead th {\n",
              "        text-align: right;\n",
              "    }\n",
              "</style>\n",
              "<table border=\"1\" class=\"dataframe\">\n",
              "  <thead>\n",
              "    <tr style=\"text-align: right;\">\n",
              "      <th></th>\n",
              "      <th>article</th>\n",
              "      <th>score</th>\n",
              "    </tr>\n",
              "  </thead>\n",
              "  <tbody>\n",
              "    <tr>\n",
              "      <th>0</th>\n",
              "      <td>A technique for software module specification with examples</td>\n",
              "      <td>0.359</td>\n",
              "    </tr>\n",
              "    <tr>\n",
              "      <th>1</th>\n",
              "      <td>A messy state of the union: taming the composite state machines of TLS</td>\n",
              "      <td>0.332</td>\n",
              "    </tr>\n",
              "    <tr>\n",
              "      <th>2</th>\n",
              "      <td>Crypto policy perspectives</td>\n",
              "      <td>0.278</td>\n",
              "    </tr>\n",
              "    <tr>\n",
              "      <th>3</th>\n",
              "      <td>Risks of automation: a cautionary total-system perspective of our cyberfuture</td>\n",
              "      <td>0.278</td>\n",
              "    </tr>\n",
              "    <tr>\n",
              "      <th>4</th>\n",
              "      <td>The foresight saga</td>\n",
              "      <td>0.278</td>\n",
              "    </tr>\n",
              "    <tr>\n",
              "      <th>5</th>\n",
              "      <td>Risks of e-voting</td>\n",
              "      <td>0.278</td>\n",
              "    </tr>\n",
              "    <tr>\n",
              "      <th>6</th>\n",
              "      <td>Public interest and the NII</td>\n",
              "      <td>0.278</td>\n",
              "    </tr>\n",
              "    <tr>\n",
              "      <th>7</th>\n",
              "      <td>Password security: a case history</td>\n",
              "      <td>0.278</td>\n",
              "    </tr>\n",
              "    <tr>\n",
              "      <th>8</th>\n",
              "      <td>The challenges of partially automated driving</td>\n",
              "      <td>0.268</td>\n",
              "    </tr>\n",
              "    <tr>\n",
              "      <th>9</th>\n",
              "      <td>Proof techniques for hierarchically structured programs</td>\n",
              "      <td>0.248</td>\n",
              "    </tr>\n",
              "  </tbody>\n",
              "</table>\n",
              "</div>"
            ],
            "text/plain": [
              "                                                                         article  score\n",
              "0                    A technique for software module specification with examples  0.359\n",
              "1         A messy state of the union: taming the composite state machines of TLS  0.332\n",
              "2                                                     Crypto policy perspectives  0.278\n",
              "3  Risks of automation: a cautionary total-system perspective of our cyberfuture  0.278\n",
              "4                                                             The foresight saga  0.278\n",
              "5                                                              Risks of e-voting  0.278\n",
              "6                                                    Public interest and the NII  0.278\n",
              "7                                              Password security: a case history  0.278\n",
              "8                                  The challenges of partially automated driving  0.268\n",
              "9                        Proof techniques for hierarchically structured programs  0.248"
            ]
          },
          "metadata": {
            "tags": []
          },
          "execution_count": 8
        }
      ]
    },
    {
      "cell_type": "markdown",
      "metadata": {
        "pycharm": {},
        "id": "b81PhhwRkTL5",
        "colab_type": "text"
      },
      "source": [
        "## Topic Sensitive Search\n",
        "\n",
        "You can also use Personalized PageRank to do 'Topic Specific PageRank'. \n",
        "\n",
        "When an author is searching for articles to read, they want that search to take themselves as authors into account. Two authors using the same search term would expect to see different results depending on their area of research.\n",
        "\n",
        "Create a full text search index on the 'title' and 'abstract' properties of all nodes that have the label 'Article' by executing this code:"
      ]
    },
    {
      "cell_type": "code",
      "metadata": {
        "pycharm": {},
        "id": "tBvkmBSKkTL5",
        "colab_type": "code",
        "colab": {
          "base_uri": "https://localhost:8080/",
          "height": 34
        },
        "outputId": "8415cf0d-047d-478f-9adc-f2fd694aa9ce"
      },
      "source": [
        "query = \"\"\"\n",
        "    CALL db.index.fulltext.createNodeIndex('articles', ['Article'], ['title', 'abstract'])\n",
        "\"\"\"\n",
        "graph.run(query).data()"
      ],
      "execution_count": 9,
      "outputs": [
        {
          "output_type": "execute_result",
          "data": {
            "text/plain": [
              "[]"
            ]
          },
          "metadata": {
            "tags": []
          },
          "execution_count": 9
        }
      ]
    },
    {
      "cell_type": "markdown",
      "metadata": {
        "pycharm": {},
        "id": "wsm4DMeQkTL8",
        "colab_type": "text"
      },
      "source": [
        "Check that the full text index has been created by running the following query:"
      ]
    },
    {
      "cell_type": "code",
      "metadata": {
        "pycharm": {},
        "id": "ftuvx94MkTL8",
        "colab_type": "code",
        "colab": {
          "base_uri": "https://localhost:8080/",
          "height": 80
        },
        "outputId": "ae115ddf-c8e3-4e91-885f-2f7150166549"
      },
      "source": [
        "query = \"\"\"\n",
        "CALL db.indexes()\n",
        "YIELD description, indexName, tokenNames, properties, state, type, progress\n",
        "WHERE type = \"node_fulltext\"\n",
        "RETURN *\n",
        "\"\"\"\n",
        "graph.run(query).to_data_frame()"
      ],
      "execution_count": 10,
      "outputs": [
        {
          "output_type": "execute_result",
          "data": {
            "text/html": [
              "<div>\n",
              "<style scoped>\n",
              "    .dataframe tbody tr th:only-of-type {\n",
              "        vertical-align: middle;\n",
              "    }\n",
              "\n",
              "    .dataframe tbody tr th {\n",
              "        vertical-align: top;\n",
              "    }\n",
              "\n",
              "    .dataframe thead th {\n",
              "        text-align: right;\n",
              "    }\n",
              "</style>\n",
              "<table border=\"1\" class=\"dataframe\">\n",
              "  <thead>\n",
              "    <tr style=\"text-align: right;\">\n",
              "      <th></th>\n",
              "      <th>description</th>\n",
              "      <th>indexName</th>\n",
              "      <th>progress</th>\n",
              "      <th>properties</th>\n",
              "      <th>state</th>\n",
              "      <th>tokenNames</th>\n",
              "      <th>type</th>\n",
              "    </tr>\n",
              "  </thead>\n",
              "  <tbody>\n",
              "    <tr>\n",
              "      <th>0</th>\n",
              "      <td>INDEX ON NODE:Article(title, abstract)</td>\n",
              "      <td>articles</td>\n",
              "      <td>100.000</td>\n",
              "      <td>[title, abstract]</td>\n",
              "      <td>ONLINE</td>\n",
              "      <td>[Article]</td>\n",
              "      <td>node_fulltext</td>\n",
              "    </tr>\n",
              "  </tbody>\n",
              "</table>\n",
              "</div>"
            ],
            "text/plain": [
              "                              description indexName  ...  tokenNames           type\n",
              "0  INDEX ON NODE:Article(title, abstract)  articles  ...   [Article]  node_fulltext\n",
              "\n",
              "[1 rows x 7 columns]"
            ]
          },
          "metadata": {
            "tags": []
          },
          "execution_count": 10
        }
      ]
    },
    {
      "cell_type": "markdown",
      "metadata": {
        "pycharm": {},
        "id": "8XqBt6gokTL_",
        "colab_type": "text"
      },
      "source": [
        "You can search the full text index like this:"
      ]
    },
    {
      "cell_type": "code",
      "metadata": {
        "pycharm": {},
        "id": "6LeLgRtRkTL_",
        "colab_type": "code",
        "colab": {
          "base_uri": "https://localhost:8080/",
          "height": 359
        },
        "outputId": "3f1624d1-513f-4783-f757-ac37e772d335"
      },
      "source": [
        "query = \"\"\"\n",
        "CALL db.index.fulltext.queryNodes(\"articles\", \"open source\")\n",
        "YIELD node, score\n",
        "RETURN node.title, score, [(author)<-[:AUTHOR]-(node) | author.name] AS authors\n",
        "LIMIT 10\n",
        "\"\"\"\n",
        "graph.run(query).to_data_frame()"
      ],
      "execution_count": 11,
      "outputs": [
        {
          "output_type": "execute_result",
          "data": {
            "text/html": [
              "<div>\n",
              "<style scoped>\n",
              "    .dataframe tbody tr th:only-of-type {\n",
              "        vertical-align: middle;\n",
              "    }\n",
              "\n",
              "    .dataframe tbody tr th {\n",
              "        vertical-align: top;\n",
              "    }\n",
              "\n",
              "    .dataframe thead th {\n",
              "        text-align: right;\n",
              "    }\n",
              "</style>\n",
              "<table border=\"1\" class=\"dataframe\">\n",
              "  <thead>\n",
              "    <tr style=\"text-align: right;\">\n",
              "      <th></th>\n",
              "      <th>node.title</th>\n",
              "      <th>score</th>\n",
              "      <th>authors</th>\n",
              "    </tr>\n",
              "  </thead>\n",
              "  <tbody>\n",
              "    <tr>\n",
              "      <th>0</th>\n",
              "      <td>Progressive open source</td>\n",
              "      <td>4.252</td>\n",
              "      <td>[Rob Miller, Dean Nelson, Pankaj K. Garg, Jamie Dinkelacker]</td>\n",
              "    </tr>\n",
              "    <tr>\n",
              "      <th>1</th>\n",
              "      <td>Open source application spaces: the 5th workshop on open source software engineering</td>\n",
              "      <td>4.081</td>\n",
              "      <td>[Walt Scacchi, Joseph Feller, Brian Fitzgerald, Krishna K Lakhani, Scott A. Hissam]</td>\n",
              "    </tr>\n",
              "    <tr>\n",
              "      <th>2</th>\n",
              "      <td>Reusing Open-Source Software and Practices: The Impact of Open-Source on Commercial Vendors</td>\n",
              "      <td>4.071</td>\n",
              "      <td>[Alan W. Brown, Grady Booch]</td>\n",
              "    </tr>\n",
              "    <tr>\n",
              "      <th>3</th>\n",
              "      <td>Software architecture in an open source world</td>\n",
              "      <td>3.815</td>\n",
              "      <td>[Roy T. Fielding]</td>\n",
              "    </tr>\n",
              "    <tr>\n",
              "      <th>4</th>\n",
              "      <td>From Research Software to Open Source</td>\n",
              "      <td>3.784</td>\n",
              "      <td>[Susan L. Graham]</td>\n",
              "    </tr>\n",
              "    <tr>\n",
              "      <th>5</th>\n",
              "      <td>Open courseware and open source software</td>\n",
              "      <td>3.693</td>\n",
              "      <td>[Stefan Baldi, Anett Mehler-Bicher, Hauke Heier]</td>\n",
              "    </tr>\n",
              "    <tr>\n",
              "      <th>6</th>\n",
              "      <td>IBM's pragmatic embrace of open source</td>\n",
              "      <td>3.690</td>\n",
              "      <td>[Pamela Samuelson]</td>\n",
              "    </tr>\n",
              "    <tr>\n",
              "      <th>7</th>\n",
              "      <td>When to release in open source project</td>\n",
              "      <td>3.543</td>\n",
              "      <td>[LiGuo Huang, Zeheng Li]</td>\n",
              "    </tr>\n",
              "    <tr>\n",
              "      <th>8</th>\n",
              "      <td>Increased security through open source</td>\n",
              "      <td>3.515</td>\n",
              "      <td>[Jaap-Henk Hoepman, Bart Jacobs]</td>\n",
              "    </tr>\n",
              "    <tr>\n",
              "      <th>9</th>\n",
              "      <td>A look at the economics of open source</td>\n",
              "      <td>3.492</td>\n",
              "      <td>[Robert L. Glass]</td>\n",
              "    </tr>\n",
              "  </tbody>\n",
              "</table>\n",
              "</div>"
            ],
            "text/plain": [
              "                                                                                    node.title  ...                                                                              authors\n",
              "0                                                                      Progressive open source  ...                         [Rob Miller, Dean Nelson, Pankaj K. Garg, Jamie Dinkelacker]\n",
              "1         Open source application spaces: the 5th workshop on open source software engineering  ...  [Walt Scacchi, Joseph Feller, Brian Fitzgerald, Krishna K Lakhani, Scott A. Hissam]\n",
              "2  Reusing Open-Source Software and Practices: The Impact of Open-Source on Commercial Vendors  ...                                                         [Alan W. Brown, Grady Booch]\n",
              "3                                                Software architecture in an open source world  ...                                                                    [Roy T. Fielding]\n",
              "4                                                        From Research Software to Open Source  ...                                                                    [Susan L. Graham]\n",
              "5                                                     Open courseware and open source software  ...                                     [Stefan Baldi, Anett Mehler-Bicher, Hauke Heier]\n",
              "6                                                       IBM's pragmatic embrace of open source  ...                                                                   [Pamela Samuelson]\n",
              "7                                                       When to release in open source project  ...                                                             [LiGuo Huang, Zeheng Li]\n",
              "8                                                       Increased security through open source  ...                                                     [Jaap-Henk Hoepman, Bart Jacobs]\n",
              "9                                                       A look at the economics of open source  ...                                                                    [Robert L. Glass]\n",
              "\n",
              "[10 rows x 3 columns]"
            ]
          },
          "metadata": {
            "tags": []
          },
          "execution_count": 11
        }
      ]
    },
    {
      "cell_type": "markdown",
      "metadata": {
        "pycharm": {},
        "id": "bR-sRERzkTMC",
        "colab_type": "text"
      },
      "source": [
        "Here is a query to find the authors that have published the most articles on 'open source':"
      ]
    },
    {
      "cell_type": "code",
      "metadata": {
        "pycharm": {},
        "id": "NDa8N5QzkTMC",
        "colab_type": "code",
        "colab": {
          "base_uri": "https://localhost:8080/",
          "height": 669
        },
        "outputId": "744477ed-8e5f-44a5-de50-3aa585081217"
      },
      "source": [
        "query = \"\"\"\n",
        "CALL db.index.fulltext.queryNodes(\"articles\", \"open source\")\n",
        "YIELD node, score\n",
        "MATCH (node)-[:AUTHOR]->(author)\n",
        "RETURN author.name, sum(score) AS totalScore, collect(node.title) AS articles\n",
        "ORDER By totalScore DESC\n",
        "LIMIT 20\n",
        "\"\"\"\n",
        "\n",
        "graph.run(query).to_data_frame()"
      ],
      "execution_count": 12,
      "outputs": [
        {
          "output_type": "execute_result",
          "data": {
            "text/html": [
              "<div>\n",
              "<style scoped>\n",
              "    .dataframe tbody tr th:only-of-type {\n",
              "        vertical-align: middle;\n",
              "    }\n",
              "\n",
              "    .dataframe tbody tr th {\n",
              "        vertical-align: top;\n",
              "    }\n",
              "\n",
              "    .dataframe thead th {\n",
              "        text-align: right;\n",
              "    }\n",
              "</style>\n",
              "<table border=\"1\" class=\"dataframe\">\n",
              "  <thead>\n",
              "    <tr style=\"text-align: right;\">\n",
              "      <th></th>\n",
              "      <th>author.name</th>\n",
              "      <th>totalScore</th>\n",
              "      <th>articles</th>\n",
              "    </tr>\n",
              "  </thead>\n",
              "  <tbody>\n",
              "    <tr>\n",
              "      <th>0</th>\n",
              "      <td>Brian Fitzgerald</td>\n",
              "      <td>16.119</td>\n",
              "      <td>[Open source application spaces: the 5th workshop on open source software engineering, The 3rd w...</td>\n",
              "    </tr>\n",
              "    <tr>\n",
              "      <th>1</th>\n",
              "      <td>Joseph Feller</td>\n",
              "      <td>16.012</td>\n",
              "      <td>[Open source application spaces: the 5th workshop on open source software engineering, The 3rd w...</td>\n",
              "    </tr>\n",
              "    <tr>\n",
              "      <th>2</th>\n",
              "      <td>Walt Scacchi</td>\n",
              "      <td>10.731</td>\n",
              "      <td>[Open source application spaces: the 5th workshop on open source software engineering, The futur...</td>\n",
              "    </tr>\n",
              "    <tr>\n",
              "      <th>3</th>\n",
              "      <td>Daniel M. German</td>\n",
              "      <td>10.687</td>\n",
              "      <td>[Open source-style collaborative development practices in commercial projects using GitHub, Mach...</td>\n",
              "    </tr>\n",
              "    <tr>\n",
              "      <th>4</th>\n",
              "      <td>Scott A. Hissam</td>\n",
              "      <td>10.642</td>\n",
              "      <td>[Open source application spaces: the 5th workshop on open source software engineering, The 3rd w...</td>\n",
              "    </tr>\n",
              "    <tr>\n",
              "      <th>5</th>\n",
              "      <td>James D. Herbsleb</td>\n",
              "      <td>10.476</td>\n",
              "      <td>[A case study of a corporate open source development model, Managing a corporate open source sof...</td>\n",
              "    </tr>\n",
              "    <tr>\n",
              "      <th>6</th>\n",
              "      <td>Denys Poshyvanyk</td>\n",
              "      <td>8.907</td>\n",
              "      <td>[Machine learning-based detection of open source license exceptions, Recommending source code fo...</td>\n",
              "    </tr>\n",
              "    <tr>\n",
              "      <th>7</th>\n",
              "      <td>Margaret-Anne D. Storey</td>\n",
              "      <td>8.181</td>\n",
              "      <td>[Understanding broadcast based peer review on open source software projects, Peer Review on Open...</td>\n",
              "    </tr>\n",
              "    <tr>\n",
              "      <th>8</th>\n",
              "      <td>Peter C. Rigby</td>\n",
              "      <td>7.649</td>\n",
              "      <td>[Understanding broadcast based peer review on open source software projects, Peer Review on Open...</td>\n",
              "    </tr>\n",
              "    <tr>\n",
              "      <th>9</th>\n",
              "      <td>Ruchika Malhotra</td>\n",
              "      <td>7.132</td>\n",
              "      <td>[An automated tool for generating change report from open-source software, Cross project change ...</td>\n",
              "    </tr>\n",
              "    <tr>\n",
              "      <th>10</th>\n",
              "      <td>Xavier Franch</td>\n",
              "      <td>7.117</td>\n",
              "      <td>[Risk assessment in open source systems, QuESo a quality model for open source software ecosyste...</td>\n",
              "    </tr>\n",
              "    <tr>\n",
              "      <th>11</th>\n",
              "      <td>Robert L. Glass</td>\n",
              "      <td>6.984</td>\n",
              "      <td>[A look at the economics of open source, A sociopolitical look at open source]</td>\n",
              "    </tr>\n",
              "    <tr>\n",
              "      <th>12</th>\n",
              "      <td>Anita Garvert</td>\n",
              "      <td>6.689</td>\n",
              "      <td>[A case study of a corporate open source development model, Managing a corporate open source sof...</td>\n",
              "    </tr>\n",
              "    <tr>\n",
              "      <th>13</th>\n",
              "      <td>Vijay K. Gurbani</td>\n",
              "      <td>6.689</td>\n",
              "      <td>[A case study of a corporate open source development model, Managing a corporate open source sof...</td>\n",
              "    </tr>\n",
              "    <tr>\n",
              "      <th>14</th>\n",
              "      <td>Karim R. Lakhani</td>\n",
              "      <td>6.560</td>\n",
              "      <td>[The 3rd workshop on open source software engineering, Collaboration, conflict and control: the ...</td>\n",
              "    </tr>\n",
              "    <tr>\n",
              "      <th>15</th>\n",
              "      <td>Martin P. Robillard</td>\n",
              "      <td>6.414</td>\n",
              "      <td>[Disseminating architectural knowledge on open-source projects: a case study of the book \"archit...</td>\n",
              "    </tr>\n",
              "    <tr>\n",
              "      <th>16</th>\n",
              "      <td>Katsuro Inoue</td>\n",
              "      <td>6.190</td>\n",
              "      <td>[Where does this code come from and where does it go? - integrated code history tracker for open...</td>\n",
              "    </tr>\n",
              "    <tr>\n",
              "      <th>17</th>\n",
              "      <td>Gail C. Murphy</td>\n",
              "      <td>6.134</td>\n",
              "      <td>[Open implementation design guidelines, A degree-of-knowledge model to capture source code famil...</td>\n",
              "    </tr>\n",
              "    <tr>\n",
              "      <th>18</th>\n",
              "      <td>Kouichi Kishida</td>\n",
              "      <td>5.563</td>\n",
              "      <td>[Toward an understanding of the motivation of open source software developers, A case study of t...</td>\n",
              "    </tr>\n",
              "    <tr>\n",
              "      <th>19</th>\n",
              "      <td>Igor Steinmacher</td>\n",
              "      <td>5.491</td>\n",
              "      <td>[The hard life of open source software project newcomers, Overcoming open source project entry b...</td>\n",
              "    </tr>\n",
              "  </tbody>\n",
              "</table>\n",
              "</div>"
            ],
            "text/plain": [
              "                author.name  ...                                                                                             articles\n",
              "0          Brian Fitzgerald  ...  [Open source application spaces: the 5th workshop on open source software engineering, The 3rd w...\n",
              "1             Joseph Feller  ...  [Open source application spaces: the 5th workshop on open source software engineering, The 3rd w...\n",
              "2              Walt Scacchi  ...  [Open source application spaces: the 5th workshop on open source software engineering, The futur...\n",
              "3          Daniel M. German  ...  [Open source-style collaborative development practices in commercial projects using GitHub, Mach...\n",
              "4           Scott A. Hissam  ...  [Open source application spaces: the 5th workshop on open source software engineering, The 3rd w...\n",
              "5         James D. Herbsleb  ...  [A case study of a corporate open source development model, Managing a corporate open source sof...\n",
              "6          Denys Poshyvanyk  ...  [Machine learning-based detection of open source license exceptions, Recommending source code fo...\n",
              "7   Margaret-Anne D. Storey  ...  [Understanding broadcast based peer review on open source software projects, Peer Review on Open...\n",
              "8            Peter C. Rigby  ...  [Understanding broadcast based peer review on open source software projects, Peer Review on Open...\n",
              "9          Ruchika Malhotra  ...  [An automated tool for generating change report from open-source software, Cross project change ...\n",
              "10            Xavier Franch  ...  [Risk assessment in open source systems, QuESo a quality model for open source software ecosyste...\n",
              "11          Robert L. Glass  ...                       [A look at the economics of open source, A sociopolitical look at open source]\n",
              "12            Anita Garvert  ...  [A case study of a corporate open source development model, Managing a corporate open source sof...\n",
              "13         Vijay K. Gurbani  ...  [A case study of a corporate open source development model, Managing a corporate open source sof...\n",
              "14         Karim R. Lakhani  ...  [The 3rd workshop on open source software engineering, Collaboration, conflict and control: the ...\n",
              "15      Martin P. Robillard  ...  [Disseminating architectural knowledge on open-source projects: a case study of the book \"archit...\n",
              "16            Katsuro Inoue  ...  [Where does this code come from and where does it go? - integrated code history tracker for open...\n",
              "17           Gail C. Murphy  ...  [Open implementation design guidelines, A degree-of-knowledge model to capture source code famil...\n",
              "18          Kouichi Kishida  ...  [Toward an understanding of the motivation of open source software developers, A case study of t...\n",
              "19         Igor Steinmacher  ...  [The hard life of open source software project newcomers, Overcoming open source project entry b...\n",
              "\n",
              "[20 rows x 3 columns]"
            ]
          },
          "metadata": {
            "tags": []
          },
          "execution_count": 12
        }
      ]
    },
    {
      "cell_type": "markdown",
      "metadata": {
        "pycharm": {},
        "id": "5TPEGls4kTME",
        "colab_type": "text"
      },
      "source": [
        "Next, use full text search and Personalized PageRank to find interesting articles for different authors:"
      ]
    },
    {
      "cell_type": "code",
      "metadata": {
        "pycharm": {},
        "id": "mnjpC5QKkTMF",
        "colab_type": "code",
        "colab": {
          "base_uri": "https://localhost:8080/",
          "height": 359
        },
        "outputId": "085e80a0-8382-4687-acbb-ec90486e1e1c"
      },
      "source": [
        "query = \"\"\"\n",
        "MATCH (a:Author {name: $author})<-[:AUTHOR]-(article)-[:CITED]->(other)\n",
        "WITH a, collect(article) + collect(other) AS sourceNodes\n",
        "CALL algo.pageRank.stream(\n",
        "  'CALL db.index.fulltext.queryNodes(\"articles\", $searchTerm)\n",
        "   YIELD node, score\n",
        "   RETURN id(node) as id',\n",
        "  'MATCH (a1:Article)-[:CITED]->(a2:Article) \n",
        "   RETURN id(a1) as source,id(a2) as target', \n",
        "  {sourceNodes: sourceNodes,graph:'cypher', params: {searchTerm: $searchTerm}})\n",
        "YIELD nodeId, score\n",
        "WITH algo.getNodeById(nodeId) AS n, score\n",
        "WHERE not(exists((a)<-[:AUTHOR]-(n))) AND score > 0\n",
        "RETURN n.title as article, score, [(n)-[:AUTHOR]->(author) | author.name][..5] AS authors\n",
        "order by score desc limit 10\n",
        "\"\"\"\n",
        "\n",
        "params = {\"author\": \"Tao Xie\", \"searchTerm\": \"open source\"}\n",
        "graph.run(query, params).to_data_frame()"
      ],
      "execution_count": 13,
      "outputs": [
        {
          "output_type": "execute_result",
          "data": {
            "text/html": [
              "<div>\n",
              "<style scoped>\n",
              "    .dataframe tbody tr th:only-of-type {\n",
              "        vertical-align: middle;\n",
              "    }\n",
              "\n",
              "    .dataframe tbody tr th {\n",
              "        vertical-align: top;\n",
              "    }\n",
              "\n",
              "    .dataframe thead th {\n",
              "        text-align: right;\n",
              "    }\n",
              "</style>\n",
              "<table border=\"1\" class=\"dataframe\">\n",
              "  <thead>\n",
              "    <tr style=\"text-align: right;\">\n",
              "      <th></th>\n",
              "      <th>article</th>\n",
              "      <th>score</th>\n",
              "      <th>authors</th>\n",
              "    </tr>\n",
              "  </thead>\n",
              "  <tbody>\n",
              "    <tr>\n",
              "      <th>0</th>\n",
              "      <td>Static detection of cross-site scripting vulnerabilities</td>\n",
              "      <td>0.386</td>\n",
              "      <td>[Zhendong Su, Gary Wassermann]</td>\n",
              "    </tr>\n",
              "    <tr>\n",
              "      <th>1</th>\n",
              "      <td>Concern graphs: finding and describing concerns using structural program dependencies</td>\n",
              "      <td>0.278</td>\n",
              "      <td>[Gail C. Murphy, Martin P. Robillard]</td>\n",
              "    </tr>\n",
              "    <tr>\n",
              "      <th>2</th>\n",
              "      <td>Characterizing logging practices in open-source software</td>\n",
              "      <td>0.278</td>\n",
              "      <td>[Ding Yuan, Soyeon Park, Yuanyuan Zhou]</td>\n",
              "    </tr>\n",
              "    <tr>\n",
              "      <th>3</th>\n",
              "      <td>Automated, contract-based user testing of commercial-off-the-shelf components</td>\n",
              "      <td>0.278</td>\n",
              "      <td>[Lionel C. Briand, Yvan Labiche, Michal M. Sówka]</td>\n",
              "    </tr>\n",
              "    <tr>\n",
              "      <th>4</th>\n",
              "      <td>Who should fix this bug</td>\n",
              "      <td>0.278</td>\n",
              "      <td>[Lyndon Hiew, John Anvik, Gail C. Murphy]</td>\n",
              "    </tr>\n",
              "    <tr>\n",
              "      <th>5</th>\n",
              "      <td>Conceptual module querying for software reengineering</td>\n",
              "      <td>0.236</td>\n",
              "      <td>[Gail C. Murphy, Elisa L. A. Baniassad]</td>\n",
              "    </tr>\n",
              "    <tr>\n",
              "      <th>6</th>\n",
              "      <td>Semantics-based code search</td>\n",
              "      <td>0.150</td>\n",
              "      <td>[Steven P. Reiss]</td>\n",
              "    </tr>\n",
              "    <tr>\n",
              "      <th>7</th>\n",
              "      <td>Bandera: extracting finite-state models from Java source code</td>\n",
              "      <td>0.150</td>\n",
              "      <td>[Matthew B. Dwyer, Hongjun Zheng, James C. Corbett, Shawn Laubach, John Hatcliff]</td>\n",
              "    </tr>\n",
              "    <tr>\n",
              "      <th>8</th>\n",
              "      <td>AsDroid: detecting stealthy behaviors in Android applications by user interface and program beha...</td>\n",
              "      <td>0.150</td>\n",
              "      <td>[Lin Tan, Jianjun Huang, Xiangyu Zhang, Bin Liang, Peng Wang]</td>\n",
              "    </tr>\n",
              "    <tr>\n",
              "      <th>9</th>\n",
              "      <td>EXSYST: search-based GUI testing</td>\n",
              "      <td>0.128</td>\n",
              "      <td>[Andreas Zeller, Gordon Fraser, Florian Gross]</td>\n",
              "    </tr>\n",
              "  </tbody>\n",
              "</table>\n",
              "</div>"
            ],
            "text/plain": [
              "                                                                                               article  ...                                                                            authors\n",
              "0                                             Static detection of cross-site scripting vulnerabilities  ...                                                     [Zhendong Su, Gary Wassermann]\n",
              "1                Concern graphs: finding and describing concerns using structural program dependencies  ...                                              [Gail C. Murphy, Martin P. Robillard]\n",
              "2                                             Characterizing logging practices in open-source software  ...                                            [Ding Yuan, Soyeon Park, Yuanyuan Zhou]\n",
              "3                        Automated, contract-based user testing of commercial-off-the-shelf components  ...                                  [Lionel C. Briand, Yvan Labiche, Michal M. Sówka]\n",
              "4                                                                              Who should fix this bug  ...                                          [Lyndon Hiew, John Anvik, Gail C. Murphy]\n",
              "5                                                Conceptual module querying for software reengineering  ...                                            [Gail C. Murphy, Elisa L. A. Baniassad]\n",
              "6                                                                          Semantics-based code search  ...                                                                  [Steven P. Reiss]\n",
              "7                                        Bandera: extracting finite-state models from Java source code  ...  [Matthew B. Dwyer, Hongjun Zheng, James C. Corbett, Shawn Laubach, John Hatcliff]\n",
              "8  AsDroid: detecting stealthy behaviors in Android applications by user interface and program beha...  ...                      [Lin Tan, Jianjun Huang, Xiangyu Zhang, Bin Liang, Peng Wang]\n",
              "9                                                                     EXSYST: search-based GUI testing  ...                                     [Andreas Zeller, Gordon Fraser, Florian Gross]\n",
              "\n",
              "[10 rows x 3 columns]"
            ]
          },
          "metadata": {
            "tags": []
          },
          "execution_count": 13
        }
      ]
    },
    {
      "cell_type": "markdown",
      "metadata": {
        "pycharm": {},
        "id": "OmBWY0RMkTMI",
        "colab_type": "text"
      },
      "source": [
        "Execute the same query with a different author:"
      ]
    },
    {
      "cell_type": "code",
      "metadata": {
        "pycharm": {},
        "id": "mQwJSwV1kTMJ",
        "colab_type": "code",
        "colab": {
          "base_uri": "https://localhost:8080/",
          "height": 359
        },
        "outputId": "adcbbe82-8738-4d17-ed5c-efd88500dc26"
      },
      "source": [
        "params = {\"author\": \"Marco Aurélio Gerosa\", \"searchTerm\": \"open source\"}\n",
        "graph.run(query, params).to_data_frame()"
      ],
      "execution_count": 14,
      "outputs": [
        {
          "output_type": "execute_result",
          "data": {
            "text/html": [
              "<div>\n",
              "<style scoped>\n",
              "    .dataframe tbody tr th:only-of-type {\n",
              "        vertical-align: middle;\n",
              "    }\n",
              "\n",
              "    .dataframe tbody tr th {\n",
              "        vertical-align: top;\n",
              "    }\n",
              "\n",
              "    .dataframe thead th {\n",
              "        text-align: right;\n",
              "    }\n",
              "</style>\n",
              "<table border=\"1\" class=\"dataframe\">\n",
              "  <thead>\n",
              "    <tr style=\"text-align: right;\">\n",
              "      <th></th>\n",
              "      <th>article</th>\n",
              "      <th>score</th>\n",
              "      <th>authors</th>\n",
              "    </tr>\n",
              "  </thead>\n",
              "  <tbody>\n",
              "    <tr>\n",
              "      <th>0</th>\n",
              "      <td>Toward an understanding of the motivation of open source software developers</td>\n",
              "      <td>0.388</td>\n",
              "      <td>[Yunwen Ye, Kouichi Kishida]</td>\n",
              "    </tr>\n",
              "    <tr>\n",
              "      <th>1</th>\n",
              "      <td>Hipikat: recommending pertinent software development artifacts</td>\n",
              "      <td>0.322</td>\n",
              "      <td>[Gail C. Murphy, Davor Cubranic]</td>\n",
              "    </tr>\n",
              "    <tr>\n",
              "      <th>2</th>\n",
              "      <td>Version Sensitive Editing: Change History as a Programming Tool</td>\n",
              "      <td>0.274</td>\n",
              "      <td>[David L. Atkins]</td>\n",
              "    </tr>\n",
              "    <tr>\n",
              "      <th>3</th>\n",
              "      <td>Which bug should I fix: helping new developers onboard a new project</td>\n",
              "      <td>0.239</td>\n",
              "      <td>[Jianguo Wang, Anita Sarma]</td>\n",
              "    </tr>\n",
              "    <tr>\n",
              "      <th>4</th>\n",
              "      <td>Tesseract: Interactive visual exploration of socio-technical relationships in software development</td>\n",
              "      <td>0.203</td>\n",
              "      <td>[Anita Sarma, Larry Maccherone, Patrick Wagstrom, James D. Herbsleb]</td>\n",
              "    </tr>\n",
              "    <tr>\n",
              "      <th>5</th>\n",
              "      <td>Role Migration and Advancement Processes in OSSD Projects: A Comparative Case Study</td>\n",
              "      <td>0.175</td>\n",
              "      <td>[Walt Scacchi, Chris Jensen]</td>\n",
              "    </tr>\n",
              "    <tr>\n",
              "      <th>6</th>\n",
              "      <td>Does the initial environment impact the future of developers</td>\n",
              "      <td>0.175</td>\n",
              "      <td>[Minghui Zhou, Audris Mockus]</td>\n",
              "    </tr>\n",
              "    <tr>\n",
              "      <th>7</th>\n",
              "      <td>Unifying artifacts and activities in a visual tool for distributed software development teams</td>\n",
              "      <td>0.173</td>\n",
              "      <td>[Jon Froehlich, Paul Dourish]</td>\n",
              "    </tr>\n",
              "    <tr>\n",
              "      <th>8</th>\n",
              "      <td>A case study of open source software development: the Apache server</td>\n",
              "      <td>0.110</td>\n",
              "      <td>[James D. Herbsleb, Audris Mockus, Roy Fielding]</td>\n",
              "    </tr>\n",
              "    <tr>\n",
              "      <th>9</th>\n",
              "      <td>A case study of the evolution of Jun: an object-oriented open-source 3D multimedia library</td>\n",
              "      <td>0.110</td>\n",
              "      <td>[Yoshiyuki Nishinaka, Atsushi Aoki, Kouichi Kishida, Y. Yamamoto, Kaoru Hayashi]</td>\n",
              "    </tr>\n",
              "  </tbody>\n",
              "</table>\n",
              "</div>"
            ],
            "text/plain": [
              "                                                                                              article  ...                                                                           authors\n",
              "0                        Toward an understanding of the motivation of open source software developers  ...                                                      [Yunwen Ye, Kouichi Kishida]\n",
              "1                                      Hipikat: recommending pertinent software development artifacts  ...                                                  [Gail C. Murphy, Davor Cubranic]\n",
              "2                                     Version Sensitive Editing: Change History as a Programming Tool  ...                                                                 [David L. Atkins]\n",
              "3                                Which bug should I fix: helping new developers onboard a new project  ...                                                       [Jianguo Wang, Anita Sarma]\n",
              "4  Tesseract: Interactive visual exploration of socio-technical relationships in software development  ...              [Anita Sarma, Larry Maccherone, Patrick Wagstrom, James D. Herbsleb]\n",
              "5                 Role Migration and Advancement Processes in OSSD Projects: A Comparative Case Study  ...                                                      [Walt Scacchi, Chris Jensen]\n",
              "6                                        Does the initial environment impact the future of developers  ...                                                     [Minghui Zhou, Audris Mockus]\n",
              "7       Unifying artifacts and activities in a visual tool for distributed software development teams  ...                                                     [Jon Froehlich, Paul Dourish]\n",
              "8                                 A case study of open source software development: the Apache server  ...                                  [James D. Herbsleb, Audris Mockus, Roy Fielding]\n",
              "9          A case study of the evolution of Jun: an object-oriented open-source 3D multimedia library  ...  [Yoshiyuki Nishinaka, Atsushi Aoki, Kouichi Kishida, Y. Yamamoto, Kaoru Hayashi]\n",
              "\n",
              "[10 rows x 3 columns]"
            ]
          },
          "metadata": {
            "tags": []
          },
          "execution_count": 14
        }
      ]
    }
  ]
}