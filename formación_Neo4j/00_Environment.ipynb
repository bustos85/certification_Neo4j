{
  "nbformat": 4,
  "nbformat_minor": 0,
  "metadata": {
    "kernelspec": {
      "display_name": "Python 3",
      "language": "python",
      "name": "python3"
    },
    "language_info": {
      "codemirror_mode": {
        "name": "ipython",
        "version": 3
      },
      "file_extension": ".py",
      "mimetype": "text/x-python",
      "name": "python",
      "nbconvert_exporter": "python",
      "pygments_lexer": "ipython3",
      "version": "3.6.7"
    },
    "colab": {
      "name": "00_Environment.ipynb",
      "provenance": []
    }
  },
  "cells": [
    {
      "cell_type": "markdown",
      "metadata": {
        "pycharm": {},
        "id": "4TU02mkYU_14",
        "colab_type": "text"
      },
      "source": [
        "# Setting up your environment\n",
        "\n",
        "In this notebook you will set up the python environment for the course.\n",
        "\n",
        "## Libraries\n",
        "\n",
        "First you will install some libraries that are required for the exercises.\n",
        "\n",
        "Note: When you execute your first command for the notebook you will be asked if you want to reset all runtimes before running.\n",
        "This option should be unticked so you can use your credentials across notebooks.\n",
        "\n",
        "<div align=\"left\">\n",
        "    <img src=\"https://github.com/neo4j-contrib/training-v2/blob/master/Courses/DataScience/notebooks/images/google-colab.png?raw=1\" alt=\"Google Colabatory\"/>\n",
        "</div>\n",
        "\n",
        "\n",
        "Run this first command in the notebook by clicking the run cell icon to the left of the command: \n"
      ]
    },
    {
      "cell_type": "code",
      "metadata": {
        "pycharm": {},
        "id": "Xk1BGH29U_15",
        "colab_type": "code",
        "colab": {
          "base_uri": "https://localhost:8080/",
          "height": 547
        },
        "outputId": "47587110-0ad6-4cc6-f31a-013f951ced1a"
      },
      "source": [
        "!pip install py2neo==4.1.3 pandas matplotlib sklearn"
      ],
      "execution_count": 4,
      "outputs": [
        {
          "output_type": "stream",
          "text": [
            "Requirement already satisfied: py2neo==4.1.3 in /usr/local/lib/python3.6/dist-packages (4.1.3)\n",
            "Requirement already satisfied: pandas in /usr/local/lib/python3.6/dist-packages (1.0.3)\n",
            "Requirement already satisfied: matplotlib in /usr/local/lib/python3.6/dist-packages (3.2.1)\n",
            "Requirement already satisfied: sklearn in /usr/local/lib/python3.6/dist-packages (0.0)\n",
            "Requirement already satisfied: neotime==1.0.0 in /usr/local/lib/python3.6/dist-packages (from py2neo==4.1.3) (1.0.0)\n",
            "Requirement already satisfied: pygments>=2.0 in /usr/local/lib/python3.6/dist-packages (from py2neo==4.1.3) (2.1.3)\n",
            "Requirement already satisfied: pytest in /usr/local/lib/python3.6/dist-packages (from py2neo==4.1.3) (3.6.4)\n",
            "Requirement already satisfied: click>=2.0 in /usr/local/lib/python3.6/dist-packages (from py2neo==4.1.3) (7.1.1)\n",
            "Requirement already satisfied: neo4j-driver<1.7,>=1.6.2 in /usr/local/lib/python3.6/dist-packages (from py2neo==4.1.3) (1.6.3)\n",
            "Requirement already satisfied: colorama in /usr/local/lib/python3.6/dist-packages (from py2neo==4.1.3) (0.4.3)\n",
            "Requirement already satisfied: prompt-toolkit==1.0.15 in /usr/local/lib/python3.6/dist-packages (from py2neo==4.1.3) (1.0.15)\n",
            "Requirement already satisfied: urllib3[secure]<1.23,>=1.21.1 in /usr/local/lib/python3.6/dist-packages (from py2neo==4.1.3) (1.22)\n",
            "Requirement already satisfied: numpy>=1.13.3 in /usr/local/lib/python3.6/dist-packages (from pandas) (1.18.3)\n",
            "Requirement already satisfied: python-dateutil>=2.6.1 in /usr/local/lib/python3.6/dist-packages (from pandas) (2.8.1)\n",
            "Requirement already satisfied: pytz>=2017.2 in /usr/local/lib/python3.6/dist-packages (from pandas) (2018.9)\n",
            "Requirement already satisfied: kiwisolver>=1.0.1 in /usr/local/lib/python3.6/dist-packages (from matplotlib) (1.2.0)\n",
            "Requirement already satisfied: cycler>=0.10 in /usr/local/lib/python3.6/dist-packages (from matplotlib) (0.10.0)\n",
            "Requirement already satisfied: pyparsing!=2.0.4,!=2.1.2,!=2.1.6,>=2.0.1 in /usr/local/lib/python3.6/dist-packages (from matplotlib) (2.4.7)\n",
            "Requirement already satisfied: scikit-learn in /usr/local/lib/python3.6/dist-packages (from sklearn) (0.22.2.post1)\n",
            "Requirement already satisfied: six in /usr/local/lib/python3.6/dist-packages (from neotime==1.0.0->py2neo==4.1.3) (1.12.0)\n",
            "Requirement already satisfied: atomicwrites>=1.0 in /usr/local/lib/python3.6/dist-packages (from pytest->py2neo==4.1.3) (1.3.0)\n",
            "Requirement already satisfied: py>=1.5.0 in /usr/local/lib/python3.6/dist-packages (from pytest->py2neo==4.1.3) (1.8.1)\n",
            "Requirement already satisfied: setuptools in /usr/local/lib/python3.6/dist-packages (from pytest->py2neo==4.1.3) (46.1.3)\n",
            "Requirement already satisfied: pluggy<0.8,>=0.5 in /usr/local/lib/python3.6/dist-packages (from pytest->py2neo==4.1.3) (0.7.1)\n",
            "Requirement already satisfied: more-itertools>=4.0.0 in /usr/local/lib/python3.6/dist-packages (from pytest->py2neo==4.1.3) (8.2.0)\n",
            "Requirement already satisfied: attrs>=17.4.0 in /usr/local/lib/python3.6/dist-packages (from pytest->py2neo==4.1.3) (19.3.0)\n",
            "Requirement already satisfied: wcwidth in /usr/local/lib/python3.6/dist-packages (from prompt-toolkit==1.0.15->py2neo==4.1.3) (0.1.9)\n",
            "Requirement already satisfied: certifi; extra == \"secure\" in /usr/local/lib/python3.6/dist-packages (from urllib3[secure]<1.23,>=1.21.1->py2neo==4.1.3) (2020.4.5.1)\n",
            "Requirement already satisfied: joblib>=0.11 in /usr/local/lib/python3.6/dist-packages (from scikit-learn->sklearn) (0.14.1)\n",
            "Requirement already satisfied: scipy>=0.17.0 in /usr/local/lib/python3.6/dist-packages (from scikit-learn->sklearn) (1.4.1)\n"
          ],
          "name": "stdout"
        }
      ]
    },
    {
      "cell_type": "markdown",
      "metadata": {
        "pycharm": {},
        "id": "qgw9ZrDKU_19",
        "colab_type": "text"
      },
      "source": [
        "\n",
        "If you see warnings or errors when you run this command, re-run the command. It should run with no errors.\n",
        "\n",
        "Start by importing py2neo library which we use to import the data into Neo4j. py2neo is a client library and toolkit for working with Neo4j from within Python applications. It is well suited for Data Science workflows and has great integration with other Python Data Science tools. Run this cell:"
      ]
    },
    {
      "cell_type": "code",
      "metadata": {
        "pycharm": {},
        "id": "XJAihYSXU_1-",
        "colab_type": "code",
        "colab": {}
      },
      "source": [
        "from py2neo import Graph"
      ],
      "execution_count": 0,
      "outputs": []
    },
    {
      "cell_type": "markdown",
      "metadata": {
        "pycharm": {},
        "id": "cvwdJMZlU_2A",
        "colab_type": "text"
      },
      "source": [
        "## Sandbox\n",
        "\n",
        "You should already have a Neo4j Citations Sandbox running. Select the arrow to the right of the *Open Neo4j Browser* button for the Citations Sandbox so that you can see the *Connection Details* which include the Bolt URL and Password for the Sandbox.\n"
      ]
    },
    {
      "cell_type": "code",
      "metadata": {
        "pycharm": {},
        "id": "HGJjYrWpU_2B",
        "colab_type": "code",
        "colab": {}
      },
      "source": [
        "# Change the line of code below to use the Bolt URL,  and Password of your Sandbox.\n",
        "# graph = Graph(\"<Bolt URL>\", auth=(\"neo4j\", \"<Password>\")) \n",
        "\n",
        "graph = Graph(\"bolt://18.207.236.67:32919\", auth=(\"neo4j\", \"age-hangars-starboard\"))"
      ],
      "execution_count": 0,
      "outputs": []
    },
    {
      "cell_type": "markdown",
      "metadata": {
        "pycharm": {},
        "id": "raEBbvB7U_2D",
        "colab_type": "text"
      },
      "source": [
        "\n",
        "If that works fine, and no exceptions are thrown, you have verified that you can connect to the Neo4j Sandbox from your notebook and you are ready to continue with the rest of the course!\n",
        "\n",
        "**Keep this notebook open as you will need to copy the credentials into the other notebooks!**"
      ]
    }
  ]
}